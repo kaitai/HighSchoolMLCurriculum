{
 "cells": [
  {
   "cell_type": "markdown",
   "metadata": {},
   "source": [
    "<font color=gray>This Jupyter notebook was created by Mark Bunday for \\the\\world Girls' Machine Learning Day Camp. The license can be found at the bottom of the notebook.</font>\n",
    "\n",
    "# Vectorization\n",
    "\n",
    "### What is vectorization? \n",
    "\n",
    "When we learned about for-loops, we saw how they can be used to apply operations to the elements of a list sequentially, one-by-one."
   ]
  },
  {
   "cell_type": "code",
   "execution_count": 10,
   "metadata": {},
   "outputs": [
    {
     "name": "stdout",
     "output_type": "stream",
     "text": [
      "1\n",
      "two\n",
      "3\n",
      "4\n",
      "five\n",
      "six\n"
     ]
    }
   ],
   "source": [
    "numbers_and_words = [1, \"two\", 3, 4, \"five\", \"six\"]\n",
    "# This for-loop prints out each item in the \"numbers_and_words\" list.\n",
    "for item in numbers_and_words:\n",
    "    print(item)"
   ]
  },
  {
   "cell_type": "markdown",
   "metadata": {},
   "source": [
    "**Arrays** in Python are like lists, but they consist of only a single type of data, e.g. only numbers or only words. We define arrays using the \"numpy\" library in Python."
   ]
  },
  {
   "cell_type": "code",
   "execution_count": 23,
   "metadata": {},
   "outputs": [
    {
     "name": "stdout",
     "output_type": "stream",
     "text": [
      "[1 3 4]\n",
      "['two' 'five' 'six']\n"
     ]
    }
   ],
   "source": [
    "import numpy as np\n",
    "\n",
    "numbers = np.array([1, 3, 4])\n",
    "words = np.array([\"two\", \"five\", \"six\"])\n",
    "print(numbers)\n",
    "print(words)"
   ]
  },
  {
   "cell_type": "markdown",
   "metadata": {},
   "source": [
    "If we try and make a numbers_and_words array it will automatically convert the numbers to strings. Remember, arrays can only have a single type of element, unlike lists which can be mixed. "
   ]
  },
  {
   "cell_type": "code",
   "execution_count": 26,
   "metadata": {},
   "outputs": [
    {
     "name": "stdout",
     "output_type": "stream",
     "text": [
      "['1' '2' '3' 'four']\n",
      "<class 'numpy.str_'>\n"
     ]
    }
   ],
   "source": [
    "numbers_and_words = np.array([1, 2, 3, \"four\"])\n",
    "print(numbers_and_words)  \n",
    "# You can see the qoutation marks around '1', '2', '3'\n",
    "# these indicate they were converted to strings\n",
    "\n",
    "# Let's check the type of the first element (1)\n",
    "print(type(numbers_and_words[0]))"
   ]
  },
  {
   "cell_type": "markdown",
   "metadata": {},
   "source": [
    "Why are arrays useful? If we know all of the elements are the same, we can **vectorize** any operation on it. **Vectorization** means instead of applying on operation each element one-by-one, which is what for-loops do, *we apply the operation once to the entire array.*\n",
    "\n",
    "This might be a little confusing, so let's go through a simple example. \n",
    "\n",
    "### Example: Organizing Books\n",
    "\n",
    "Imagine you work at the library. Bob just dropped off a pile of six books and you need to return them to their proper section based on whether they're fiction or non-fiction. We could represent this pile using a list like we learned before: "
   ]
  },
  {
   "cell_type": "code",
   "execution_count": 33,
   "metadata": {},
   "outputs": [],
   "source": [
    "returned_books = [\"Fiction\", \"Non-Fiction\", \"Fiction\", \"Fiction\", \"Non-Fiction\"]"
   ]
  },
  {
   "cell_type": "markdown",
   "metadata": {},
   "source": [
    "We want to \n",
    "\n",
    "1. Go through the book pile one-by-one\n",
    "\n",
    "2. Determine whether each book is Fiction or Non-Fiction\n",
    "\n",
    "3. Based on 2., return the book to the right section  \n",
    "\n",
    "Let's also say that it takes \n",
    "\n",
    "* 2 seconds to determine if a book is Fiction or Non-Fiction\n",
    "\n",
    "* 6 seconds to return a book to the Non-Fiction section\n",
    "\n",
    "* 10 seconds to return a book to the Fiction section\n",
    "\n",
    "We could represent this routine, or process, using a for-loop and an if-else statement like we learned before: "
   ]
  },
  {
   "cell_type": "code",
   "execution_count": 35,
   "metadata": {},
   "outputs": [
    {
     "name": "stdout",
     "output_type": "stream",
     "text": [
      "Returned to Fiction section!\n",
      "Returned to Non-Fiction section!\n",
      "Returned to Fiction section!\n",
      "Returned to Fiction section!\n",
      "Returned to Non-Fiction section!\n",
      "The time to return all 5 books was 52 seconds!\n"
     ]
    }
   ],
   "source": [
    "def return_book(book):\n",
    "    print(f\"Returned to {book} section!\")\n",
    "\n",
    "time = 0\n",
    "for book in returned_books:\n",
    "    time = time + 2\n",
    "    if book == \"Fiction\":\n",
    "        time = time + 10 \n",
    "        return_book(book)\n",
    "    else:  # Otherwise, it must be Non-Fiction\n",
    "        time = time + 6 \n",
    "        return_book(book)\n",
    "print(f\"The time to return all {len(returned_books)} books was {time} seconds!\")"
   ]
  },
  {
   "cell_type": "markdown",
   "metadata": {},
   "source": [
    "What would make this process more efficient? Is this how you would do it in real life? What's slowing the process down? \n",
    "\n",
    "Part of the problem is it takes 2 seconds to check each book and every book in the pile needs to be checked to determine whether it belongs in the Fiction or Non-Fiction section. That only adds up to 12 seconds when you have 6 books, but what if you had 100? 1,000? If we didn't have to check at all, then that's the same as saying the time to check 1 book is the same as the time to check 1,000! This is where arrays start to be useful. \n",
    "\n",
    "The second problem is that each book is processed one-by-one in order. It would be more efficient if we could return multiple books at once since books in the same genre are all going to the same place anyway. In fact, that's exactly what **vectorization** does! \n",
    "\n",
    "Let's imagine a second person, Sarah, returns 12 books but she tells us all of them are Fiction books beforehand. How much time does it take to return these 12 books? Well, we don't need to check what genre they are, and because they're all going to the same section, if we're brave enough we can just return all 12 at once which would only take us 6 seconds total. "
   ]
  },
  {
   "cell_type": "markdown",
   "metadata": {},
   "source": [
    "### How do we use vectorization in Python? \n",
    "\n",
    "Vectorization in Python is easy because you can apply operations directly to arrays, unlike lists! \n",
    "\n",
    "For example, let's say we want to multiply a list of numbers by 2. How would we do this with a list? "
   ]
  },
  {
   "cell_type": "code",
   "execution_count": 37,
   "metadata": {},
   "outputs": [
    {
     "name": "stdout",
     "output_type": "stream",
     "text": [
      "[2, 4, 6, 8, 10, 12, 14, 16, 18, 10]\n"
     ]
    }
   ],
   "source": [
    "numbers = [1,2,3,4,5,6,7,8,9,10]\n",
    "# This for-loop iterates through each position (0-9)\n",
    "# in the numbers list above and multiplies each\n",
    "# number in each position by 2\n",
    "for position in range(0,9):\n",
    "    numbers[position] = numbers[position] * 2\n",
    "\n",
    "print(numbers)"
   ]
  },
  {
   "cell_type": "markdown",
   "metadata": {},
   "source": [
    "How would we do this using an array? "
   ]
  },
  {
   "cell_type": "code",
   "execution_count": 70,
   "metadata": {},
   "outputs": [
    {
     "name": "stdout",
     "output_type": "stream",
     "text": [
      "[ 2  4  6  8 10 12 14 16 18 20]\n"
     ]
    }
   ],
   "source": [
    "numbers_array = np.array([1,2,3,4,5,6,7,8,9,10])  # Define our array\n",
    "numbers_array = numbers_array * 2\n",
    "print(numbers_array)"
   ]
  },
  {
   "cell_type": "markdown",
   "metadata": {},
   "source": [
    "As you can see, we don't even need to write a for-loop! Because we know that everything in the array is a number, we can simply multiply the whole thing by 2, which is equivalent to multipling each element in the array by 2. With a list, the same operation isn't allowed because it *could* contain elements other than numbers, in which case multiplcation would make no sense. "
   ]
  },
  {
   "cell_type": "markdown",
   "metadata": {},
   "source": [
    "We can other arithmatic operations, too!"
   ]
  },
  {
   "cell_type": "code",
   "execution_count": 72,
   "metadata": {},
   "outputs": [
    {
     "name": "stdout",
     "output_type": "stream",
     "text": [
      "[14 16 18 20 22 24 26 28 30 32]\n",
      "[ 1.  2.  3.  4.  5.  6.  7.  8.  9. 10.]\n",
      "[ 4  8 12 16 20 24 28 32 36 40]\n",
      "[  4  16  36  64 100 144 196 256 324 400]\n"
     ]
    }
   ],
   "source": [
    "print(numbers_array + 12)\n",
    "print(numbers_array / 2)\n",
    "print(numbers_array + numbers_array)\n",
    "print(numbers_array * numbers_array)"
   ]
  },
  {
   "cell_type": "markdown",
   "metadata": {},
   "source": [
    "Let's look at some simple performance metrics now. "
   ]
  },
  {
   "cell_type": "code",
   "execution_count": 65,
   "metadata": {},
   "outputs": [
    {
     "name": "stdout",
     "output_type": "stream",
     "text": [
      "0.39556793799965817\n",
      "0.00825037100003101\n"
     ]
    }
   ],
   "source": [
    "import numpy as np\n",
    "from timeit import Timer\n",
    "\n",
    "numbers = list(range(500_000))\n",
    "numbers_array = np.array(list(range(500_000)))\n",
    "\n",
    "def for_loop_add():\n",
    "    for i in range(len(numbers)):\n",
    "        numbers[i] = numbers[i] + 1\n",
    "    return numbers\n",
    "\n",
    "def vectorized_add():\n",
    "    return numbers_array + 1\n",
    "\n",
    "# Both of these functions do the same thing:\n",
    "# They add 1 to each element of a list of 500,000\n",
    "# Let's run them both 10 times and record the fastest\n",
    "# time for the for-loop and the vectorized version.\n",
    "print(min(Timer(python_for).repeat(10, 10)))\n",
    "print(min(Timer(numpy_add).repeat(10, 10)))"
   ]
  },
  {
   "cell_type": "markdown",
   "metadata": {},
   "source": [
    "We can see that the vectorized version is much faster than the for-loop. As the size of the list grows, the for-loop should get slower and slower while the vectorized version should remain nice and fast. "
   ]
  },
  {
   "cell_type": "markdown",
   "metadata": {},
   "source": [
    "<font color=gray>Copyright (c) 2019 Mark Bunday</font>\n",
    "<br><br>\n",
    "<font color=gray>Permission is hereby granted, free of charge, to any person obtaining a copy\n",
    "of this software and associated documentation files (the \"Software\"), to deal\n",
    "in the Software without restriction, including without limitation the rights\n",
    "to use, copy, modify, merge, publish, distribute, sublicense, and/or sell\n",
    "copies of the Software, and to permit persons to whom the Software is\n",
    "furnished to do so, subject to the following conditions:</font>\n",
    "<br><br>\n",
    "<font color=gray>The above copyright notice and this permission notice shall be included in all\n",
    "copies or substantial portions of the Software.</font>\n",
    "<br><br>\n",
    "<font color=gray>THE SOFTWARE IS PROVIDED \"AS IS\", WITHOUT WARRANTY OF ANY KIND, EXPRESS OR\n",
    "IMPLIED, INCLUDING BUT NOT LIMITED TO THE WARRANTIES OF MERCHANTABILITY,\n",
    "FITNESS FOR A PARTICULAR PURPOSE AND NONINFRINGEMENT. IN NO EVENT SHALL THE\n",
    "AUTHORS OR COPYRIGHT HOLDERS BE LIABLE FOR ANY CLAIM, DAMAGES OR OTHER\n",
    "LIABILITY, WHETHER IN AN ACTION OF CONTRACT, TORT OR OTHERWISE, ARISING FROM,\n",
    "OUT OF OR IN CONNECTION WITH THE SOFTWARE OR THE USE OR OTHER DEALINGS IN THE\n",
    "SOFTWARE.</font>"
   ]
  }
 ],
 "metadata": {
  "kernelspec": {
   "display_name": "Python 3",
   "language": "python",
   "name": "python3"
  },
  "language_info": {
   "codemirror_mode": {
    "name": "ipython",
    "version": 3
   },
   "file_extension": ".py",
   "mimetype": "text/x-python",
   "name": "python",
   "nbconvert_exporter": "python",
   "pygments_lexer": "ipython3",
   "version": "3.7.3"
  }
 },
 "nbformat": 4,
 "nbformat_minor": 2
}
