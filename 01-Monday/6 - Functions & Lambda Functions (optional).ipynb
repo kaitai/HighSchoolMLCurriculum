{
 "cells": [
  {
   "cell_type": "markdown",
   "metadata": {},
   "source": [
    "<font color=gray>This Jupyter notebook was created by Mark Bunday for \\the\\world Girls' Machine Learning Day Camp. The license can be found at the bottom of the notebook.</font>\n",
    "\n",
    "# Functions & Lambda Functions\n",
    "\n",
    "## Functions\n",
    "\n",
    "In mathematics, we can denote a simple function as $f(x) = x * 5$. The value $x$ is the **input** of the function, and $x*5$ is the **output**, or \"return value\" of the function. Functions in Python are defined using the `def` keyword. We can write this function in Python like so: "
   ]
  },
  {
   "cell_type": "code",
   "execution_count": 1,
   "metadata": {},
   "outputs": [],
   "source": [
    "def f(x):\n",
    "    return x * 5"
   ]
  },
  {
   "cell_type": "markdown",
   "metadata": {},
   "source": [
    "After we have defined a function we can then re-use it in our code by **calling** it with an appropriate input. For example: "
   ]
  },
  {
   "cell_type": "code",
   "execution_count": 3,
   "metadata": {},
   "outputs": [
    {
     "name": "stdout",
     "output_type": "stream",
     "text": [
      "25\n"
     ]
    }
   ],
   "source": [
    "# Let's give 5 as \"x\" to the function. We should get back 5*5 = 25!\n",
    "print(f(5))"
   ]
  },
  {
   "cell_type": "code",
   "execution_count": 4,
   "metadata": {},
   "outputs": [
    {
     "name": "stdout",
     "output_type": "stream",
     "text": [
      "25\n"
     ]
    }
   ],
   "source": [
    "print(f(2) + f(3))"
   ]
  },
  {
   "cell_type": "code",
   "execution_count": 5,
   "metadata": {},
   "outputs": [
    {
     "name": "stdout",
     "output_type": "stream",
     "text": [
      "125\n"
     ]
    }
   ],
   "source": [
    "print(f(f(5)))"
   ]
  },
  {
   "cell_type": "markdown",
   "metadata": {},
   "source": [
    "However, mathematical notation follows different conventions than what we've already learned. Let's try and make sure that our functions and their parameters (the inputs, such as \"x\") have meaningful names. Let's rewrite our function to reflect what it does: "
   ]
  },
  {
   "cell_type": "code",
   "execution_count": 6,
   "metadata": {},
   "outputs": [],
   "source": [
    "def times_five(number):\n",
    "    return number * 5"
   ]
  },
  {
   "cell_type": "markdown",
   "metadata": {},
   "source": [
    "The reason we want to do this is because sometimes functions are defined in one file and used/called in another, so we can't always see what they're doing from their definition. By giving them meaningful names it makes it clear what the output will be. "
   ]
  },
  {
   "cell_type": "code",
   "execution_count": 7,
   "metadata": {},
   "outputs": [
    {
     "name": "stdout",
     "output_type": "stream",
     "text": [
      "500\n"
     ]
    }
   ],
   "source": [
    "print(times_five(100))"
   ]
  },
  {
   "cell_type": "markdown",
   "metadata": {},
   "source": [
    "The function we defined above only took in one **parameter**, or input/argument. However, functions can take in multiple parameters if they are separated by a `,` in the function definition. Let's write a simple function to calculate a number raised to a power. "
   ]
  },
  {
   "cell_type": "code",
   "execution_count": 12,
   "metadata": {},
   "outputs": [],
   "source": [
    "def raise_to_power(base, power):\n",
    "    # Note: The double ** is Python notation for exponentiation\n",
    "    return base**power  "
   ]
  },
  {
   "cell_type": "code",
   "execution_count": 11,
   "metadata": {},
   "outputs": [
    {
     "name": "stdout",
     "output_type": "stream",
     "text": [
      "8\n",
      "0.1111111111111111\n"
     ]
    }
   ],
   "source": [
    "print(raise_to_power(2, 3))  # Calculate 2 to the 3rd power\n",
    "print(raise_to_power(3, -2))  # Calculate 3 to the -2 power"
   ]
  },
  {
   "cell_type": "markdown",
   "metadata": {},
   "source": [
    "Note that the order of arguments matters. The first argument gets assigned to `base` and the second gets assigned to `power`. If we wanted to give inputs in a different order, we have to **name arguments** like so: "
   ]
  },
  {
   "cell_type": "code",
   "execution_count": 14,
   "metadata": {},
   "outputs": [
    {
     "name": "stdout",
     "output_type": "stream",
     "text": [
      "8\n",
      "9\n",
      "8\n"
     ]
    }
   ],
   "source": [
    "print(raise_to_power(2, 3))  # This is 2^3 = 8\n",
    "print(raise_to_power(3, 2))  # This is 3^2 = 9\n",
    "# Let's used named arguments now\n",
    "print(raise_to_power(power=3, base=2))  # this is 2^3 = 8"
   ]
  },
  {
   "cell_type": "markdown",
   "metadata": {},
   "source": [
    "This is why it's also important to give your function arguments/inputs meaningful names as well! If you have a function with many arguments, sometimes it helps to be explicit and use named arguments. "
   ]
  },
  {
   "cell_type": "markdown",
   "metadata": {},
   "source": [
    "### Exercise 1: Define Your Own Function!\n",
    "\n",
    "Can you write a function that takes in the radius of a circle as **input** and **outputs/returns** the area of the circle?  "
   ]
  },
  {
   "cell_type": "code",
   "execution_count": null,
   "metadata": {},
   "outputs": [],
   "source": []
  },
  {
   "cell_type": "markdown",
   "metadata": {},
   "source": [
    "### Takeaway: When should you define functions? \n",
    "\n",
    "You should define functions when they will save you from repeating yourself. Let's we want to calculate the average of three lists of numbers:"
   ]
  },
  {
   "cell_type": "code",
   "execution_count": 15,
   "metadata": {},
   "outputs": [],
   "source": [
    "list1 = [1, 2, 3, 4, 5, 6]\n",
    "list2 = [45, 23.0, 478.2, 2312, 342]\n",
    "list3 = [-12, 345, 12., 634, 9000]"
   ]
  },
  {
   "cell_type": "markdown",
   "metadata": {},
   "source": [
    "We could use a for-loop to calculate the average of each list"
   ]
  },
  {
   "cell_type": "code",
   "execution_count": 18,
   "metadata": {},
   "outputs": [
    {
     "name": "stdout",
     "output_type": "stream",
     "text": [
      "The average of list1 is 3.5\n",
      "The average of list2 is 640.04\n",
      "The average of list3 is 1995.8\n"
     ]
    }
   ],
   "source": [
    "list1_sum = 0\n",
    "for number in list1:\n",
    "    list1_sum = list1_sum + number\n",
    "list1_average = list1_sum/len(list1)\n",
    "print(f\"The average of list1 is {list1_average}\")\n",
    "\n",
    "list2_sum = 0\n",
    "for number in list2:\n",
    "    list2_sum = list2_sum + number\n",
    "list2_average = list2_sum/len(list2)\n",
    "print(f\"The average of list2 is {list2_average}\")\n",
    "\n",
    "list3_sum = 0\n",
    "for number in list3:\n",
    "    list3_sum = list3_sum + number\n",
    "list3_average = list3_sum/len(list3)\n",
    "print(f\"The average of list3 is {list3_average}\")"
   ]
  },
  {
   "cell_type": "markdown",
   "metadata": {},
   "source": [
    "Can you see how redundant that is? Let's see if we can improve things by defining an \"average\" function. "
   ]
  },
  {
   "cell_type": "code",
   "execution_count": 19,
   "metadata": {},
   "outputs": [
    {
     "name": "stdout",
     "output_type": "stream",
     "text": [
      "The average of list1 is 3.5\n",
      "The average of list2 is 640.04\n",
      "The average of list3 is 1995.8\n"
     ]
    }
   ],
   "source": [
    "def average(numbers):\n",
    "    numbers_sum = 0\n",
    "    for number in numbers:\n",
    "        numbers_sum = numbers_sum + number\n",
    "    numbers_average = numbers_sum/len(numbers)\n",
    "    return numbers_average\n",
    "\n",
    "print(f\"The average of list1 is {average(list1)}\")\n",
    "print(f\"The average of list2 is {average(list2)}\")\n",
    "print(f\"The average of list3 is {average(list3)}\")"
   ]
  },
  {
   "cell_type": "markdown",
   "metadata": {},
   "source": [
    "Now we have a very useful `average` function we can use anywhere and we don't have to repeat ourselves writing a for-loop every time!"
   ]
  },
  {
   "cell_type": "markdown",
   "metadata": {},
   "source": [
    "## Lambda Functions\n",
    "\n",
    "Sometimes we want to use functions as arguments to other functions. When this happens, it is sometimes desirable to define them **anonymously** as **lambda functions**. All lambda functions are are **functions without a name**. Let's first start by writing a simple function to add two numbers. We could write: "
   ]
  },
  {
   "cell_type": "code",
   "execution_count": 20,
   "metadata": {},
   "outputs": [],
   "source": [
    "def add(num1, num2):\n",
    "    return num1 + num2"
   ]
  },
  {
   "cell_type": "markdown",
   "metadata": {},
   "source": [
    "A lambda function is defined in a very similar way, but we use the `lambda` keyword instead. Let's define the same function as a lambda function now. "
   ]
  },
  {
   "cell_type": "code",
   "execution_count": 22,
   "metadata": {},
   "outputs": [],
   "source": [
    "lambda_add = lambda a, b: a + b"
   ]
  },
  {
   "cell_type": "markdown",
   "metadata": {},
   "source": [
    "How do we use it? Just like any normal function!"
   ]
  },
  {
   "cell_type": "code",
   "execution_count": 25,
   "metadata": {},
   "outputs": [
    {
     "name": "stdout",
     "output_type": "stream",
     "text": [
      "20\n",
      "20\n"
     ]
    }
   ],
   "source": [
    "print(add(3, 17))\n",
    "print(lambda_add(3, 17))  \n",
    "# We get the same answer using the lambda function.\n",
    "# \"3\" gets assigned to \"a\", and \"17\" gets assigned to \"b\""
   ]
  },
  {
   "cell_type": "markdown",
   "metadata": {},
   "source": [
    "OK, so now we've seen how to define lambda functions, you might be wondering **Why use lambdas?**. The nice thing about lambda functions is that they can be defined **in-line.** That is, they can be defined within other pieces of code spontaneously, which makes them convenient and concise, particularly if they perform an operation that isn't reused elsewhere.\n",
    "\n",
    "Let's look at a simple example to see why they might be useful. In Python, the `map(function, iterable)` function takes two arguments, a function and an iterable (iterables include things like lists), and outputs an iterable where the input function has been applied to each element of the input iterable. \n",
    "\n",
    "That probably sounds confusing, so let's take a look at a simple example to see how it works:"
   ]
  },
  {
   "cell_type": "code",
   "execution_count": 26,
   "metadata": {},
   "outputs": [
    {
     "name": "stdout",
     "output_type": "stream",
     "text": [
      "[2, 4, 6, 8, 10, 12]\n"
     ]
    }
   ],
   "source": [
    "# Let's start by defining a simple function times_two\n",
    "def times_two(number):\n",
    "    return number * 2\n",
    "\n",
    "numbers = [1, 2, 3, 4, 5, 6]\n",
    "\n",
    "# We pass our function, \"times_two\", as the first argument to \"map\".\n",
    "# It then iterates like a for-loop over each number in \"numbers\",\n",
    "# passing them as input to the \"times_two\" function and outputs \n",
    "# the result.\n",
    "numbers2 = list(map(times_two, numbers))\n",
    "print(numbers2)"
   ]
  },
  {
   "cell_type": "markdown",
   "metadata": {},
   "source": [
    "We can see that `map` takes in our function `times_two` and then \"applies\" it to each number in `numbers`. \"1\" gets passed first into `times_two`, which outputs \"2\". Then \"2\" gets passed in as input, outputting \"4\", and so on and so forth resulting in the list `[2, 4, 6, 8, 10, 12]`.\n",
    "\n",
    "If we weren't going to use the `times_two` function anywhere else, is there a more concise way we could perform this operation? Remember, `map` **must** take in a function as its first argument! If you try and pass it something that isn't a function, you'll get an error message. Let's try using a lambda function instead!"
   ]
  },
  {
   "cell_type": "code",
   "execution_count": 27,
   "metadata": {},
   "outputs": [
    {
     "name": "stdout",
     "output_type": "stream",
     "text": [
      "[2, 4, 6, 8, 10, 12]\n"
     ]
    }
   ],
   "source": [
    "numbers = [1, 2, 3, 4, 5, 6]\n",
    "numbers2 = list(map(lambda number: number * 2, numbers))\n",
    "print(numbers2)"
   ]
  },
  {
   "cell_type": "markdown",
   "metadata": {},
   "source": [
    "We can see that by writing a lambda function **in-line** inside the map function we've acheived the same result in a much more concise way! `lambda number: number * 2` serves as the function argument to the `map` function, meaning we don't have to define the `times_two` function to get the same result. "
   ]
  },
  {
   "cell_type": "markdown",
   "metadata": {},
   "source": [
    "Now let's try some exercises!\n",
    "\n",
    "### Exercises "
   ]
  },
  {
   "cell_type": "markdown",
   "metadata": {},
   "source": [
    "Can you write the same \"area of circle\" function you defined above as a lambda function?"
   ]
  },
  {
   "cell_type": "code",
   "execution_count": null,
   "metadata": {},
   "outputs": [],
   "source": []
  },
  {
   "cell_type": "markdown",
   "metadata": {},
   "source": [
    "We defined the `raise_to_power` function above. Given the numbers list below, can you raise each number in the list to the 2nd power using the map function? "
   ]
  },
  {
   "cell_type": "code",
   "execution_count": 30,
   "metadata": {},
   "outputs": [
    {
     "name": "stdout",
     "output_type": "stream",
     "text": [
      "[1, 4, 9, 16, 25, 36]\n"
     ]
    }
   ],
   "source": [
    "numbers = [1, 2, 3, 4, 5, 6]\n",
    "numbers2 = list(map(raise_to_power, numbers, [2, 2, 2, 2, 2, 2]))\n",
    "print(numbers2)"
   ]
  },
  {
   "cell_type": "markdown",
   "metadata": {},
   "source": [
    "todo: add more lambda function exercises "
   ]
  },
  {
   "cell_type": "code",
   "execution_count": null,
   "metadata": {},
   "outputs": [],
   "source": []
  }
 ],
 "metadata": {
  "kernelspec": {
   "display_name": "Python 3",
   "language": "python",
   "name": "python3"
  },
  "language_info": {
   "codemirror_mode": {
    "name": "ipython",
    "version": 3
   },
   "file_extension": ".py",
   "mimetype": "text/x-python",
   "name": "python",
   "nbconvert_exporter": "python",
   "pygments_lexer": "ipython3",
   "version": "3.6.4"
  }
 },
 "nbformat": 4,
 "nbformat_minor": 2
}
