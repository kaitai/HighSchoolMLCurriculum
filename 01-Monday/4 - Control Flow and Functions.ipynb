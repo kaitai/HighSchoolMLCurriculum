{
 "cells": [
  {
   "cell_type": "markdown",
   "metadata": {},
   "source": [
    "<font color=gray>This Jupyter notebook was created by Melissa Lynn for \\the\\world Girls' Machine Learning Day Camp. The license can be found at the bottom of the notebook.</font>\n",
    "\n",
    "# Control Flow and Functions\n",
    "\n",
    "## Control Flow\n",
    "\n",
    "Sometimes we want our program to do different things depending on certain conditions. For example, when we compute the average of some exam scores, we might want the program to tell us if the student passed the course or not. For this, we use \"if\" statements, as below. In the following code, the line `if average >= 60` checks if the value of the variable average is greater than or equal to 60, and only runs the indented code if it is. The line `else` tells us that the indented code below runs otherwise.\n",
    "\n",
    "Run the code below, then try changing the exam scores and run it again to see what happens!"
   ]
  },
  {
   "cell_type": "code",
   "execution_count": null,
   "metadata": {},
   "outputs": [],
   "source": [
    "exam_scores = [85, 93, 88];\n",
    "total = 0;\n",
    "for score in exam_scores:\n",
    "    total = total + score;\n",
    "average_score = total / 3;\n",
    "if average_score >= 60:\n",
    "    print(\"Yay! You passed!\");\n",
    "else:\n",
    "    print(\"Sorry, you didn't pass :(\");"
   ]
  },
  {
   "cell_type": "markdown",
   "metadata": {},
   "source": [
    "Note that python pays attention to indentation; not all programming languages do this!\n",
    "\n",
    "Edit your code which computed the average temperature to comment on the weather that week. See what happens when you run your code for different sets of temperatures."
   ]
  },
  {
   "cell_type": "code",
   "execution_count": null,
   "metadata": {},
   "outputs": [],
   "source": []
  },
  {
   "cell_type": "markdown",
   "metadata": {},
   "source": [
    "## Functions\n",
    "\n",
    "As our code starts to get longer and more complicated, we might find ourselves performing the same operation over and over again (such as taking the averages of several lists). To avoid repeating ourselves, we can define **functions** in Python to perform these operations wherever we want. \n",
    "\n",
    "### Notation & Terminology \n",
    "\n",
    "In mathematics, we often see simple functions denoted like $f(x) = x + 5$. The function, $f(x)$, takes as **input** the value $x$ and returns as output the value $x+5$. In programming, the terms **input**, **paramater**, and **argument** are all used interchangably to refer to the same thing. Likewise, the **output** is sometimes referred to as the **return value** instead. We'll see why shortly. \n",
    "\n",
    "Functions in Python are defined using the `def` keyword. For example, we can write the mathematical function $f(x)$ above in Python like so:"
   ]
  },
  {
   "cell_type": "code",
   "execution_count": null,
   "metadata": {},
   "outputs": [],
   "source": [
    "def f(x):\n",
    "    return x + 5\n",
    "\n",
    "# Let's test this function!\n",
    "print(\"The value of f(5) is:\")\n",
    "result = f(5)\n",
    "print(result)\n",
    "\n",
    "print(\"The value of f(19) is:\")\n",
    "print(f(19))"
   ]
  },
  {
   "cell_type": "markdown",
   "metadata": {},
   "source": [
    "We can see that the `return` keyword defines what the **output** of the function is. This is why the output is sometimes reffered to as the \"return value.\" Also notice that if we assign the variable `result` to the value of `f(5)`, it gets assigned the value of the function output (what the function *returns*). \n",
    "\n",
    "It's important to remember that math follows different naming conventions than Python. We can name our functions whatever we want in Python, so when possible we should give them meaningful names that communicate to the user what their purpose is. We should also make sure to give the **inputs/arguments/parameters** meaningful names as well. Let's rewrite the function above:"
   ]
  },
  {
   "cell_type": "code",
   "execution_count": null,
   "metadata": {},
   "outputs": [],
   "source": [
    "def plus_five(number):\n",
    "    return number + 5\n",
    "\n",
    "# Let's test this function!\n",
    "result = plus_five(5) \n",
    "print(result)\n",
    "print(plus_five(19))"
   ]
  },
  {
   "cell_type": "markdown",
   "metadata": {},
   "source": [
    "Now when we **call**, or *use*, the function it's clear just from the name what it will do with the input! What if we want to write a function that takes multiple inputs/arguments/parameters? We simply separate them in the definition with a comma like so: "
   ]
  },
  {
   "cell_type": "code",
   "execution_count": null,
   "metadata": {},
   "outputs": [],
   "source": [
    "def add(a, b):\n",
    "    return a + b \n",
    "\n",
    "# Let's test this function!\n",
    "# The value of 5 + 6 is:\n",
    "print(add(5, 6))\n",
    "# The value of 16 + (-2) is:\n",
    "print(add(16, -2))"
   ]
  },
  {
   "cell_type": "markdown",
   "metadata": {},
   "source": [
    "### Why are functions useful/when should we define them? \n",
    "\n",
    "Functions are useful and should be defined when they can be used repeatedly and when they'll stop us from repeating ourselves. \n",
    "\n",
    "Let's extend the example that we looked at above. Imagine we're a teacher and we have 3 students and that we need to calculate the average test scores for each of them. "
   ]
  },
  {
   "cell_type": "code",
   "execution_count": null,
   "metadata": {},
   "outputs": [],
   "source": [
    "johns_scores = [77, 83, 82];\n",
    "kates_scores = [85, 88, 90];\n",
    "sarahs_scores = [93, 92, 96];"
   ]
  },
  {
   "cell_type": "markdown",
   "metadata": {},
   "source": [
    "To calculate the average we could write three for-loops like so:"
   ]
  },
  {
   "cell_type": "code",
   "execution_count": null,
   "metadata": {},
   "outputs": [],
   "source": [
    "johns_total = 0;\n",
    "for score in johns_scores:\n",
    "    johns_total = johns_total + score;\n",
    "johns_average_score = johns_total / 3;\n",
    "print(\"John's average exam score is: \")\n",
    "print(johns_average_score)\n",
    "\n",
    "kates_total = 0;\n",
    "for score in kates_scores:\n",
    "    kates_total = kates_total + score;\n",
    "kates_average_score = kates_total / 3;\n",
    "print(\"Kate's average exam score is: \")\n",
    "print(kates_average_score)\n",
    "\n",
    "sarahs_total = 0;\n",
    "for score in sarahs_scores:\n",
    "    sarahs_total = sarahs_total + score;\n",
    "sarahs_average_score = sarahs_total / 3;\n",
    "print(\"Sarah's average exam score is: \")\n",
    "print(sarahs_average_score)\n"
   ]
  },
  {
   "cell_type": "markdown",
   "metadata": {},
   "source": [
    "Wow, it looks like we're repeating ourselves a lot. We're doing the exact same operation, taking the average, for each student so let's see if we can just define an `average` function and re-use it instead!"
   ]
  },
  {
   "cell_type": "code",
   "execution_count": null,
   "metadata": {},
   "outputs": [],
   "source": [
    "def average(numbers):\n",
    "    summation = 0\n",
    "    for number in numbers:\n",
    "        summation = summation + number\n",
    "    return summation / len(numbers)\n",
    "\n",
    "johns_average_score = average(johns_scores)\n",
    "kates_average_score = average(kates_scores)\n",
    "sarahs_average_score = average(sarahs_scores)\n",
    "\n",
    "print(\"John's average exam score is: \")\n",
    "print(johns_average_score)\n",
    "\n",
    "print(\"Kate's average exam score is: \")\n",
    "print(kates_average_score)\n",
    "\n",
    "print(\"Sarah's average exam score is: \")\n",
    "print(sarahs_average_score)"
   ]
  },
  {
   "cell_type": "markdown",
   "metadata": {},
   "source": [
    "Notice how much work that saved us? Now we have a useful `average()` function that we can not only use to quickly calculate the average scores of all of our students, but we can also use anywhere else we need to calculate the average of a list! \n",
    "\n",
    "\n",
    "Also notice that when we calculated the average score for each student using for-loops, we manually divided their scores by 3 because that's how many exams they took. When we define our `average()` function, however, we make use of the built-in Python function `len()` to determine what number to divide by. Because `len()` is built-in, we don't need to define it ourselves and can use it right out of the box (`print()` is actually another example of a built-in function we've already been using!). The `len()` function takes in a list as input and returns the length of that list as the output. This means our `average()` function can take in a list of *any* length and accurately calculate its average, unlike our for-loops which could only calculate the average of a list of 3. \n",
    "\n",
    "### Takeaway\n",
    "\n",
    "* Define functions when they will save you time and prevent you from repeating the same operation over and over again. \n",
    "\n",
    "* Give your functions and their inputs/arguments/parameters meaningful names that reflect their functionality.\n",
    "\n",
    "* Make your functions general so they're useful everywhere! Our `average` function can average *any* list of numbers, not just a list of three exam scores. "
   ]
  },
  {
   "cell_type": "markdown",
   "metadata": {},
   "source": [
    "## Exercises\n",
    "\n",
    "Write a program that determines whether a given number is positive, negative, or zero."
   ]
  },
  {
   "cell_type": "code",
   "execution_count": null,
   "metadata": {},
   "outputs": [],
   "source": []
  },
  {
   "cell_type": "markdown",
   "metadata": {},
   "source": [
    "You run a small business. Consider the week in which your income on each day was $503$, $628$, $429$, $109$, $720$, $624$, and $598$. Using the average function we've defined above, write a program to compute your average daily income this week."
   ]
  },
  {
   "cell_type": "code",
   "execution_count": null,
   "metadata": {},
   "outputs": [],
   "source": []
  },
  {
   "cell_type": "markdown",
   "metadata": {},
   "source": [
    "Write a function called `square` that takes a number as input and returns its square. Use this function to compute the squares of some numbers."
   ]
  },
  {
   "cell_type": "code",
   "execution_count": null,
   "metadata": {},
   "outputs": [],
   "source": []
  },
  {
   "cell_type": "markdown",
   "metadata": {},
   "source": [
    "Write a function called `is_positive` that takes a number as input and returns `True` if the number is positive, and returns `False` otherwise. Rewrite your code from the first exercise to use this function."
   ]
  },
  {
   "cell_type": "code",
   "execution_count": null,
   "metadata": {},
   "outputs": [],
   "source": []
  },
  {
   "cell_type": "markdown",
   "metadata": {},
   "source": [
    "Write a function that takes in the radius of a circle as input and returns its area. Give the function and its arguments meaningful names. "
   ]
  },
  {
   "cell_type": "markdown",
   "metadata": {},
   "source": [
    "<font color=gray>Copyright (c) 2018 Melissa Lynn</font>\n",
    "<br><br>\n",
    "<font color=gray>Permission is hereby granted, free of charge, to any person obtaining a copy\n",
    "of this software and associated documentation files (the \"Software\"), to deal\n",
    "in the Software without restriction, including without limitation the rights\n",
    "to use, copy, modify, merge, publish, distribute, sublicense, and/or sell\n",
    "copies of the Software, and to permit persons to whom the Software is\n",
    "furnished to do so, subject to the following conditions:</font>\n",
    "<br><br>\n",
    "<font color=gray>The above copyright notice and this permission notice shall be included in all\n",
    "copies or substantial portions of the Software.</font>\n",
    "<br><br>\n",
    "<font color=gray>THE SOFTWARE IS PROVIDED \"AS IS\", WITHOUT WARRANTY OF ANY KIND, EXPRESS OR\n",
    "IMPLIED, INCLUDING BUT NOT LIMITED TO THE WARRANTIES OF MERCHANTABILITY,\n",
    "FITNESS FOR A PARTICULAR PURPOSE AND NONINFRINGEMENT. IN NO EVENT SHALL THE\n",
    "AUTHORS OR COPYRIGHT HOLDERS BE LIABLE FOR ANY CLAIM, DAMAGES OR OTHER\n",
    "LIABILITY, WHETHER IN AN ACTION OF CONTRACT, TORT OR OTHERWISE, ARISING FROM,\n",
    "OUT OF OR IN CONNECTION WITH THE SOFTWARE OR THE USE OR OTHER DEALINGS IN THE\n",
    "SOFTWARE.</font>"
   ]
  }
 ],
 "metadata": {
  "kernelspec": {
   "display_name": "Python 3",
   "language": "python",
   "name": "python3"
  },
  "language_info": {
   "codemirror_mode": {
    "name": "ipython",
    "version": 3
   },
   "file_extension": ".py",
   "mimetype": "text/x-python",
   "name": "python",
   "nbconvert_exporter": "python",
   "pygments_lexer": "ipython3",
   "version": "3.7.3"
  }
 },
 "nbformat": 4,
 "nbformat_minor": 2
}
