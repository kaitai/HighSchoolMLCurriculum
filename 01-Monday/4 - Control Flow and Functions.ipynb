{
 "cells": [
  {
   "cell_type": "markdown",
   "metadata": {},
   "source": [
    "<font color=gray>This Jupyter notebook was created by Melissa Lynn for \\the\\world Girls' Machine Learning Day Camp. The license can be found at the bottom of the notebook.</font>\n",
    "\n",
    "# Control Flow and Functions\n",
    "\n",
    "## Control Flow\n",
    "\n",
    "Sometimes we want our program to do different things depending on certain conditions. For example, when we compute the average of some exam scores, we might want the program to tell us if the student passed the course or not. For this, we use \"if\" statements, as below. In the following code, the line `if average >= 60` checks if the value of the variable average is greater than or equal to 60, and only runs the indented code if it is. The line `else` tells us that the indented code below runs otherwise.\n",
    "\n",
    "Run the code below, then try changing the exam scores and run it again to see what happens!"
   ]
  },
  {
   "cell_type": "code",
   "execution_count": 1,
   "metadata": {},
   "outputs": [
    {
     "name": "stdout",
     "output_type": "stream",
     "text": [
      "Yay! You passed!\n"
     ]
    }
   ],
   "source": [
    "exam_scores = [85, 93, 88];\n",
    "sum_scores = 0;\n",
    "for exam_score in exam_scores:\n",
    "    sum_scores = sum_scores + exam_score;\n",
    "average_score = sum_scores / 3;\n",
    "if average_score >= 60:\n",
    "    print(\"Yay! You passed!\");\n",
    "else:\n",
    "    print(\"Sorry, you didn't pass :(\");"
   ]
  },
  {
   "cell_type": "markdown",
   "metadata": {},
   "source": [
    "Note that python pays attention to indentation; not all programming languages do this!\n",
    "\n",
    "Edit your code which computed the average temperature to comment on the weather that week. See what happens when you run your code for different sets of temperatures."
   ]
  },
  {
   "cell_type": "code",
   "execution_count": null,
   "metadata": {},
   "outputs": [],
   "source": []
  },
  {
   "cell_type": "markdown",
   "metadata": {},
   "source": [
    "## Functions\n",
    "\n",
    "As our code starts to get longer and more complicated, it can be useful to separate our code into separate tasks. We can use something called functions to do this. Similar to how functions work in math, a function takes an input (or possibly multiple inputs!) and produces an output.\n",
    "\n",
    "In the code below, we define a function called average which computes the average value of a collection of numbers. The collection of numbers is the input to the function, and the average value is the output of the function. We then use this function to compute the average exam score.\n",
    "\n",
    "len(numbers) gives us the number of values in the list numbers. This is actually another example of a function, which we'll talk about a bit later."
   ]
  },
  {
   "cell_type": "code",
   "execution_count": 2,
   "metadata": {},
   "outputs": [
    {
     "name": "stdout",
     "output_type": "stream",
     "text": [
      "88.66666666666667\n"
     ]
    }
   ],
   "source": [
    "def average(numbers):\n",
    "    summation = 0\n",
    "    for number in numbers:\n",
    "        summation = summation + number\n",
    "    return summation / len(numbers)\n",
    "\n",
    "exam_scores = [85, 93, 88]\n",
    "average_score = average(exam_scores)\n",
    "print(average_score)"
   ]
  },
  {
   "cell_type": "markdown",
   "metadata": {},
   "source": [
    "Although we define the function at the top of our code, the computer doesn't actually use the function until we call it in the line `average_score = average(exam_scores)`. At this line, the computer takes `exam_scores` to be the input for the function `average`, and runs through the code for the function with this input. We can tell which code belongs to the function based on the indentation. When it gets to the line `return sum / (len(numbers))`, this is the end of the function. The computer finds the value of `sum / (len(numbers))`, and the keyword `return` tells the computer to return this value. Looking back to the line `average_score = average(exam_scores)`, this means that the value returned is assigned to the variable `average_score`.\n",
    "\n",
    "Notice that once we have the function defined, computing the average of any set of numbers becomes as simple as calling this function.\n",
    "\n",
    "## Exercises\n",
    "\n",
    "Write a program that determines whether a given number is positive, negative, or zero. "
   ]
  },
  {
   "cell_type": "code",
   "execution_count": null,
   "metadata": {},
   "outputs": [],
   "source": []
  },
  {
   "cell_type": "markdown",
   "metadata": {},
   "source": [
    "You run a small business. Consider the week in which your income on each day was \\$503, \\$628, \\$429, \\$109, \\$720, \\$624, and \\$598. Using the average function we've defined above, write a program to compute your average daily income this week."
   ]
  },
  {
   "cell_type": "code",
   "execution_count": null,
   "metadata": {},
   "outputs": [],
   "source": []
  },
  {
   "cell_type": "markdown",
   "metadata": {},
   "source": [
    "Write a function called `square` that takes a number and returns its square. Use this function to compute the squares of some numbers."
   ]
  },
  {
   "cell_type": "code",
   "execution_count": null,
   "metadata": {},
   "outputs": [],
   "source": []
  },
  {
   "cell_type": "markdown",
   "metadata": {},
   "source": [
    "Write a function called `is_positive` that takes a number and returns `True` if the number is positive, and returns `False` otherwise. Rewrite your code from the first exercise to use this function."
   ]
  },
  {
   "cell_type": "code",
   "execution_count": null,
   "metadata": {},
   "outputs": [],
   "source": []
  },
  {
   "cell_type": "markdown",
   "metadata": {},
   "source": [
    "<font color=gray>Copyright (c) 2018 Melissa Lynn</font>\n",
    "<br><br>\n",
    "<font color=gray>Permission is hereby granted, free of charge, to any person obtaining a copy\n",
    "of this software and associated documentation files (the \"Software\"), to deal\n",
    "in the Software without restriction, including without limitation the rights\n",
    "to use, copy, modify, merge, publish, distribute, sublicense, and/or sell\n",
    "copies of the Software, and to permit persons to whom the Software is\n",
    "furnished to do so, subject to the following conditions:</font>\n",
    "<br><br>\n",
    "<font color=gray>The above copyright notice and this permission notice shall be included in all\n",
    "copies or substantial portions of the Software.</font>\n",
    "<br><br>\n",
    "<font color=gray>THE SOFTWARE IS PROVIDED \"AS IS\", WITHOUT WARRANTY OF ANY KIND, EXPRESS OR\n",
    "IMPLIED, INCLUDING BUT NOT LIMITED TO THE WARRANTIES OF MERCHANTABILITY,\n",
    "FITNESS FOR A PARTICULAR PURPOSE AND NONINFRINGEMENT. IN NO EVENT SHALL THE\n",
    "AUTHORS OR COPYRIGHT HOLDERS BE LIABLE FOR ANY CLAIM, DAMAGES OR OTHER\n",
    "LIABILITY, WHETHER IN AN ACTION OF CONTRACT, TORT OR OTHERWISE, ARISING FROM,\n",
    "OUT OF OR IN CONNECTION WITH THE SOFTWARE OR THE USE OR OTHER DEALINGS IN THE\n",
    "SOFTWARE.</font>"
   ]
  }
 ],
 "metadata": {
  "kernelspec": {
   "display_name": "Python 3",
   "language": "python",
   "name": "python3"
  },
  "language_info": {
   "codemirror_mode": {
    "name": "ipython",
    "version": 3
   },
   "file_extension": ".py",
   "mimetype": "text/x-python",
   "name": "python",
   "nbconvert_exporter": "python",
   "pygments_lexer": "ipython3",
   "version": "3.7.3"
  }
 },
 "nbformat": 4,
 "nbformat_minor": 2
}
