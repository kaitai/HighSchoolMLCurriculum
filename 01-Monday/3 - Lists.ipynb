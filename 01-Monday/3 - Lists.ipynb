{
 "cells": [
  {
   "cell_type": "markdown",
   "metadata": {},
   "source": [
    "<font color=gray>This Jupyter notebook was created by Melissa Lynn for \\the\\world Girls' Machine Learning Day Camp. The license can be found at the bottom of the notebook.</font>\n",
    "\n",
    "# Lists\n",
    "\n",
    "Lets write code to compute the average of three exam scores."
   ]
  },
  {
   "cell_type": "code",
   "execution_count": null,
   "metadata": {},
   "outputs": [],
   "source": [
    "exam1 = 85\n",
    "exam2 = 93\n",
    "exam3 = 88\n",
    "sum = exam1 + exam2 + exam3\n",
    "average = sum / 3\n",
    "print(average)"
   ]
  },
  {
   "cell_type": "markdown",
   "metadata": {},
   "source": [
    "Now try writing your own code to compute the average temperature in a week with temperatures 70, 73, 68, 71, 73, 80,  and 78 degrees fahrenheit. Be sure to use descriptive variable names!"
   ]
  },
  {
   "cell_type": "code",
   "execution_count": null,
   "metadata": {},
   "outputs": [],
   "source": []
  },
  {
   "cell_type": "markdown",
   "metadata": {},
   "source": [
    "Creating seven different variables in order to store these temperatures gets pretty cumbersome. Fortunately, there are ways to store a collection of information all together.\n",
    "\n",
    "In the code below, we rewrite our computation of the average exam score using a data structure called a list. We define a list called exam_scores to store the scores on the three exam score. We first need to compute the sum of the exam scores, so we start the sum out at 0, then add in each score one by one. The syntax \"for score in exam_scores:\" means that we run the indented code for each value in the list exam_scores."
   ]
  },
  {
   "cell_type": "code",
   "execution_count": null,
   "metadata": {},
   "outputs": [],
   "source": [
    "exam_scores = [85, 93, 88]\n",
    "sum = 0\n",
    "for score in exam_scores:\n",
    "    sum = sum + score\n",
    "average = sum / 3\n",
    "print(average)"
   ]
  },
  {
   "cell_type": "markdown",
   "metadata": {},
   "source": [
    "Try writing your own code to compute the average temperature in a week with temperatures 70, 73, 68, 71, 73, 80, and 78 degrees fahrenheit. This time try using a list to store the temperatures."
   ]
  },
  {
   "cell_type": "code",
   "execution_count": null,
   "metadata": {},
   "outputs": [],
   "source": []
  },
  {
   "cell_type": "markdown",
   "metadata": {},
   "source": [
    "A list is one example of a more complicated data structure that can be used to store and organize information. We'll work with more of these later!\n",
    "\n",
    "## Exercises\n",
    "\n",
    "You run a small business. In a given week, your profits each day were \\$204, \\$236, \\$127, \\$319, \\$276, \\$198, and \\$203. Write a program that computes your total profits for the week."
   ]
  },
  {
   "cell_type": "code",
   "execution_count": null,
   "metadata": {},
   "outputs": [],
   "source": []
  },
  {
   "cell_type": "markdown",
   "metadata": {},
   "source": [
    "The next week, your income on each day was \\$503, \\$628, \\$429, \\$109, \\$720, \\$624, and \\$598. Your expenses each day were \\$305, \\$352, \\$299, \\$372, \\$302, \\$340, and \\$333. Write a program that computes your total profits for the week."
   ]
  },
  {
   "cell_type": "code",
   "execution_count": null,
   "metadata": {},
   "outputs": [],
   "source": []
  },
  {
   "cell_type": "markdown",
   "metadata": {},
   "source": [
    "Consider the week in which your income on each day was \\$503, \\$628, \\$429, \\$109, \\$720, \\$624, and \\$598. Write a program to compute your average daily income this week."
   ]
  },
  {
   "cell_type": "code",
   "execution_count": null,
   "metadata": {},
   "outputs": [],
   "source": []
  },
  {
   "cell_type": "markdown",
   "metadata": {},
   "source": [
    "Consider the week in which your income on each day was \\$503, \\$628, \\$429, \\$109, \\$720, \\$624, and \\$598. Write a program to compute the variance of your daily income this week."
   ]
  },
  {
   "cell_type": "code",
   "execution_count": null,
   "metadata": {},
   "outputs": [],
   "source": []
  },
  {
   "cell_type": "markdown",
   "metadata": {},
   "source": [
    "<font color=gray>Copyright (c) 2018 Melissa Lynn</font>\n",
    "<br><br>\n",
    "<font color=gray>Permission is hereby granted, free of charge, to any person obtaining a copy\n",
    "of this software and associated documentation files (the \"Software\"), to deal\n",
    "in the Software without restriction, including without limitation the rights\n",
    "to use, copy, modify, merge, publish, distribute, sublicense, and/or sell\n",
    "copies of the Software, and to permit persons to whom the Software is\n",
    "furnished to do so, subject to the following conditions:</font>\n",
    "<br><br>\n",
    "<font color=gray>The above copyright notice and this permission notice shall be included in all\n",
    "copies or substantial portions of the Software.</font>\n",
    "<br><br>\n",
    "<font color=gray>THE SOFTWARE IS PROVIDED \"AS IS\", WITHOUT WARRANTY OF ANY KIND, EXPRESS OR\n",
    "IMPLIED, INCLUDING BUT NOT LIMITED TO THE WARRANTIES OF MERCHANTABILITY,\n",
    "FITNESS FOR A PARTICULAR PURPOSE AND NONINFRINGEMENT. IN NO EVENT SHALL THE\n",
    "AUTHORS OR COPYRIGHT HOLDERS BE LIABLE FOR ANY CLAIM, DAMAGES OR OTHER\n",
    "LIABILITY, WHETHER IN AN ACTION OF CONTRACT, TORT OR OTHERWISE, ARISING FROM,\n",
    "OUT OF OR IN CONNECTION WITH THE SOFTWARE OR THE USE OR OTHER DEALINGS IN THE\n",
    "SOFTWARE.</font>"
   ]
  }
 ],
 "metadata": {
  "kernelspec": {
   "display_name": "Python 3",
   "language": "python",
   "name": "python3"
  },
  "language_info": {
   "codemirror_mode": {
    "name": "ipython",
    "version": 3
   },
   "file_extension": ".py",
   "mimetype": "text/x-python",
   "name": "python",
   "nbconvert_exporter": "python",
   "pygments_lexer": "ipython3",
   "version": "3.7.3"
  }
 },
 "nbformat": 4,
 "nbformat_minor": 2
}
