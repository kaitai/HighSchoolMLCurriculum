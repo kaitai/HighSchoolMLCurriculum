{
 "cells": [
  {
   "cell_type": "markdown",
   "metadata": {},
   "source": [
    "<font color=gray>This Jupyter notebook was created by Melissa Lynn and Mark Bunday for \\the\\world Girls' Machine Learning Day Camp 2019. The license can be found at the bottom of the notebook.</font>"
   ]
  },
  {
   "cell_type": "markdown",
   "metadata": {},
   "source": [
    "## Learning Objectives\n",
    "\n",
    "In this notebook, we will learn...\n",
    "\n",
    "* How to use **lists** to store collections of information \n",
    "\n",
    "* How to use **indices** to pick out items/elements from lists\n",
    "\n",
    "* How to use **for-loops** to traverse over lists"
   ]
  },
  {
   "cell_type": "markdown",
   "metadata": {},
   "source": [
    "# Lists\n",
    "\n",
    "In the last notebook, we learned about **variables** and basic arithmetic operations. Let's use those concepts now and write code to compute the average of three exam scores:"
   ]
  },
  {
   "cell_type": "code",
   "execution_count": null,
   "metadata": {},
   "outputs": [],
   "source": [
    "# Store the three exam scores in three variables\n",
    "exam1 = 85\n",
    "exam2 = 93\n",
    "exam3 = 88\n",
    "# Store the sum of the exam scores\n",
    "total = exam1 + exam2 + exam3\n",
    "# Store the average and print it\n",
    "average = total / 3\n",
    "print(average)"
   ]
  },
  {
   "cell_type": "markdown",
   "metadata": {},
   "source": [
    "**Exercise 1:** Average Weekly Temperature\n",
    "\n",
    "Last week the daily temperatures in degrees fahrenheit were:\n",
    "\n",
    "| 70  | 73  | 68  | 71  | 73   | 80  | 78  |\n",
    "|-----|-----|-----|-----|------|-----|-----|\n",
    "| Sun | Mon | Tue | Wed | Thur | Fri | Sat |\n",
    "\n",
    "Using this information, try writing your own code to compute the average weekly temperature. Be sure to use descriptive variable names!"
   ]
  },
  {
   "cell_type": "code",
   "execution_count": null,
   "metadata": {},
   "outputs": [],
   "source": []
  },
  {
   "cell_type": "markdown",
   "metadata": {},
   "source": [
    "Creating just seven different variables in order to store a week's temperatures gets pretty tedious and repetitive. It would be even worse if we had to store a month or a year of temperatures! \n",
    "\n",
    "Fortunately, Python has an ordered *data structure* called a **list** that we can use to store a collection of information. How do we use them? Lists are defined using **square brackets** `[]` and they can store any data type we please. Let's look at some quick examples:"
   ]
  },
  {
   "cell_type": "code",
   "execution_count": null,
   "metadata": {},
   "outputs": [],
   "source": [
    "# \"[]\" is an empty list with no items. \n",
    "# We assign it to the variable (or name it) \"empty_list\"\n",
    "empty_list = []\n",
    "print(empty_list)"
   ]
  },
  {
   "cell_type": "code",
   "execution_count": null,
   "metadata": {},
   "outputs": [],
   "source": [
    "# This is a list that contains three animals. \n",
    "# It's assigned to the variable \"animals\" \n",
    "animals = [\"Lion\", \"Elephant\", \"Zebra\"]\n",
    "print(animals)"
   ]
  },
  {
   "cell_type": "code",
   "execution_count": null,
   "metadata": {},
   "outputs": [],
   "source": [
    "# This is a list that contains both strings and numbers.\n",
    "# It's assigned to the variable \"mixed_list\"\n",
    "pi = 3.141592\n",
    "my_favorite_food = \"Pie\"\n",
    "mixed_list = [123, \"This is a string!\", pi, my_favorite_food]\n",
    "print(mixed_list)"
   ]
  },
  {
   "cell_type": "markdown",
   "metadata": {},
   "source": [
    "The things enclosed by a list's square brackets are its **elements**, or items. In the `animals` list above, the string `\"Lion\"` is an **element** of the `animals` list. The `animals` list has three **elements**. "
   ]
  },
  {
   "cell_type": "markdown",
   "metadata": {},
   "source": [
    "As mentioned above, lists are also *ordered* from left-to-right. This means that each **element** in a list has an **index**, or a \"position\". **Indices** in Python start counting from zero, not one. This means that the first item in a list is contained at the \"zeroth\" **index** or position. \n",
    "\n",
    "For example, we defined `mixed_list` above as: `mixed_list = [123, \"This is a string!\", pi, my_favorite_food]`\n",
    "\n",
    "We can think of this list as a table with two rows:\n",
    "\n",
    "| ELEMENT:  | 123 | 'This is a string!' | 3.141592 | 'Pie' |\n",
    "|-------|-----|---------------------|----------|-------|\n",
    "| INDEX: | 0   | 1                   | 2        | 3     |\n",
    "\n",
    "In `mixed_list`, the first **element** is the number `123` and it's stored in **index** 0. Because `mixed_list` has four **elements**, the last index is 3 and it contains the string `Pie`. We can think of lists as a row of numbered buckets that start from zero and count up left-to-right, where each bucket contains an item/element.\n",
    "\n",
    "**Indices** are useful because they allow us to pick out **elements** from a list based on their position. Days in a week all have distinct names, but because they're ordered we sometimes refer to them by their \"position\" instead, e.g. \"Today is the 2nd day of the week.\" \n",
    "\n",
    "The syntax for picking **elements** out of a list by their **index** also uses **square brackets** `[]`. For example, if we want to extract the first **element** from `mixed_list`, we can write: "
   ]
  },
  {
   "cell_type": "code",
   "execution_count": null,
   "metadata": {},
   "outputs": [],
   "source": [
    "print(mixed_list[0])"
   ]
  },
  {
   "cell_type": "markdown",
   "metadata": {},
   "source": [
    "The notation `mixed_list[0]` can be read as: \"I have a list called 'mixed_list', and I want the item at its zeroth (first) position.\" \n",
    "\n",
    "**Remember**, in Python (and other programming languages), we start counting from zero, not one. "
   ]
  },
  {
   "cell_type": "markdown",
   "metadata": {},
   "source": [
    "### Indices Exploration "
   ]
  },
  {
   "cell_type": "markdown",
   "metadata": {},
   "source": [
    "We've seen an example of how to get the first **element** out of the list by using **indices**. Now let's explore them some more. \n",
    "\n",
    "**Exploration 1:** Using indices, try printing out all four elements in `mixed_list`. "
   ]
  },
  {
   "cell_type": "code",
   "execution_count": null,
   "metadata": {},
   "outputs": [],
   "source": []
  },
  {
   "cell_type": "markdown",
   "metadata": {},
   "source": [
    "**Exploration 2:** We know that the zeroth index refers to the first element in a list. What happens if you try using `-1` as an index? What about `-2`? Try a few other negative numbers. What do you think is happening? "
   ]
  },
  {
   "cell_type": "code",
   "execution_count": null,
   "metadata": {},
   "outputs": [],
   "source": []
  },
  {
   "cell_type": "markdown",
   "metadata": {},
   "source": [
    "**Exploration 3:** `mixed_list` only has four items. What happens if you try printing the element in the fifth index? "
   ]
  },
  {
   "cell_type": "code",
   "execution_count": null,
   "metadata": {},
   "outputs": [],
   "source": []
  },
  {
   "cell_type": "markdown",
   "metadata": {},
   "source": [
    "## Traversing lists with for-loops\n",
    "\n",
    "At the beginning of this notebook, we wrote some code to calculate the average score across three exams: "
   ]
  },
  {
   "cell_type": "code",
   "execution_count": null,
   "metadata": {},
   "outputs": [],
   "source": [
    "exam1 = 85\n",
    "exam2 = 93\n",
    "exam3 = 88\n",
    "total = exam1 + exam2 + exam3\n",
    "average = total / 3\n",
    "print(average)"
   ]
  },
  {
   "cell_type": "markdown",
   "metadata": {},
   "source": [
    "This code worked, but we found with the temperatures example that using variables to store values can get pretty cumbersome. To solve that problem, we learned about lists and how we can use them to store information in an ordered manner.\n",
    "\n",
    "Can you now re-write the code above so that it uses a **list** and **indices** to calculate the average exam score instead of the three variables `exam1`, `exam2`, `exam3`? "
   ]
  },
  {
   "cell_type": "code",
   "execution_count": null,
   "metadata": {},
   "outputs": [],
   "source": []
  },
  {
   "cell_type": "markdown",
   "metadata": {},
   "source": [
    "Using a list is much better because now we only need to keep one variable instead of three! However, we still have a problem: Even though we're using a list, we still have to individually sum up the exam scores at each index. If our list was larger, this could quickly get tedious. \n",
    "\n",
    "Luckily for us, Python has a structure called a **for-loop** that allows us to **traverse** a list's elements or indices from left-to-right and apply operations to them. For now, we'll focus on traversing a list's element. Let's look at an example: "
   ]
  },
  {
   "cell_type": "code",
   "execution_count": null,
   "metadata": {},
   "outputs": [],
   "source": [
    "# Let's define a list of names\n",
    "names = [\"John\", \"Jane\", \"Joe\"]\n",
    "\n",
    "# Let's define a counter variable\n",
    "iteration_count = 0\n",
    "\n",
    "# Now let's use a for-loop\n",
    "# Read this statement as:\n",
    "# \"For each name in the list names, we want to do...\"\n",
    "for current_name in names:\n",
    "    # Indented code underneath the for-loop is called\n",
    "    # the \"body\" of the for-loop. Code here will\n",
    "    # run once for each element in the names list,\n",
    "    # which is why it's called a \"for loop\".\n",
    "    \n",
    "    # Because there are three elements in the names list,\n",
    "    # the indented code below will run three times in a row, \n",
    "    # for each element in the list, starting with 'John' and \n",
    "    # ending with 'Joe'.\n",
    "    print(\"This will print each time!\")\n",
    "    iteration_count = iteration_count + 1\n",
    "    print(f\"This is iteration/loop number {iteration_count}\")\n",
    "    print(current_name)\n",
    "\n",
    "# This line is not indented so it's not part of the \n",
    "# for-loop \"body\". It will not run until the for-loop\n",
    "# has finished running for every element in the names list.\n",
    "print(\"This unindented line doesn't print until the for loop is finished!\")"
   ]
  },
  {
   "cell_type": "markdown",
   "metadata": {},
   "source": [
    "That's a lot to take in! Let's try and break down what's happening. \n",
    "\n",
    "We first start by defining a list we want to **traverse**, or **iterate**, over called `names`. We call it \"traversal\" because the for-loop \"walks over\" the list's elements from left-to-right, starting at `John`, then `Jane`, and finally `Joe`. When the for-loop reaches the end of the list it stops.\n",
    "\n",
    "The line `for current_name in names:` **declares** or \"defines\" a for-loop. The way we tell the for-loop which list we want to **traverse** is by giving the name of the list after the `in` keyword. We also defined a variable name that refers to the current element the for-loop is on. The variable name we used was `current_name`, however we could have used whatever we pleased. For example, these loops all print the same thing:"
   ]
  },
  {
   "cell_type": "code",
   "execution_count": null,
   "metadata": {},
   "outputs": [],
   "source": [
    "names = [\"John\", \"Jane\", \"Joe\"]\n",
    "print(\"This is loop 1:\")\n",
    "for current_name in names:\n",
    "    print(current_name)\n",
    "\n",
    "print(\"This is loop 2:\")\n",
    "for element in names:\n",
    "    print(element)\n",
    "    \n",
    "print(\"This is loop 3:\")\n",
    "for name in names:\n",
    "    print(name)"
   ]
  },
  {
   "cell_type": "markdown",
   "metadata": {},
   "source": [
    "Think of it this way: Because we're traversing the `names` list from left-to-right, on the first **iteration**, the variable `current_name` is assigned to the first element in the `names` list, the string `\"John\"`. The loop then repeats itself and the variable `current_name` then gets assigned to the second element in the list, and so on and so forth. \n",
    "\n",
    "```\n",
    "...\n",
    "current_name = \"John\"  # Iteration 1\n",
    "current_name = \"Jane\"  # Iteration 2\n",
    "current_name = \"Joe\"  # Iteration 3\n",
    "...\n",
    "```\n",
    "\n",
    "The code that is indented in the for-loop...\n",
    "\n",
    "```\n",
    "    print(\"This will print each time!\")\n",
    "    iteration_count = iteration_count + 1\n",
    "    print(f\"This is iteration/loop number {iteration_count}\")\n",
    "    print(current_name)\n",
    "```\n",
    "\n",
    "...is called the **body** of the for-loop. These are commands that will run each **iteration**, or for each element in the list. These commands must be indented in order to run in the for-loop. Notice that even though we defined the variable `iteration_count` *outside* of the for-loop body, we can modify it *inside* the for-loop body and print it at each **iteration**. \n",
    "\n",
    "\n",
    "Finally, we have a print statement at the bottom, outside of the for-loop:\n",
    "\n",
    "```\n",
    "...\n",
    "print(\"This unindented line doesn't print until the for loop is finished!\")\n",
    "```\n",
    "\n",
    "Notice how this line doesn't print until the for-loop is completely finished running. "
   ]
  },
  {
   "cell_type": "markdown",
   "metadata": {},
   "source": [
    "Now that we have learned about **for-loops**, let's come back to the exam scores example. "
   ]
  },
  {
   "cell_type": "code",
   "execution_count": null,
   "metadata": {},
   "outputs": [],
   "source": [
    "exam_scores = [85, 93, 88]\n",
    "total = exam_scores[0] + exam_scores[1] + exam_scores[2]\n",
    "average = total / 3\n",
    "print(average)"
   ]
  },
  {
   "cell_type": "markdown",
   "metadata": {},
   "source": [
    "See if you can modify this code to use a **for-loop** to **traverse** the `exam_scores` list, sum up the scores of each exam, and then print the average. \n",
    "\n",
    "**Hint:** Use a variable to store the total. "
   ]
  },
  {
   "cell_type": "code",
   "execution_count": null,
   "metadata": {},
   "outputs": [],
   "source": []
  },
  {
   "cell_type": "markdown",
   "metadata": {},
   "source": [
    "A list is one example of a more complicated data structure that can be used to store and organize information. We'll work with more of these later!\n",
    "\n",
    "## Review\n",
    "\n",
    "We learned that...\n",
    "\n",
    "* Lists in Python are defined using **square brackets** `[]`\n",
    "\n",
    "* The items in a list are called **elements**\n",
    "\n",
    "* Each element in a list has an **index** and **indices** start from 0 and count up\n",
    "\n",
    "* Elements can be picked out from lists by using their **index**\n",
    "\n",
    "* For-loops can be used to **traverse** a list's elements in order "
   ]
  },
  {
   "cell_type": "markdown",
   "metadata": {},
   "source": [
    "## Exercises"
   ]
  },
  {
   "cell_type": "markdown",
   "metadata": {},
   "source": [
    "Given the following list of characters: \n",
    "\n",
    "`['m', 'a', 'c', 'h', 'i', 'n', 'e', ' ', 'l', 'e', 'a', 'r', 'n', 'i', 'n', 'g']`\n",
    "\n",
    "Calculate **by hand** the indices of the characters `m`, `h`, `r`, and `g`."
   ]
  },
  {
   "cell_type": "markdown",
   "metadata": {},
   "source": [
    "*For the following programming exercises, you should make sure to use for-loops and lists to calculate your answers.*"
   ]
  },
  {
   "cell_type": "markdown",
   "metadata": {},
   "source": [
    "You run a small business. In a given week, your profits each day were $204$, $236$, $127$, $319$, $276$, $198$, and $203$. Write a program to compute your total profits for this week."
   ]
  },
  {
   "cell_type": "code",
   "execution_count": null,
   "metadata": {},
   "outputs": [],
   "source": []
  },
  {
   "cell_type": "markdown",
   "metadata": {},
   "source": [
    "The next week, your income on each day was $503$, $628$, $429$, $109$, $720$, $624$, and $598$. Your expenses each day were $305$, $352$, $299$, $372$, $302$, $340$, and $333$. Write a program that computes your total **net** profit for this week."
   ]
  },
  {
   "cell_type": "code",
   "execution_count": null,
   "metadata": {},
   "outputs": [],
   "source": []
  },
  {
   "cell_type": "markdown",
   "metadata": {},
   "source": [
    "Consider the week in which your income on each day was $503$, $628$, $429$, $109$, $720$, $624$, and $598$. Write a program to compute your **average** daily income this week."
   ]
  },
  {
   "cell_type": "code",
   "execution_count": null,
   "metadata": {},
   "outputs": [],
   "source": []
  },
  {
   "cell_type": "markdown",
   "metadata": {},
   "source": [
    "Consider the week in which your income on each day was $503$, $628$, $429$, $109$, $720$, $624$, and $598$. Write a program to compute the **variance** of your daily income this week.\n",
    "\n",
    "**Reminder:** The variance of a dataset $X$ with $N$ observations is the sum of each datapoint $x$ minus the mean of the dataset $\\mu$ squared over $N$.  \n",
    "\n",
    "$$Var = \\sigma^{2} = \\frac{1}{N}\\sum_{i=1}^{N}{(x_{i} - \\mu})^{2}$$\n",
    "\n",
    "Do you see how a for-loop could be used to represent the variance equation? Which part of the equation does the for-loop most resemble? "
   ]
  },
  {
   "cell_type": "markdown",
   "metadata": {},
   "source": [
    "<font color=gray>Copyright (c) 2019 Melissa Lynn & Mark Bunday</font>\n",
    "<br><br>\n",
    "<font color=gray>Permission is hereby granted, free of charge, to any person obtaining a copy\n",
    "of this software and associated documentation files (the \"Software\"), to deal\n",
    "in the Software without restriction, including without limitation the rights\n",
    "to use, copy, modify, merge, publish, distribute, sublicense, and/or sell\n",
    "copies of the Software, and to permit persons to whom the Software is\n",
    "furnished to do so, subject to the following conditions:</font>\n",
    "<br><br>\n",
    "<font color=gray>The above copyright notice and this permission notice shall be included in all\n",
    "copies or substantial portions of the Software.</font>\n",
    "<br><br>\n",
    "<font color=gray>THE SOFTWARE IS PROVIDED \"AS IS\", WITHOUT WARRANTY OF ANY KIND, EXPRESS OR\n",
    "IMPLIED, INCLUDING BUT NOT LIMITED TO THE WARRANTIES OF MERCHANTABILITY,\n",
    "FITNESS FOR A PARTICULAR PURPOSE AND NONINFRINGEMENT. IN NO EVENT SHALL THE\n",
    "AUTHORS OR COPYRIGHT HOLDERS BE LIABLE FOR ANY CLAIM, DAMAGES OR OTHER\n",
    "LIABILITY, WHETHER IN AN ACTION OF CONTRACT, TORT OR OTHERWISE, ARISING FROM,\n",
    "OUT OF OR IN CONNECTION WITH THE SOFTWARE OR THE USE OR OTHER DEALINGS IN THE\n",
    "SOFTWARE.</font>"
   ]
  }
 ],
 "metadata": {
  "kernelspec": {
   "display_name": "Python 3",
   "language": "python",
   "name": "python3"
  },
  "language_info": {
   "codemirror_mode": {
    "name": "ipython",
    "version": 3
   },
   "file_extension": ".py",
   "mimetype": "text/x-python",
   "name": "python",
   "nbconvert_exporter": "python",
   "pygments_lexer": "ipython3",
   "version": "3.7.3"
  }
 },
 "nbformat": 4,
 "nbformat_minor": 2
}
