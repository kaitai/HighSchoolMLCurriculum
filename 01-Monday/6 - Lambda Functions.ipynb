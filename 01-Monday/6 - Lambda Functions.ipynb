{
 "cells": [
  {
   "cell_type": "markdown",
   "metadata": {},
   "source": [
    "## Lambda Functions\n",
    "\n",
    "Sometimes we want to use functions as arguments to other functions or define them in-line (within) other pieces of code. When this happens, it is sometimes desirable to define them **anonymously** as **lambda functions**. A lambda function is simply a function without a name. Let's first start by writing a simple function to add two numbers. We could write: "
   ]
  },
  {
   "cell_type": "code",
   "execution_count": null,
   "metadata": {},
   "outputs": [],
   "source": [
    "def add(num1, num2):\n",
    "    return num1 + num2"
   ]
  },
  {
   "cell_type": "markdown",
   "metadata": {},
   "source": [
    "A lambda function is defined in a very similar way, but we use the `lambda` keyword instead. Lambda functions have the form `lambda arguments: expression`. Let's define the same function as a lambda function now. "
   ]
  },
  {
   "cell_type": "code",
   "execution_count": null,
   "metadata": {},
   "outputs": [],
   "source": [
    "lambda_add = lambda num1, num2: num1 + num2"
   ]
  },
  {
   "cell_type": "markdown",
   "metadata": {},
   "source": [
    "How do we use it? Just like any normal function!"
   ]
  },
  {
   "cell_type": "code",
   "execution_count": null,
   "metadata": {},
   "outputs": [],
   "source": [
    "print(add(3, 17))\n",
    "print(lambda_add(3, 17))  \n",
    "# We get the same answer using the lambda function.\n",
    "# \"3\" gets assigned to \"a\", and \"17\" gets assigned to \"b\""
   ]
  },
  {
   "cell_type": "markdown",
   "metadata": {},
   "source": [
    "OK, so now we've seen how to define lambda functions, you might be wondering **Why use lambdas?**. The nice thing about lambda functions is that they can be defined **in-line.** That is, they can be defined within other pieces of code spontaneously, which makes them convenient and concise, particularly if they perform an operation that isn't reused elsewhere.\n",
    "\n",
    "Let's look at a simple example to see why they might be useful. In Python, the `map(input function, input function arguments)` function takes as input\n",
    "\n",
    "* a function \n",
    "* that functions arguments \n",
    "\n",
    "The reason it's called \"map\" is because it allows us to repeatedly apply, or \"map\", the input function if a *list* of arguments is passed in. Let's look at a simple example to get a better idea of what's going on: "
   ]
  },
  {
   "cell_type": "code",
   "execution_count": null,
   "metadata": {},
   "outputs": [],
   "source": [
    "# Let's start by defining a simple function times_two\n",
    "# Notice that this function takes in a SINGLE argument\n",
    "def times_two(number):\n",
    "    return number * 2\n",
    "\n",
    "numbers = [1, 2, 3, 4, 5, 6]\n",
    "\n",
    "# We pass our function, \"times_two\", as the first argument to \"map\".\n",
    "# It then iterates like a for-loop over each number in \"numbers\",\n",
    "# passing them as input to the \"times_two\" function and outputs \n",
    "# the result.\n",
    "numbers2 = list(map(times_two, numbers))\n",
    "print(numbers2)"
   ]
  },
  {
   "cell_type": "markdown",
   "metadata": {},
   "source": [
    "What exactly is happening? We have our function `times_two` that takes in a single argument, and yet it looks like we're passing it a list of numbers. What's actually happening is that `times_two` is getting called repeatedly, once for each number in the numbers list, e.g.\n",
    "\n",
    "```\n",
    "numbers = [1, 2, 3, 4, 5, 6]\n",
    "list(map(times_two, numbers))\n",
    "...\n",
    "numbers2 = [times_two(1), times_two(2), times_two(3),\n",
    " times_two(4), times_two(5), times_two(6)]\n",
    "```\n",
    "\n",
    "A simple implementation of `map` might look like: "
   ]
  },
  {
   "cell_type": "code",
   "execution_count": null,
   "metadata": {},
   "outputs": [],
   "source": [
    "def my_map(func, argument_list):\n",
    "    output = []\n",
    "    for argument in argument_list:\n",
    "        output.append(func(argument))\n",
    "    return output\n",
    "\n",
    "print(my_map(times_two, numbers))"
   ]
  },
  {
   "cell_type": "markdown",
   "metadata": {},
   "source": [
    "In reality, `map` is a bit more sophisticated than that, but that covers its basic functionality. What happens if the function you pass into `map` takes two arguments? We simply pass in another argument list. **Note:** The argument lists must be of the same length/size, though, otherwise there will be a mismatch and an error will occur. "
   ]
  },
  {
   "cell_type": "code",
   "execution_count": null,
   "metadata": {},
   "outputs": [],
   "source": [
    "# Let's start by defining a simple function times_multipler\n",
    "def times_multipler(number, multiplier):\n",
    "    return number * multiplier\n",
    "\n",
    "numbers = [1, 2, 3, 4, 5, 6]\n",
    "multipliers = [2, 4, 6, 8, 10, 12]\n",
    "\n",
    "numbers2 = list(map(times_multipler, numbers, multipliers))\n",
    "print(numbers2)"
   ]
  },
  {
   "cell_type": "markdown",
   "metadata": {},
   "source": [
    "It's often the case that we want to apply operations to lists of things, but we don't always want to define functions for these operations, especially if they're only going to be used once. **Lambda functions** are a more concise way to do exactly that. Let's look at the `times_two` example again and see how we can rewrite it. First, let's just establish that the following approach is *not* allowed: "
   ]
  },
  {
   "cell_type": "code",
   "execution_count": null,
   "metadata": {},
   "outputs": [],
   "source": [
    "numbers = [1, 2, 3, 4, 5, 6]\n",
    "numbers2 = list(map(times_two, def times_two(number): return number * 2))\n",
    "print(numbers2)"
   ]
  },
  {
   "cell_type": "markdown",
   "metadata": {},
   "source": [
    "We can't define functions within other code in Python. We can, however, define lambda functions **in-line** just fine: "
   ]
  },
  {
   "cell_type": "code",
   "execution_count": null,
   "metadata": {},
   "outputs": [],
   "source": [
    "numbers = [1, 2, 3, 4, 5, 6]\n",
    "numbers2 = list(map(lambda number: number * 2, numbers))\n",
    "print(numbers2)"
   ]
  },
  {
   "cell_type": "markdown",
   "metadata": {},
   "source": [
    "We can see that by writing a lambda function **in-line** inside the map function we've acheived the same result in a much more concise way! `lambda number: number * 2` serves as the function argument to the `map` function, meaning we don't have to define the `times_two` function to get the same result. "
   ]
  },
  {
   "cell_type": "markdown",
   "metadata": {},
   "source": [
    "Now let's try some exercises!\n",
    "\n",
    "### Exercises "
   ]
  },
  {
   "cell_type": "markdown",
   "metadata": {},
   "source": [
    "You're given two lists, one of widths and one of heights. Write a function that iterates through both lists pairwise (1st element widths * 1st element heights, 2nd element widths * 2nd element heights, ...) and returns a list of areas. "
   ]
  },
  {
   "cell_type": "code",
   "execution_count": null,
   "metadata": {},
   "outputs": [],
   "source": [
    "widths = [2, 4, 5, 6, 7, 8]\n",
    "heights = [4, 5, 3, 2, 5, 7]\n",
    "\n"
   ]
  },
  {
   "cell_type": "markdown",
   "metadata": {},
   "source": [
    "Rewrite the function you wrote above using `map` and a lambda function. "
   ]
  },
  {
   "cell_type": "code",
   "execution_count": null,
   "metadata": {},
   "outputs": [],
   "source": []
  }
 ],
 "metadata": {
  "kernelspec": {
   "display_name": "Python 3",
   "language": "python",
   "name": "python3"
  },
  "language_info": {
   "codemirror_mode": {
    "name": "ipython",
    "version": 3
   },
   "file_extension": ".py",
   "mimetype": "text/x-python",
   "name": "python",
   "nbconvert_exporter": "python",
   "pygments_lexer": "ipython3",
   "version": "3.7.3"
  }
 },
 "nbformat": 4,
 "nbformat_minor": 2
}
