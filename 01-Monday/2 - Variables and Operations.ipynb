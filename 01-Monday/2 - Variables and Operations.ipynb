{
 "cells": [
  {
   "cell_type": "markdown",
   "metadata": {},
   "source": [
    "<font color=gray>This Jupyter notebook was created by Melissa Lynn for \\the\\world Girls' Machine Learning Day Camp. The license can be found at the bottom of the notebook.</font>\n",
    "\n",
    "# Variables and Operations\n",
    "\n",
    "## Variables\n",
    "\n",
    "You have probably regularly used variables in math classes to represent unknown quantities.\n",
    "We also use variables in programming, but they are used a bit differently. In programming, we regularly want to store a piece of information, like a number or a word. But we need a way to refer back to that piece of information, which is what variables allow us to do. In programming, a variable gives a name to a storage space for a piece of information, allowing us to access and manipulate that piece of information.\n",
    "\n",
    "For example, in the following piece of code, we want to store the number 5. We use a variable named x to store the number 5. We then can access this value, for example using our print function."
   ]
  },
  {
   "cell_type": "code",
   "execution_count": null,
   "metadata": {
    "scrolled": true
   },
   "outputs": [],
   "source": [
    "x = 5\n",
    "print(x)"
   ]
  },
  {
   "cell_type": "markdown",
   "metadata": {},
   "source": [
    "Note that this time we didn't use quotation marks around the variable name x. If we had, it would have just printed the letter x to the screen! But we wanted it to look at the value that the variable x is storing, which is what it did here.\n",
    "\n",
    "We use the equals sign to assign values to a variable. Note that this also behaves differently from the equals sign that you've seen in math. In programming, it's best to think of the equals sign instead as a left pointing arrow, which assigns the value of the expression on the right to the variable on the left: $$x\\leftarrow 5.$$ The code `x = 5` should be read as \"assign the value 5 to the variable x.\" Because of this, writing `x = 5` makes sense, but writing `5 = x` is nonsense from a programming perspective, and this will generate an error. \n",
    "\n",
    "See what happens when you try to run the following code."
   ]
  },
  {
   "cell_type": "code",
   "execution_count": null,
   "metadata": {
    "scrolled": true
   },
   "outputs": [],
   "source": [
    "5 = x\n",
    "print(x)"
   ]
  },
  {
   "cell_type": "markdown",
   "metadata": {},
   "source": [
    "The error message tells us something about what went wrong when we tried to run our code. A syntax error is an error in writing your code, it means that your code doesn't make sense to the computer. Here, the message \"can't assign to literal\" is telling us that writing `5 = x` doesn't make sense - this line of code means \"assign the value of x to the number 5,\" but the programming language blocks us from changing the value of the number 5, which is a very good thing!\n",
    "\n",
    "We can also change the value of variables throughout our code. In the following code, we assign the value 5 to the variable x. Then, then line `x = x + 1` assigns the value of x+1 to the variable x. Note that this line of code will first compute the value of x + 1, which would be 6, and then assigns that value to x. We then print the value of x to verify that it has been updated."
   ]
  },
  {
   "cell_type": "code",
   "execution_count": null,
   "metadata": {
    "scrolled": true
   },
   "outputs": [],
   "source": [
    "x = 5\n",
    "x = x + 1\n",
    "print(x)"
   ]
  },
  {
   "cell_type": "markdown",
   "metadata": {},
   "source": [
    "Writing `x = x + 1` probably looks strange, but remember that this is not the equals sign from math! We are finding the value of x + 1, and then assigning that value to the variable x.\n",
    "\n",
    "# Operations\n",
    "\n",
    "We can also use different variables together and use mathematical operations to write more complicated code. For the following code, try to figure out what the output will be. Then run the code to check your answer."
   ]
  },
  {
   "cell_type": "code",
   "execution_count": null,
   "metadata": {
    "scrolled": true
   },
   "outputs": [],
   "source": [
    "x = 5\n",
    "y = x - 1\n",
    "x = 3 * y + 5\n",
    "print(\"x:\")\n",
    "print(x)\n",
    "print(\"y:\")\n",
    "print(y)"
   ]
  },
  {
   "cell_type": "markdown",
   "metadata": {},
   "source": [
    "Note how in this code, in addition to outputing the values of the variables, we printed some text in order to make the output easier to read.\n",
    "\n",
    "Using variable names like x and y might be more familiar from math, but it can get confusing when writing long programs - you might forget what value x is supposed to be referring to! Because of this, it's better to get in the habit of using descriptive variable names. In programming, it's fine to have variable names longer than one character, and this is a good thing to do!\n",
    "\n",
    "For example, let's suppose that we're writing a program that stores a salary, and then we want to give the person with that salary a 10% raise. We can do this with the following code."
   ]
  },
  {
   "cell_type": "code",
   "execution_count": 3,
   "metadata": {
    "scrolled": true
   },
   "outputs": [
    {
     "name": "stdout",
     "output_type": "stream",
     "text": [
      "The employee's salary is: 55000.00000000001\n",
      "55000.00000000001\n"
     ]
    }
   ],
   "source": [
    "salary = 50000\n",
    "salary = salary * 1.1\n",
    "print(f\"The employee's salary is: {salary}\")\n",
    "print(salary)"
   ]
  },
  {
   "cell_type": "markdown",
   "metadata": {},
   "source": [
    "In the following code, we take the temperature in degrees fahrenheit and convert the temperature to degrees celsius. Note the descriptive variable names we use in order to keep track of which is which!\n",
    "\n",
    "Try editing this code to convert today's temperature to celsius, and to convert other temperatures to celsius."
   ]
  },
  {
   "cell_type": "code",
   "execution_count": null,
   "metadata": {
    "scrolled": true
   },
   "outputs": [],
   "source": [
    "degrees_f = 52\n",
    "degrees_c = (5/9)*(degrees_f - 32)\n",
    "print(\"Temperature in degrees fahrenheit:\")\n",
    "print(degrees_f)\n",
    "print(\"Temperature in degrees celsius:\")\n",
    "print(degrees_c)"
   ]
  },
  {
   "cell_type": "markdown",
   "metadata": {},
   "source": [
    "Note that we could also have computed this in one line as `degrees_c = (5/9)*(52 - 32)`. Having the temperature recorded as the valuable as a variable makes the code easier to understand and easier to change later, when we want to convert a different temperature.\n",
    "\n",
    "Now try writing your own code to convert from temperature in celsius to fahrenheit! Remember to use descriptive variable names. Try running your code for various temperatures.\n",
    "\n",
    "Note: if you use the same variable names, it will write over the values from the code above. Although this is totally fine for this exercise, it's an important thing to be aware of!"
   ]
  },
  {
   "cell_type": "code",
   "execution_count": null,
   "metadata": {
    "scrolled": true
   },
   "outputs": [],
   "source": []
  },
  {
   "cell_type": "markdown",
   "metadata": {},
   "source": [
    "The following code runs, but does not provide the correct conversion from fahrenheit to celsius. Can you figure out what the mistake is?"
   ]
  },
  {
   "cell_type": "code",
   "execution_count": null,
   "metadata": {
    "scrolled": true
   },
   "outputs": [],
   "source": [
    "degrees_f = 52\n",
    "degrees_c = 5/9*degrees_f - 32\n",
    "print(\"Temperature in degrees fahrenheit:\")\n",
    "print(degrees_f)\n",
    "print(\"Temperature in degrees celsius:\")\n",
    "print(degrees_c)"
   ]
  },
  {
   "cell_type": "markdown",
   "metadata": {},
   "source": [
    "This is an example of a logic error. A logic error is when our code runs properly, but doesn't produce the result we wanted. Essentially, it means that we told the computer to do the wrong thing.\n",
    "\n",
    "Earlier we saw examples of syntax errors, where our code didn't make sense to the computer. Syntax errors generate error messages, but logic errors do not. This can make logic errors much more difficult to detect!"
   ]
  },
  {
   "cell_type": "markdown",
   "metadata": {},
   "source": [
    "## Exercises\n",
    "\n",
    "Write a program that converts times in minutes to times in hours. Use this to find how many hours are in 17489 minutes, 13987 minutes, and 1289 minutes. Before you start writing code, think about what your variables should be."
   ]
  },
  {
   "cell_type": "code",
   "execution_count": null,
   "metadata": {
    "scrolled": true
   },
   "outputs": [],
   "source": []
  },
  {
   "cell_type": "markdown",
   "metadata": {},
   "source": [
    "Suppose you buy three turtles for $5 each, pre-tax. Turtles are taxed at a rate of 8.025<span>%</span>. Write a program that computes the pre-tax cost of your turtles, the tax, and the total cost. Write your program so you can easily change the number and cost of turtles you buy. "
   ]
  },
  {
   "cell_type": "code",
   "execution_count": null,
   "metadata": {},
   "outputs": [],
   "source": []
  },
  {
   "cell_type": "markdown",
   "metadata": {},
   "source": [
    "Write a program that computes the distance traveled at a given constant speed for a given amount of time. Use this to compute how far you travel going 20 mph for 30 minutes, 50 mph for 20 minutes, and 60 mph for an hour and 15 minutes. Before you start writing code, think about what your variables should be."
   ]
  },
  {
   "cell_type": "code",
   "execution_count": null,
   "metadata": {
    "scrolled": true
   },
   "outputs": [],
   "source": []
  },
  {
   "cell_type": "markdown",
   "metadata": {},
   "source": [
    "Find and correct the errors in the following code, which is supposed to compute the height (m) of a ball at 3 minutes, where the height $h$ of the ball (in meters) after $t$ seconds is given by $$h = -4.9(t-2.3)^2+1.1$$ Note: there are both logic and syntax errors!"
   ]
  },
  {
   "cell_type": "code",
   "execution_count": null,
   "metadata": {
    "scrolled": true
   },
   "outputs": [],
   "source": [
    "time = 3\n",
    "height = -4.9*((t-2.3)*(t-2.3)+1.1)\n",
    "print(\"height in meters:\")\n",
    "print(\"h\")"
   ]
  },
  {
   "cell_type": "markdown",
   "metadata": {},
   "source": [
    "It's important to note that `(t-2.3)^2` will not work to compute a square in python. It turns out that the easiest way to square a number really is to multiply it by itself. In order to compute other exponents, you'd write `a**b` to compute the exponent $a^b$.\n",
    "\n",
    "Write a program that computes the average of three numbers. Use this to compute the average of each of the sets {1,5,2}, {27834, 12478, 473}, and {732, 538, 37}. "
   ]
  },
  {
   "cell_type": "code",
   "execution_count": null,
   "metadata": {
    "scrolled": true
   },
   "outputs": [],
   "source": []
  },
  {
   "cell_type": "markdown",
   "metadata": {},
   "source": [
    "Write a program that computes the variance of a set of three numbers. Use this to compute the variance of each of the sets {1,5,2}, {27834, 12478, 473}, and {732, 538, 37}."
   ]
  },
  {
   "cell_type": "code",
   "execution_count": null,
   "metadata": {
    "scrolled": true
   },
   "outputs": [],
   "source": []
  },
  {
   "cell_type": "markdown",
   "metadata": {},
   "source": [
    "<font color=gray>Copyright (c) 2018 Melissa Lynn</font>\n",
    "<br><br>\n",
    "<font color=gray>Permission is hereby granted, free of charge, to any person obtaining a copy\n",
    "of this software and associated documentation files (the \"Software\"), to deal\n",
    "in the Software without restriction, including without limitation the rights\n",
    "to use, copy, modify, merge, publish, distribute, sublicense, and/or sell\n",
    "copies of the Software, and to permit persons to whom the Software is\n",
    "furnished to do so, subject to the following conditions:</font>\n",
    "<br><br>\n",
    "<font color=gray>The above copyright notice and this permission notice shall be included in all\n",
    "copies or substantial portions of the Software.</font>\n",
    "<br><br>\n",
    "<font color=gray>THE SOFTWARE IS PROVIDED \"AS IS\", WITHOUT WARRANTY OF ANY KIND, EXPRESS OR\n",
    "IMPLIED, INCLUDING BUT NOT LIMITED TO THE WARRANTIES OF MERCHANTABILITY,\n",
    "FITNESS FOR A PARTICULAR PURPOSE AND NONINFRINGEMENT. IN NO EVENT SHALL THE\n",
    "AUTHORS OR COPYRIGHT HOLDERS BE LIABLE FOR ANY CLAIM, DAMAGES OR OTHER\n",
    "LIABILITY, WHETHER IN AN ACTION OF CONTRACT, TORT OR OTHERWISE, ARISING FROM,\n",
    "OUT OF OR IN CONNECTION WITH THE SOFTWARE OR THE USE OR OTHER DEALINGS IN THE\n",
    "SOFTWARE.</font>"
   ]
  }
 ],
 "metadata": {
  "kernelspec": {
   "display_name": "Python 3",
   "language": "python",
   "name": "python3"
  },
  "language_info": {
   "codemirror_mode": {
    "name": "ipython",
    "version": 3
   },
   "file_extension": ".py",
   "mimetype": "text/x-python",
   "name": "python",
   "nbconvert_exporter": "python",
   "pygments_lexer": "ipython3",
   "version": "3.7.3"
  }
 },
 "nbformat": 4,
 "nbformat_minor": 2
}
