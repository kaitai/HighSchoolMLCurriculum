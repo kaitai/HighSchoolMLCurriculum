{
 "cells": [
  {
   "cell_type": "markdown",
   "metadata": {},
   "source": [
    "<font color=gray>This Jupyter notebook was created by Melissa Lynn for \\the\\world Girls' Machine Learning Day Camp. The license can be found at the bottom of the notebook.</font>\n",
    "\n",
    "# Lists\n",
    "\n",
    "Let's write code to compute the average of three exam scores."
   ]
  },
  {
   "cell_type": "code",
   "execution_count": null,
   "metadata": {},
   "outputs": [],
   "source": [
    "exam1 = 85\n",
    "exam2 = 93\n",
    "exam3 = 88\n",
    "total = exam1 + exam2 + exam3\n",
    "average = total / 3\n",
    "print(average)"
   ]
  },
  {
   "cell_type": "markdown",
   "metadata": {},
   "source": [
    "Now try writing your own code to compute the average temperature in a week with temperatures 70, 73, 68, 71, 73, 80,  and 78 degrees Fahrenheit. Be sure to use descriptive variable names!"
   ]
  },
  {
   "cell_type": "code",
   "execution_count": null,
   "metadata": {},
   "outputs": [],
   "source": []
  },
  {
   "cell_type": "markdown",
   "metadata": {},
   "source": [
    "Creating seven different variables in order to store these temperatures gets pretty cumbersome. Fortunately, there are ways to store a collection of information all together.\n",
    "\n",
    "In the code below, we rewrite our computation of the average exam score using a data structure called a list. A list is a format that keeps entries in order, but does not care about the data type of each entry.\n",
    "\n",
    "We define a list called `exam_scores` to store the scores on the three exam score using square brackets `[]`. We first need to compute the total/sum of the exam scores, so we start `total` out at 0, then add in each score one by one. The syntax `for score in exam_scores:` means that we run the indented code for each `score` in the list `exam_scores`."
   ]
  },
  {
   "cell_type": "code",
   "execution_count": null,
   "metadata": {},
   "outputs": [],
   "source": [
    "exam_scores = [85, 93, 88]\n",
    "total = 0\n",
    "for score in exam_scores:\n",
    "    total = total + score\n",
    "    print(\"The total is now:\")\n",
    "    print(total)\n",
    "average = total / 3\n",
    "print(average)"
   ]
  },
  {
   "cell_type": "markdown",
   "metadata": {},
   "source": [
    "Try writing your own code to compute the average temperature in a week with temperatures 70, 73, 68, 71, 73, 80, and 78 degrees Fahrenheit. This time try using a list to store the temperatures."
   ]
  },
  {
   "cell_type": "code",
   "execution_count": null,
   "metadata": {},
   "outputs": [],
   "source": []
  },
  {
   "cell_type": "markdown",
   "metadata": {},
   "source": [
    "A list is one example of a more complicated data structure that can be used to store and organize information. We'll work with more of these later!\n",
    "\n",
    "Sometimes you'll want to select just one element from a list. Say you have a list of temperatures for Sunday through the next Saturday. If you look at the zeroth element of the list, you'll get the first element: Sunday's temperature."
   ]
  },
  {
   "cell_type": "code",
   "execution_count": null,
   "metadata": {},
   "outputs": [],
   "source": [
    "temperature_list = [70, 73, 68, 71, 73, 80, 78]\n",
    "temperature_list[0]"
   ]
  },
  {
   "cell_type": "markdown",
   "metadata": {},
   "source": [
    "How can you look at Friday's temperature? By reading the list, you know it is 80 on Friday. Think about why we write 5 rather than 6 to get Friday's temperature from the list:"
   ]
  },
  {
   "cell_type": "code",
   "execution_count": null,
   "metadata": {},
   "outputs": [],
   "source": [
    "temperature_list[5]"
   ]
  },
  {
   "cell_type": "markdown",
   "metadata": {},
   "source": [
    "What happens if you try the following code? Any idea why?"
   ]
  },
  {
   "cell_type": "code",
   "execution_count": null,
   "metadata": {},
   "outputs": [],
   "source": [
    "temperature_list[7]"
   ]
  },
  {
   "cell_type": "markdown",
   "metadata": {},
   "source": [
    "\n",
    "\n",
    "## Exercises\n",
    "\n",
    "You run a small business. In a given week, your profits each day were $204$, $236$, $127$, $319$, $276$, $198$, and $203$. Write a program that computes your total profits for the week."
   ]
  },
  {
   "cell_type": "code",
   "execution_count": null,
   "metadata": {},
   "outputs": [],
   "source": []
  },
  {
   "cell_type": "markdown",
   "metadata": {},
   "source": [
    "The next week, your income on each day was $503$, $628$, $429$, $109$, $720$, $624$, and $598$. Your expenses each day were $305$, $352$, $299$, $372$, $302$, $340$, and $333$. Write a program that computes your total profits for the week."
   ]
  },
  {
   "cell_type": "code",
   "execution_count": null,
   "metadata": {},
   "outputs": [],
   "source": []
  },
  {
   "cell_type": "markdown",
   "metadata": {},
   "source": [
    "Consider the week in which your income on each day was $503$, $628$, $429$, $109$, $720$, $624$, and $598$. Write a program to compute your average daily income this week."
   ]
  },
  {
   "cell_type": "code",
   "execution_count": null,
   "metadata": {},
   "outputs": [],
   "source": []
  },
  {
   "cell_type": "markdown",
   "metadata": {},
   "source": [
    "Consider the week in which your income on each day was $503$, $628$, $429$, $109$, $720$, $624$, and $598$. Write a program to compute the variance of your daily income this week."
   ]
  },
  {
   "cell_type": "code",
   "execution_count": null,
   "metadata": {},
   "outputs": [],
   "source": []
  },
  {
   "cell_type": "markdown",
   "metadata": {},
   "source": [
    "## Bonus! The `range(start=0, stop, step=1)` function \n",
    "\n",
    "Sometimes we want to quickly define a pattern of numbers. It can be tedious to write out each and every number, especially for large lists. The built-in Python function `range` makes it easy to define a range of numbers with a certain increment. The `range` function takes three arguments, or input values: \n",
    "\n",
    "* `start`, which is the first value inclusive in the \"range\". By default this is set to 0. \n",
    "\n",
    "* `stop`, which is the last value **exclusive** in the \"range\"\n",
    "\n",
    "* `step`, the difference between the current number and the result. By default this is set to 1. \n",
    "\n",
    "Let's look at some examples to get familiar with the function. Up until now, if we wanted to define a list of numbers from 0-9 we would write out the entire list like so: "
   ]
  },
  {
   "cell_type": "code",
   "execution_count": null,
   "metadata": {},
   "outputs": [],
   "source": [
    "numbers = [0, 1, 2, 3, 4, 5, 6, 7, 8, 9]\n",
    "print(numbers)"
   ]
  },
  {
   "cell_type": "markdown",
   "metadata": {},
   "source": [
    "This can get pretty exhausting for large lists of numbers. Let's see how we can define the same list of numbers using the `range` function now. "
   ]
  },
  {
   "cell_type": "code",
   "execution_count": null,
   "metadata": {},
   "outputs": [],
   "source": [
    "numbers = list(range(0, 10, 1))\n",
    "# We could have also wrote: numbers = list(range(start=0, stop=10, step=1))\n",
    "print(numbers)"
   ]
  },
  {
   "cell_type": "markdown",
   "metadata": {},
   "source": [
    "Notice how even though we wrote `list(range(10))` the list only went from 0-9 and didn't include 10. That's because `range` generates numbers *up-to* the ending number, *but not including it.*\n",
    "\n",
    "Let's look at some more interesting examples now:"
   ]
  },
  {
   "cell_type": "code",
   "execution_count": null,
   "metadata": {},
   "outputs": [],
   "source": [
    "# A list of numbers from 10-20\n",
    "ten_to_twenty = list(range(10, 21, 1)) \n",
    "print(ten_to_twenty)\n",
    "\n",
    "# A list that starts at 5 and counts *by 5* up to 25\n",
    "fives_to_twentyfive = list(range(5, 26, 5)) \n",
    "print(fives_to_twentyfive)\n",
    "\n",
    "# A list that starts at -5 and counts by 1 to +5\n",
    "negfive_to_posfive = list(range(-5, 6, 1))\n",
    "print(negfive_to_posfive)\n",
    "\n",
    "# A list that starts at +8 and counts DOWN by -2 until -8\n",
    "poseight_to_negeight = list(range(8, -9, -2))\n",
    "print(poseight_to_negeight)"
   ]
  },
  {
   "cell_type": "markdown",
   "metadata": {},
   "source": [
    "<font color=gray>Copyright (c) 2018 Melissa Lynn</font>\n",
    "<br><br>\n",
    "<font color=gray>Permission is hereby granted, free of charge, to any person obtaining a copy\n",
    "of this software and associated documentation files (the \"Software\"), to deal\n",
    "in the Software without restriction, including without limitation the rights\n",
    "to use, copy, modify, merge, publish, distribute, sublicense, and/or sell\n",
    "copies of the Software, and to permit persons to whom the Software is\n",
    "furnished to do so, subject to the following conditions:</font>\n",
    "<br><br>\n",
    "<font color=gray>The above copyright notice and this permission notice shall be included in all\n",
    "copies or substantial portions of the Software.</font>\n",
    "<br><br>\n",
    "<font color=gray>THE SOFTWARE IS PROVIDED \"AS IS\", WITHOUT WARRANTY OF ANY KIND, EXPRESS OR\n",
    "IMPLIED, INCLUDING BUT NOT LIMITED TO THE WARRANTIES OF MERCHANTABILITY,\n",
    "FITNESS FOR A PARTICULAR PURPOSE AND NONINFRINGEMENT. IN NO EVENT SHALL THE\n",
    "AUTHORS OR COPYRIGHT HOLDERS BE LIABLE FOR ANY CLAIM, DAMAGES OR OTHER\n",
    "LIABILITY, WHETHER IN AN ACTION OF CONTRACT, TORT OR OTHERWISE, ARISING FROM,\n",
    "OUT OF OR IN CONNECTION WITH THE SOFTWARE OR THE USE OR OTHER DEALINGS IN THE\n",
    "SOFTWARE.</font>"
   ]
  }
 ],
 "metadata": {
  "kernelspec": {
   "display_name": "Python 3",
   "language": "python",
   "name": "python3"
  },
  "language_info": {
   "codemirror_mode": {
    "name": "ipython",
    "version": 3
   },
   "file_extension": ".py",
   "mimetype": "text/x-python",
   "name": "python",
   "nbconvert_exporter": "python",
   "pygments_lexer": "ipython3",
   "version": "3.6.4"
  }
 },
 "nbformat": 4,
 "nbformat_minor": 2
}
