{
 "cells": [
  {
   "cell_type": "markdown",
   "metadata": {
    "colab_type": "text",
    "id": "kJUj1SzWZUSD"
   },
   "source": [
    "<font color=gray>This Jupyter notebook was created by Melissa Lynn for \\the\\world Girls' Machine Learning Day Camp. The license can be found at the bottom of the notebook.</font>\n",
    "\n",
    "# Section 1: Introduction to Jupyter and Output\n",
    "\n",
    "## Introduction to Jupyter\n",
    "\n",
    "For this introduction to programming, we're using something called a \"Jupyter Notebook\" and we'll be programming in a language called \"python.\" The Jupyter notebook allows us to include both text cells (called \"markdown\") and code cells. This text is all contained in a markdown cell, and the cell below this is a code cell (don't worry about the actual code for now, we'll learn about that later!). If you click the code cell and then type shift + enter, it will run the code in the cell. Try it out!"
   ]
  },
  {
   "cell_type": "code",
   "execution_count": 0,
   "metadata": {
    "colab": {},
    "colab_type": "code",
    "id": "BUqcz9pjZUSG"
   },
   "outputs": [],
   "source": [
    "coolness_factor = 10\n",
    "if coolness_factor > 5:\n",
    "    print(\"The code ran, this is super awesome!\")\n",
    "else:\n",
    "    print(\"Sad face. We didn't make it.\")"
   ]
  },
  {
   "cell_type": "markdown",
   "metadata": {
    "colab_type": "text",
    "id": "T0yDIhQDZUSO"
   },
   "source": [
    "Notice that the output from this code appears below the code cell. You can edit the text in both the text cells and the coding cells. For the text cells, double click, make your changes, and then type shift + enter to revert to the cleaner formatting. Feel free to do this to add your own notes, but please don't delete the instructions, they're meant to help you! You'll frequently edit the code cells to write your own code.\n",
    "\n",
    "For this introduction, we'll often act as though the code cells were completely independent blocks of code. However, in reality, the computer is still keeping track of any code that you ran previously in this notebook. If you would like to erase the computer's memory of everything you've run so far, you can click the button to \"restart the kernel.\" Old output will still be displayed, even after you restart the kernel. If you'd like to erase all output, this is an option under \"Cell.\"\n",
    "\n",
    "If you make a mistake while coding and the program doesn't finish quickly, you might want to manually stop it. There is a stop button near the top of the page, which will terminate the program. Try running the following code (which will run forever if you don't make it stop), and use the stop button to end it. Then restart the kernel, so it's (almost) as though it never happened. You can erase the output if you'd like."
   ]
  },
  {
   "cell_type": "code",
   "execution_count": 0,
   "metadata": {
    "colab": {},
    "colab_type": "code",
    "id": "rjaW8hSuZUSQ"
   },
   "outputs": [],
   "source": [
    "while True:\n",
    "    print(\"this is the song that never ends\")"
   ]
  },
  {
   "cell_type": "markdown",
   "metadata": {
    "colab_type": "text",
    "id": "IiFjshPGZUSV"
   },
   "source": [
    "Now, we're ready to start on the fun stuff: actually understanding and writing code.\n",
    "\n",
    "## Output\n",
    "\n",
    "In programming, it can be very useful to print messages. Run the following code to print the message \"hello world\" to the screen."
   ]
  },
  {
   "cell_type": "code",
   "execution_count": 0,
   "metadata": {
    "colab": {},
    "colab_type": "code",
    "id": "7s76JcAzZUSW"
   },
   "outputs": [],
   "source": [
    "print(\"hello world\")"
   ]
  },
  {
   "cell_type": "markdown",
   "metadata": {
    "colab_type": "text",
    "id": "0yxDru0BZUSZ"
   },
   "source": [
    "Notice that the text inside of the quotation marks gets printed exactly as written - try this out by inserting your own message in the quotation marks!"
   ]
  },
  {
   "cell_type": "code",
   "execution_count": 0,
   "metadata": {
    "colab": {},
    "colab_type": "code",
    "id": "IRQQ-uLuZUSa"
   },
   "outputs": [],
   "source": [
    "print(\"WRITE YOUR MESSAGE HERE\")"
   ]
  },
  {
   "cell_type": "markdown",
   "metadata": {
    "colab_type": "text",
    "id": "gQ5JqYw1ZUSd"
   },
   "source": [
    "If we have multiple print statements on different lines, the text output will be split between different lines."
   ]
  },
  {
   "cell_type": "code",
   "execution_count": 0,
   "metadata": {
    "colab": {},
    "colab_type": "code",
    "id": "Z987EUugZUSe"
   },
   "outputs": [],
   "source": [
    "print(\"This is the 1st line.\")\n",
    "print(\"This is the 2nd line.\")\n",
    "print(\"y9q82!!!!\")"
   ]
  },
  {
   "cell_type": "markdown",
   "metadata": {
    "colab_type": "text",
    "id": "JvSI7se-ZUSg"
   },
   "source": [
    "## Exercises"
   ]
  },
  {
   "cell_type": "markdown",
   "metadata": {
    "colab_type": "text",
    "id": "8laZgNbaZUSg"
   },
   "source": [
    "Write code that produces the following output:\n",
    "\n",
    "`I like turtles` <br>\n",
    "`Yes I do!` <br>\n",
    "`I like turtles` <br>\n",
    "`How about you?` <br>"
   ]
  },
  {
   "cell_type": "code",
   "execution_count": 0,
   "metadata": {
    "colab": {},
    "colab_type": "code",
    "id": "bV2f7gmhZUSh"
   },
   "outputs": [],
   "source": []
  },
  {
   "cell_type": "markdown",
   "metadata": {
    "colab_type": "text",
    "id": "hOth_Mt9ZUSj"
   },
   "source": [
    "For each line of code, try to run it to see what happens. Then find and correct the error."
   ]
  },
  {
   "cell_type": "code",
   "execution_count": 0,
   "metadata": {
    "colab": {},
    "colab_type": "code",
    "id": "Z6ckyDvzZUSk"
   },
   "outputs": [],
   "source": [
    "print(What kind of pictures does a turtle take?)"
   ]
  },
  {
   "cell_type": "code",
   "execution_count": 0,
   "metadata": {
    "colab": {},
    "colab_type": "code",
    "id": "VtqKxFPaZUSm"
   },
   "outputs": [],
   "source": [
    "prnit(\"Shellfies!\")"
   ]
  },
  {
   "cell_type": "code",
   "execution_count": 0,
   "metadata": {
    "colab": {},
    "colab_type": "code",
    "id": "2-vX-AdyZUSo"
   },
   "outputs": [],
   "source": [
    "print(\"What happens when you bring a turtle to a party?\"):"
   ]
  },
  {
   "cell_type": "code",
   "execution_count": 0,
   "metadata": {
    "colab": {},
    "colab_type": "code",
    "id": "upK2fkooZUSq"
   },
   "outputs": [],
   "source": [
    "print[\"It becomes a shellebration!\"]"
   ]
  },
  {
   "cell_type": "markdown",
   "metadata": {
    "colab_type": "text",
    "id": "zxCYCPxnZUSr"
   },
   "source": [
    "<font color=gray>Copyright (c) 2018 Melissa Lynn</font>\n",
    "<br><br>\n",
    "<font color=gray>Permission is hereby granted, free of charge, to any person obtaining a copy\n",
    "of this software and associated documentation files (the \"Software\"), to deal\n",
    "in the Software without restriction, including without limitation the rights\n",
    "to use, copy, modify, merge, publish, distribute, sublicense, and/or sell\n",
    "copies of the Software, and to permit persons to whom the Software is\n",
    "furnished to do so, subject to the following conditions:</font>\n",
    "<br><br>\n",
    "<font color=gray>The above copyright notice and this permission notice shall be included in all\n",
    "copies or substantial portions of the Software.</font>\n",
    "<br><br>\n",
    "<font color=gray>THE SOFTWARE IS PROVIDED \"AS IS\", WITHOUT WARRANTY OF ANY KIND, EXPRESS OR\n",
    "IMPLIED, INCLUDING BUT NOT LIMITED TO THE WARRANTIES OF MERCHANTABILITY,\n",
    "FITNESS FOR A PARTICULAR PURPOSE AND NONINFRINGEMENT. IN NO EVENT SHALL THE\n",
    "AUTHORS OR COPYRIGHT HOLDERS BE LIABLE FOR ANY CLAIM, DAMAGES OR OTHER\n",
    "LIABILITY, WHETHER IN AN ACTION OF CONTRACT, TORT OR OTHERWISE, ARISING FROM,\n",
    "OUT OF OR IN CONNECTION WITH THE SOFTWARE OR THE USE OR OTHER DEALINGS IN THE\n",
    "SOFTWARE.</font>"
   ]
  }
 ],
 "metadata": {
  "colab": {
   "name": "1 - Intro to Jupyter and Output.ipynb",
   "provenance": [],
   "version": "0.3.2"
  },
  "kernelspec": {
   "display_name": "Python 3",
   "language": "python",
   "name": "python3"
  },
  "language_info": {
   "codemirror_mode": {
    "name": "ipython",
    "version": 3
   },
   "file_extension": ".py",
   "mimetype": "text/x-python",
   "name": "python",
   "nbconvert_exporter": "python",
   "pygments_lexer": "ipython3",
   "version": "3.7.3"
  }
 },
 "nbformat": 4,
 "nbformat_minor": 1
}
