{
  "nbformat": 4,
  "nbformat_minor": 0,
  "metadata": {
    "colab": {
      "name": "Decision Trees.ipynb",
      "version": "0.3.2",
      "provenance": []
    },
    "language_info": {
      "codemirror_mode": {
        "name": "ipython",
        "version": 3
      },
      "file_extension": ".py",
      "mimetype": "text/x-python",
      "name": "python",
      "nbconvert_exporter": "python",
      "pygments_lexer": "ipython3",
      "version": "3.4.5"
    },
    "kernelspec": {
      "display_name": "Python 3",
      "language": "python",
      "name": "python3"
    }
  },
  "cells": [
    {
      "cell_type": "markdown",
      "metadata": {
        "id": "TzV0Mx170hrx",
        "colab_type": "text"
      },
      "source": [
        "# Decision Trees\n",
        "\n",
        "## A Small Example\n",
        "\n",
        "We'd like to see how we can use python to train a decision tree classifier. We'll start practicing using a dataset that we create.\n",
        "\n",
        "As usual, we'll start by importing some libraries that we'll need. This includes \"tree\" from scikit-learn, so that we can use a decision tree. In order to plot our data, we'll also import a plotting library.\n",
        "\n"
      ]
    },
    {
      "cell_type": "code",
      "metadata": {
        "id": "rHJyxYHu0hr0",
        "colab_type": "code",
        "colab": {}
      },
      "source": [
        "import numpy as np\n",
        "from sklearn import tree\n",
        "import matplotlib.pyplot as plt"
      ],
      "execution_count": 0,
      "outputs": []
    },
    {
      "cell_type": "markdown",
      "metadata": {
        "id": "98s9DeWJNUdN",
        "colab_type": "text"
      },
      "source": [
        "Next, let's create our data. Later, we'll see how we can use decision trees on a real-world dataset. But for now, we'll work with a small, simple example that we invent.\n",
        "\n",
        "We have 14 samples, and for each sample, we have measurements for two features along with the label. The features are stored in one array, and the labels in another. For example, the first sample has feature measurements -13 and -8, and label 1. The tenth sample has feature measurements 3 and -2, and label 3."
      ]
    },
    {
      "cell_type": "code",
      "metadata": {
        "id": "SkFMTowl0hsH",
        "colab_type": "code",
        "colab": {}
      },
      "source": [
        "features = np.array([[-13,-8],[-7,1],[-8,-1,],[-3,-2],[1,2],[2,1],[3,2],[4,1],[3,0],[3,-2],[3.2,-3.2,],[3.8,-3.3],[3.9,-4.1],[4.3,-3]])\n",
        "labels = np.array([1,1,1,1,2,2,2,2,2,3,3,3,3,3])"
      ],
      "execution_count": 0,
      "outputs": []
    },
    {
      "cell_type": "markdown",
      "metadata": {
        "colab_type": "text",
        "id": "t8dKH8HZTveK"
      },
      "source": [
        "Before we try to train a decision tree, let's plot our data to get a sense of how it's distributed. We plot the points using their feature measurements for coordinates, and we use the labels to color the points. Here, the purple points correspond to class 1, the green points to class 2, and the yellow points to class 3. "
      ]
    },
    {
      "cell_type": "code",
      "metadata": {
        "id": "e1njJAfj0hsM",
        "colab_type": "code",
        "outputId": "bf3d20b5-ee3e-4a10-d6d6-cb39a30fe845",
        "colab": {
          "base_uri": "https://localhost:8080/",
          "height": 269
        }
      },
      "source": [
        "plt.scatter(features[:,0],features[:,1],c=labels)\n",
        "plt.show()"
      ],
      "execution_count": 3,
      "outputs": [
        {
          "output_type": "display_data",
          "data": {
            "image/png": "[encoded data removed]",
            "text/plain": [
              "<Figure size 432x288 with 1 Axes>"
            ]
          },
          "metadata": {
            "tags": []
          }
        }
      ]
    },
    {
      "cell_type": "markdown",
      "metadata": {
        "id": "4ZB_2gEsUolh",
        "colab_type": "text"
      },
      "source": [
        "Looking at our plot, it looks like this data is nicely grouped, and that a decision tree should work very nicely. We now construct a decision tree classifier, and train it on our data."
      ]
    },
    {
      "cell_type": "code",
      "metadata": {
        "id": "cps2IMGEUnZY",
        "colab_type": "code",
        "colab": {}
      },
      "source": [
        "clf = tree.DecisionTreeClassifier()\n",
        "clf = clf.fit(features, labels)"
      ],
      "execution_count": 0,
      "outputs": []
    },
    {
      "cell_type": "markdown",
      "metadata": {
        "id": "uCYKx68pVsua",
        "colab_type": "text"
      },
      "source": [
        "We've now created a decision tree classifier based on this dataset, but how can we tell what it's doing? We'll now use a couple of tools for visualizing our decision tree.\n",
        "\n",
        "The first tool draws out the decision tree for us. This code uses a package calls graphviz, which may or may not be installed on your computer. If the code below runs and you see a decision tree, everything's working correctly!\n",
        "\n",
        "If it doesn't work, you can run the following commands in the terminal to install graphviz. If you're not sure what this means, ask an instructor to help you out.\n",
        "\n",
        "`conda install graphviz`\n",
        "\n",
        "`pip install graphviz`"
      ]
    },
    {
      "cell_type": "code",
      "metadata": {
        "id": "PF5XSTboV8f-",
        "colab_type": "code",
        "colab": {
          "base_uri": "https://localhost:8080/",
          "height": 379
        },
        "outputId": "5870a4f0-605d-4410-cc3e-813dd09abc30"
      },
      "source": [
        "import graphviz\n",
        "\n",
        "dot_data = tree.export_graphviz(clf, out_file=None) \n",
        "graph = graphviz.Source(dot_data) \n",
        "graph"
      ],
      "execution_count": 5,
      "outputs": [
        {
          "output_type": "execute_result",
          "data": {
            "text/plain": [
              "<graphviz.files.Source at 0x7f081e5b2860>"
            ],
            "image/svg+xml": "<?xml version=\"1.0\" encoding=\"UTF-8\" standalone=\"no\"?>\n<!DOCTYPE svg PUBLIC \"-//W3C//DTD SVG 1.1//EN\"\n \"http://www.w3.org/Graphics/SVG/1.1/DTD/svg11.dtd\">\n<!-- Generated by graphviz version 2.40.1 (20161225.0304)\n -->\n<!-- Title: Tree Pages: 1 -->\n<svg width=\"310pt\" height=\"269pt\"\n viewBox=\"0.00 0.00 310.00 269.00\" xmlns=\"http://www.w3.org/2000/svg\" xmlns:xlink=\"http://www.w3.org/1999/xlink\">\n<g id=\"graph0\" class=\"graph\" transform=\"scale(1 1) rotate(0) translate(4 265)\">\n<title>Tree</title>\n<polygon fill=\"#ffffff\" stroke=\"transparent\" points=\"-4,4 -4,-265 306,-265 306,4 -4,4\"/>\n<!-- 0 -->\n<g id=\"node1\" class=\"node\">\n<title>0</title>\n<polygon fill=\"none\" stroke=\"#000000\" points=\"174,-261 64,-261 64,-193 174,-193 174,-261\"/>\n<text text-anchor=\"middle\" x=\"119\" y=\"-245.8\" font-family=\"Times,serif\" font-size=\"14.00\" fill=\"#000000\">X[0] &lt;= &#45;1.0</text>\n<text text-anchor=\"middle\" x=\"119\" y=\"-230.8\" font-family=\"Times,serif\" font-size=\"14.00\" fill=\"#000000\">gini = 0.663</text>\n<text text-anchor=\"middle\" x=\"119\" y=\"-215.8\" font-family=\"Times,serif\" font-size=\"14.00\" fill=\"#000000\">samples = 14</text>\n<text text-anchor=\"middle\" x=\"119\" y=\"-200.8\" font-family=\"Times,serif\" font-size=\"14.00\" fill=\"#000000\">value = [4, 5, 5]</text>\n</g>\n<!-- 1 -->\n<g id=\"node2\" class=\"node\">\n<title>1</title>\n<polygon fill=\"none\" stroke=\"#000000\" points=\"110,-149.5 0,-149.5 0,-96.5 110,-96.5 110,-149.5\"/>\n<text text-anchor=\"middle\" x=\"55\" y=\"-134.3\" font-family=\"Times,serif\" font-size=\"14.00\" fill=\"#000000\">gini = 0.0</text>\n<text text-anchor=\"middle\" x=\"55\" y=\"-119.3\" font-family=\"Times,serif\" font-size=\"14.00\" fill=\"#000000\">samples = 4</text>\n<text text-anchor=\"middle\" x=\"55\" y=\"-104.3\" font-family=\"Times,serif\" font-size=\"14.00\" fill=\"#000000\">value = [4, 0, 0]</text>\n</g>\n<!-- 0&#45;&gt;1 -->\n<g id=\"edge1\" class=\"edge\">\n<title>0&#45;&gt;1</title>\n<path fill=\"none\" stroke=\"#000000\" d=\"M98.044,-192.9465C91.1978,-181.8215 83.5829,-169.4473 76.6843,-158.237\"/>\n<polygon fill=\"#000000\" stroke=\"#000000\" points=\"79.5555,-156.2244 71.3336,-149.5422 73.5939,-159.8931 79.5555,-156.2244\"/>\n<text text-anchor=\"middle\" x=\"65.5431\" y=\"-170.1623\" font-family=\"Times,serif\" font-size=\"14.00\" fill=\"#000000\">True</text>\n</g>\n<!-- 2 -->\n<g id=\"node3\" class=\"node\">\n<title>2</title>\n<polygon fill=\"none\" stroke=\"#000000\" points=\"238,-157 128,-157 128,-89 238,-89 238,-157\"/>\n<text text-anchor=\"middle\" x=\"183\" y=\"-141.8\" font-family=\"Times,serif\" font-size=\"14.00\" fill=\"#000000\">X[1] &lt;= &#45;1.0</text>\n<text text-anchor=\"middle\" x=\"183\" y=\"-126.8\" font-family=\"Times,serif\" font-size=\"14.00\" fill=\"#000000\">gini = 0.5</text>\n<text text-anchor=\"middle\" x=\"183\" y=\"-111.8\" font-family=\"Times,serif\" font-size=\"14.00\" fill=\"#000000\">samples = 10</text>\n<text text-anchor=\"middle\" x=\"183\" y=\"-96.8\" font-family=\"Times,serif\" font-size=\"14.00\" fill=\"#000000\">value = [0, 5, 5]</text>\n</g>\n<!-- 0&#45;&gt;2 -->\n<g id=\"edge2\" class=\"edge\">\n<title>0&#45;&gt;2</title>\n<path fill=\"none\" stroke=\"#000000\" d=\"M139.956,-192.9465C145.3155,-184.2373 151.1461,-174.7626 156.7353,-165.6801\"/>\n<polygon fill=\"#000000\" stroke=\"#000000\" points=\"159.7367,-167.481 161.9969,-157.13 153.7751,-163.8122 159.7367,-167.481\"/>\n<text text-anchor=\"middle\" x=\"167.7874\" y=\"-177.7502\" font-family=\"Times,serif\" font-size=\"14.00\" fill=\"#000000\">False</text>\n</g>\n<!-- 3 -->\n<g id=\"node4\" class=\"node\">\n<title>3</title>\n<polygon fill=\"none\" stroke=\"#000000\" points=\"174,-53 64,-53 64,0 174,0 174,-53\"/>\n<text text-anchor=\"middle\" x=\"119\" y=\"-37.8\" font-family=\"Times,serif\" font-size=\"14.00\" fill=\"#000000\">gini = 0.0</text>\n<text text-anchor=\"middle\" x=\"119\" y=\"-22.8\" font-family=\"Times,serif\" font-size=\"14.00\" fill=\"#000000\">samples = 5</text>\n<text text-anchor=\"middle\" x=\"119\" y=\"-7.8\" font-family=\"Times,serif\" font-size=\"14.00\" fill=\"#000000\">value = [0, 0, 5]</text>\n</g>\n<!-- 2&#45;&gt;3 -->\n<g id=\"edge3\" class=\"edge\">\n<title>2&#45;&gt;3</title>\n<path fill=\"none\" stroke=\"#000000\" d=\"M160.436,-88.9777C154.6059,-80.187 148.3169,-70.7044 142.443,-61.8477\"/>\n<polygon fill=\"#000000\" stroke=\"#000000\" points=\"145.1838,-59.6478 136.7399,-53.2485 139.3502,-63.5167 145.1838,-59.6478\"/>\n</g>\n<!-- 4 -->\n<g id=\"node5\" class=\"node\">\n<title>4</title>\n<polygon fill=\"none\" stroke=\"#000000\" points=\"302,-53 192,-53 192,0 302,0 302,-53\"/>\n<text text-anchor=\"middle\" x=\"247\" y=\"-37.8\" font-family=\"Times,serif\" font-size=\"14.00\" fill=\"#000000\">gini = 0.0</text>\n<text text-anchor=\"middle\" x=\"247\" y=\"-22.8\" font-family=\"Times,serif\" font-size=\"14.00\" fill=\"#000000\">samples = 5</text>\n<text text-anchor=\"middle\" x=\"247\" y=\"-7.8\" font-family=\"Times,serif\" font-size=\"14.00\" fill=\"#000000\">value = [0, 5, 0]</text>\n</g>\n<!-- 2&#45;&gt;4 -->\n<g id=\"edge4\" class=\"edge\">\n<title>2&#45;&gt;4</title>\n<path fill=\"none\" stroke=\"#000000\" d=\"M205.564,-88.9777C211.3941,-80.187 217.6831,-70.7044 223.557,-61.8477\"/>\n<polygon fill=\"#000000\" stroke=\"#000000\" points=\"226.6498,-63.5167 229.2601,-53.2485 220.8162,-59.6478 226.6498,-63.5167\"/>\n</g>\n</g>\n</svg>\n"
          },
          "metadata": {
            "tags": []
          },
          "execution_count": 5
        }
      ]
    },
    {
      "cell_type": "markdown",
      "metadata": {
        "id": "0H6Sgjft0hsY",
        "colab_type": "text"
      },
      "source": [
        "This displays a lot of information. Here, $X[0]$ is the value of the first feature (the $x$-coordinate), and $X[1]$ is the value of the second feature (the $y$-coordinate). So, the first split checks if the $x$-coordinate is less than or equal to $-1$.\n",
        "\n",
        "The \"gini\" listed here is the gini impurity of the node. This is a sort of measure of the uncertainty at that point in the decision tree, similar to entropy. Notice that once we get to the bottom of the tree, the gini impurity is 0, since there is no uncertainty.\n",
        "\n",
        "The \"value\" here tells us how many samples from each class follow the decision tree to that point. At the top, we have 14 total samples, with four from class 1, five from class 2, and five from class 3. If we follow the tree to the right, we have 10 samples remaining, with five from class 2 and five from class 3.\n",
        "\n",
        "Based on this decision tree, can you color in how the regions of the graph would be classified? Sketch this by hand.\n",
        "\n",
        "Next, we'll see how we can define functions to color in these regions. This is done by taking a grid of sample points, figuring out how each sample point should be classified, then coloring in the graph using the classifications of the sample points.\n",
        "\n",
        "(This code is borrowed from http://scikit-learn.org/stable/auto_examples/svm/plot_iris.html.)"
      ]
    },
    {
      "cell_type": "code",
      "metadata": {
        "id": "gc8PdRIZ0hsZ",
        "colab_type": "code",
        "colab": {}
      },
      "source": [
        "# this function creates the grid of points\n",
        "def make_meshgrid(x, y, h=.02):\n",
        "    \"\"\"Create a mesh of points to plot in\n",
        "\n",
        "    Parameters\n",
        "    ----------\n",
        "    x: data to base x-axis meshgrid on\n",
        "    y: data to base y-axis meshgrid on\n",
        "    h: stepsize for meshgrid, optional\n",
        "\n",
        "    Returns\n",
        "    -------\n",
        "    xx, yy : ndarray\n",
        "    \"\"\"\n",
        "    x_min, x_max = x.min() - 1, x.max() + 1\n",
        "    y_min, y_max = y.min() - 1, y.max() + 1\n",
        "    xx, yy = np.meshgrid(np.arange(x_min, x_max, h),\n",
        "                         np.arange(y_min, y_max, h))\n",
        "    return xx, yy\n",
        "  \n",
        "\n",
        "# This takes in the graph axes, the model, the grid, and plots the colors\n",
        "def plot_contours(ax, clf, xx, yy, **params):\n",
        "    \"\"\"Plot the decision boundaries for a classifier.\n",
        "\n",
        "    Parameters\n",
        "    ----------\n",
        "    ax: matplotlib axes object\n",
        "    clf: a classifier\n",
        "    xx: meshgrid ndarray\n",
        "    yy: meshgrid ndarray\n",
        "    params: dictionary of params to pass to contourf, optional\n",
        "    \"\"\"\n",
        "    Z = clf.predict(np.c_[xx.ravel(), yy.ravel()])\n",
        "    Z = Z.reshape(xx.shape)\n",
        "    out = ax.contourf(xx, yy, Z, **params)\n",
        "    return out"
      ],
      "execution_count": 0,
      "outputs": []
    },
    {
      "cell_type": "markdown",
      "metadata": {
        "id": "hWWc9VwneNJD",
        "colab_type": "text"
      },
      "source": [
        "Now that we've defined the functions that we need, we'll use them to visualize the regions determined by our decision tree."
      ]
    },
    {
      "cell_type": "code",
      "metadata": {
        "id": "hlFDKbKw0hsr",
        "colab_type": "code",
        "outputId": "1adb9066-4bbd-4299-ea17-5958f3a66181",
        "colab": {
          "base_uri": "https://localhost:8080/",
          "height": 269
        }
      },
      "source": [
        "X = features\n",
        "\n",
        "# this splits the data into x and y components, and makes the grid based on the data\n",
        "X0, X1 = X[:, 0], X[:, 1]\n",
        "xx, yy = make_meshgrid(X0, X1)\n",
        "\n",
        "# we create our plot\n",
        "fig, ax = plt.subplots()\n",
        "# this plots our data points\n",
        "ax.scatter(X0, X1)\n",
        "# this uses the plot_contours function we defined to color in regions based on our decision tree\n",
        "plot_contours(ax, clf, xx, yy)\n",
        "# this shows our plot\n",
        "plt.show()"
      ],
      "execution_count": 12,
      "outputs": [
        {
          "output_type": "display_data",
          "data": {
            "image/png": "[encoded data removed]",
            "text/plain": [
              "<Figure size 432x288 with 1 Axes>"
            ]
          },
          "metadata": {
            "tags": []
          }
        }
      ]
    },
    {
      "cell_type": "markdown",
      "metadata": {
        "id": "OzATzHwc0hs3",
        "colab_type": "text"
      },
      "source": [
        "Does this match the sketch that you made?\n",
        "\n",
        "Now that we've seen how we can use decision trees with a small fake dataset, let's see how this works for real data!\n",
        "\n",
        "## Breast Cancer Dataset\n",
        "\n",
        "When working with the breast cancer dataset, we attempt to answer the question: can we predict if a tissue sample is cancerous, based only on its shape?\n",
        "\n",
        "The breast cancer dataset consists of measurements of samples taken from breast tumors, which are classified as malignant (cancerous) or benign (non-cancerous). The various measurements describe the shape of the sample.\n",
        "\n",
        "As we did with the iris dataset, we can load the breast cancer dataset from scikit-learn."
      ]
    },
    {
      "cell_type": "code",
      "metadata": {
        "id": "NGt6vYuF0hs9",
        "colab_type": "code",
        "colab": {}
      },
      "source": [
        "from sklearn.datasets import load_breast_cancer\n",
        "bcdata = load_breast_cancer()"
      ],
      "execution_count": 0,
      "outputs": []
    },
    {
      "cell_type": "markdown",
      "metadata": {
        "id": "0OvGIO9XjVmB",
        "colab_type": "text"
      },
      "source": [
        "Before we start to analyze our data, let's see what this data set looks like."
      ]
    },
    {
      "cell_type": "code",
      "metadata": {
        "id": "1Aol1bYwjVvv",
        "colab_type": "code",
        "colab": {
          "base_uri": "https://localhost:8080/",
          "height": 941
        },
        "outputId": "f5c975e8-5c1d-498b-c20e-7bdc3a0778bd"
      },
      "source": [
        "bcdata"
      ],
      "execution_count": 14,
      "outputs": [
        {
          "output_type": "execute_result",
          "data": {
            "text/plain": [
              "{'DESCR': '.. _breast_cancer_dataset:\\n\\nBreast cancer wisconsin (diagnostic) dataset\\n--------------------------------------------\\n\\n**Data Set Characteristics:**\\n\\n    :Number of Instances: 569\\n\\n    :Number of Attributes: 30 numeric, predictive attributes and the class\\n\\n    :Attribute Information:\\n        - radius (mean of distances from center to points on the perimeter)\\n        - texture (standard deviation of gray-scale values)\\n        - perimeter\\n        - area\\n        - smoothness (local variation in radius lengths)\\n        - compactness (perimeter^2 / area - 1.0)\\n        - concavity (severity of concave portions of the contour)\\n        - concave points (number of concave portions of the contour)\\n        - symmetry \\n        - fractal dimension (\"coastline approximation\" - 1)\\n\\n        The mean, standard error, and \"worst\" or largest (mean of the three\\n        largest values) of these features were computed for each image,\\n        resulting in 30 features.  For instance, field 3 is Mean Radius, field\\n        13 is Radius SE, field 23 is Worst Radius.\\n\\n        - class:\\n                - WDBC-Malignant\\n                - WDBC-Benign\\n\\n    :Summary Statistics:\\n\\n    ===================================== ====== ======\\n                                           Min    Max\\n    ===================================== ====== ======\\n    radius (mean):                        6.981  28.11\\n    texture (mean):                       9.71   39.28\\n    perimeter (mean):                     43.79  188.5\\n    area (mean):                          143.5  2501.0\\n    smoothness (mean):                    0.053  0.163\\n    compactness (mean):                   0.019  0.345\\n    concavity (mean):                     0.0    0.427\\n    concave points (mean):                0.0    0.201\\n    symmetry (mean):                      0.106  0.304\\n    fractal dimension (mean):             0.05   0.097\\n    radius (standard error):              0.112  2.873\\n    texture (standard error):             0.36   4.885\\n    perimeter (standard error):           0.757  21.98\\n    area (standard error):                6.802  542.2\\n    smoothness (standard error):          0.002  0.031\\n    compactness (standard error):         0.002  0.135\\n    concavity (standard error):           0.0    0.396\\n    concave points (standard error):      0.0    0.053\\n    symmetry (standard error):            0.008  0.079\\n    fractal dimension (standard error):   0.001  0.03\\n    radius (worst):                       7.93   36.04\\n    texture (worst):                      12.02  49.54\\n    perimeter (worst):                    50.41  251.2\\n    area (worst):                         185.2  4254.0\\n    smoothness (worst):                   0.071  0.223\\n    compactness (worst):                  0.027  1.058\\n    concavity (worst):                    0.0    1.252\\n    concave points (worst):               0.0    0.291\\n    symmetry (worst):                     0.156  0.664\\n    fractal dimension (worst):            0.055  0.208\\n    ===================================== ====== ======\\n\\n    :Missing Attribute Values: None\\n\\n    :Class Distribution: 212 - Malignant, 357 - Benign\\n\\n    :Creator:  Dr. William H. Wolberg, W. Nick Street, Olvi L. Mangasarian\\n\\n    :Donor: Nick Street\\n\\n    :Date: November, 1995\\n\\nThis is a copy of UCI ML Breast Cancer Wisconsin (Diagnostic) datasets.\\nhttps://goo.gl/U2Uwz2\\n\\nFeatures are computed from a digitized image of a fine needle\\naspirate (FNA) of a breast mass.  They describe\\ncharacteristics of the cell nuclei present in the image.\\n\\nSeparating plane described above was obtained using\\nMultisurface Method-Tree (MSM-T) [K. P. Bennett, \"Decision Tree\\nConstruction Via Linear Programming.\" Proceedings of the 4th\\nMidwest Artificial Intelligence and Cognitive Science Society,\\npp. 97-101, 1992], a classification method which uses linear\\nprogramming to construct a decision tree.  Relevant features\\nwere selected using an exhaustive search in the space of 1-4\\nfeatures and 1-3 separating planes.\\n\\nThe actual linear program used to obtain the separating plane\\nin the 3-dimensional space is that described in:\\n[K. P. Bennett and O. L. Mangasarian: \"Robust Linear\\nProgramming Discrimination of Two Linearly Inseparable Sets\",\\nOptimization Methods and Software 1, 1992, 23-34].\\n\\nThis database is also available through the UW CS ftp server:\\n\\nftp ftp.cs.wisc.edu\\ncd math-prog/cpo-dataset/machine-learn/WDBC/\\n\\n.. topic:: References\\n\\n   - W.N. Street, W.H. Wolberg and O.L. Mangasarian. Nuclear feature extraction \\n     for breast tumor diagnosis. IS&T/SPIE 1993 International Symposium on \\n     Electronic Imaging: Science and Technology, volume 1905, pages 861-870,\\n     San Jose, CA, 1993.\\n   - O.L. Mangasarian, W.N. Street and W.H. Wolberg. Breast cancer diagnosis and \\n     prognosis via linear programming. Operations Research, 43(4), pages 570-577, \\n     July-August 1995.\\n   - W.H. Wolberg, W.N. Street, and O.L. Mangasarian. Machine learning techniques\\n     to diagnose breast cancer from fine-needle aspirates. Cancer Letters 77 (1994) \\n     163-171.',\n",
              " 'data': array([[1.799e+01, 1.038e+01, 1.228e+02, ..., 2.654e-01, 4.601e-01,\n",
              "         1.189e-01],\n",
              "        [2.057e+01, 1.777e+01, 1.329e+02, ..., 1.860e-01, 2.750e-01,\n",
              "         8.902e-02],\n",
              "        [1.969e+01, 2.125e+01, 1.300e+02, ..., 2.430e-01, 3.613e-01,\n",
              "         8.758e-02],\n",
              "        ...,\n",
              "        [1.660e+01, 2.808e+01, 1.083e+02, ..., 1.418e-01, 2.218e-01,\n",
              "         7.820e-02],\n",
              "        [2.060e+01, 2.933e+01, 1.401e+02, ..., 2.650e-01, 4.087e-01,\n",
              "         1.240e-01],\n",
              "        [7.760e+00, 2.454e+01, 4.792e+01, ..., 0.000e+00, 2.871e-01,\n",
              "         7.039e-02]]),\n",
              " 'feature_names': array(['mean radius', 'mean texture', 'mean perimeter', 'mean area',\n",
              "        'mean smoothness', 'mean compactness', 'mean concavity',\n",
              "        'mean concave points', 'mean symmetry', 'mean fractal dimension',\n",
              "        'radius error', 'texture error', 'perimeter error', 'area error',\n",
              "        'smoothness error', 'compactness error', 'concavity error',\n",
              "        'concave points error', 'symmetry error',\n",
              "        'fractal dimension error', 'worst radius', 'worst texture',\n",
              "        'worst perimeter', 'worst area', 'worst smoothness',\n",
              "        'worst compactness', 'worst concavity', 'worst concave points',\n",
              "        'worst symmetry', 'worst fractal dimension'], dtype='<U23'),\n",
              " 'filename': '/usr/local/lib/python3.6/dist-packages/sklearn/datasets/data/breast_cancer.csv',\n",
              " 'target': array([0, 0, 0, 0, 0, 0, 0, 0, 0, 0, 0, 0, 0, 0, 0, 0, 0, 0, 0, 1, 1, 1,\n",
              "        0, 0, 0, 0, 0, 0, 0, 0, 0, 0, 0, 0, 0, 0, 0, 1, 0, 0, 0, 0, 0, 0,\n",
              "        0, 0, 1, 0, 1, 1, 1, 1, 1, 0, 0, 1, 0, 0, 1, 1, 1, 1, 0, 1, 0, 0,\n",
              "        1, 1, 1, 1, 0, 1, 0, 0, 1, 0, 1, 0, 0, 1, 1, 1, 0, 0, 1, 0, 0, 0,\n",
              "        1, 1, 1, 0, 1, 1, 0, 0, 1, 1, 1, 0, 0, 1, 1, 1, 1, 0, 1, 1, 0, 1,\n",
              "        1, 1, 1, 1, 1, 1, 1, 0, 0, 0, 1, 0, 0, 1, 1, 1, 0, 0, 1, 0, 1, 0,\n",
              "        0, 1, 0, 0, 1, 1, 0, 1, 1, 0, 1, 1, 1, 1, 0, 1, 1, 1, 1, 1, 1, 1,\n",
              "        1, 1, 0, 1, 1, 1, 1, 0, 0, 1, 0, 1, 1, 0, 0, 1, 1, 0, 0, 1, 1, 1,\n",
              "        1, 0, 1, 1, 0, 0, 0, 1, 0, 1, 0, 1, 1, 1, 0, 1, 1, 0, 0, 1, 0, 0,\n",
              "        0, 0, 1, 0, 0, 0, 1, 0, 1, 0, 1, 1, 0, 1, 0, 0, 0, 0, 1, 1, 0, 0,\n",
              "        1, 1, 1, 0, 1, 1, 1, 1, 1, 0, 0, 1, 1, 0, 1, 1, 0, 0, 1, 0, 1, 1,\n",
              "        1, 1, 0, 1, 1, 1, 1, 1, 0, 1, 0, 0, 0, 0, 0, 0, 0, 0, 0, 0, 0, 0,\n",
              "        0, 0, 1, 1, 1, 1, 1, 1, 0, 1, 0, 1, 1, 0, 1, 1, 0, 1, 0, 0, 1, 1,\n",
              "        1, 1, 1, 1, 1, 1, 1, 1, 1, 1, 1, 0, 1, 1, 0, 1, 0, 1, 1, 1, 1, 1,\n",
              "        1, 1, 1, 1, 1, 1, 1, 1, 1, 0, 1, 1, 1, 0, 1, 0, 1, 1, 1, 1, 0, 0,\n",
              "        0, 1, 1, 1, 1, 0, 1, 0, 1, 0, 1, 1, 1, 0, 1, 1, 1, 1, 1, 1, 1, 0,\n",
              "        0, 0, 1, 1, 1, 1, 1, 1, 1, 1, 1, 1, 1, 0, 0, 1, 0, 0, 0, 1, 0, 0,\n",
              "        1, 1, 1, 1, 1, 0, 1, 1, 1, 1, 1, 0, 1, 1, 1, 0, 1, 1, 0, 0, 1, 1,\n",
              "        1, 1, 1, 1, 0, 1, 1, 1, 1, 1, 1, 1, 0, 1, 1, 1, 1, 1, 0, 1, 1, 0,\n",
              "        1, 1, 1, 1, 1, 1, 1, 1, 1, 1, 1, 1, 0, 1, 0, 0, 1, 0, 1, 1, 1, 1,\n",
              "        1, 0, 1, 1, 0, 1, 0, 1, 1, 0, 1, 0, 1, 1, 1, 1, 1, 1, 1, 1, 0, 0,\n",
              "        1, 1, 1, 1, 1, 1, 0, 1, 1, 1, 1, 1, 1, 1, 1, 1, 1, 0, 1, 1, 1, 1,\n",
              "        1, 1, 1, 0, 1, 0, 1, 1, 0, 1, 1, 1, 1, 1, 0, 0, 1, 0, 1, 0, 1, 1,\n",
              "        1, 1, 1, 0, 1, 1, 0, 1, 0, 1, 0, 0, 1, 1, 1, 0, 1, 1, 1, 1, 1, 1,\n",
              "        1, 1, 1, 1, 1, 0, 1, 0, 0, 1, 1, 1, 1, 1, 1, 1, 1, 1, 1, 1, 1, 1,\n",
              "        1, 1, 1, 1, 1, 1, 1, 1, 1, 1, 1, 1, 0, 0, 0, 0, 0, 0, 1]),\n",
              " 'target_names': array(['malignant', 'benign'], dtype='<U9')}"
            ]
          },
          "metadata": {
            "tags": []
          },
          "execution_count": 14
        }
      ]
    },
    {
      "cell_type": "markdown",
      "metadata": {
        "id": "BXSCNlUljgA1",
        "colab_type": "text"
      },
      "source": [
        "We see that there is the observation data, which is the measurements describing the shape of the samples. We also have the target, which is the classification of the tumors as malignant or benign.\n",
        "\n",
        "We'll split the dataset into training and testing data. We'll later use the training data to train our decision tree, and then use the testing data to evaluate how well our decision tree performs.\n",
        "\n",
        "For our split, we'll take 75% of the data for training, and leave 25% for testing. We'll choose to seed the random split using the number 42, just for fun."
      ]
    },
    {
      "cell_type": "code",
      "metadata": {
        "id": "KI9k4j3r0htF",
        "colab_type": "code",
        "colab": {}
      },
      "source": [
        "from sklearn.model_selection import train_test_split\n",
        "from sklearn.metrics import confusion_matrix, accuracy_score\n",
        "\n",
        "X = bcdata.data\n",
        "y = bcdata.target\n",
        "\n",
        "X_train, X_test, y_train, y_test = train_test_split(X, y, test_size=0.25, random_state=42)"
      ],
      "execution_count": 0,
      "outputs": []
    },
    {
      "cell_type": "markdown",
      "metadata": {
        "id": "r1_Ym_pa0htG",
        "colab_type": "text"
      },
      "source": [
        "Let's use the training set to fit the decision tree."
      ]
    },
    {
      "cell_type": "code",
      "metadata": {
        "id": "GPhNltoG0htH",
        "colab_type": "code",
        "colab": {}
      },
      "source": [
        "clf = tree.DecisionTreeClassifier()\n",
        "clf = clf.fit(X_train, y_train)"
      ],
      "execution_count": 0,
      "outputs": []
    },
    {
      "cell_type": "markdown",
      "metadata": {
        "id": "hqOAQ1ZL0htI",
        "colab_type": "text"
      },
      "source": [
        "Now, let's see how well our decision tree performs on the testing set. We use the decision tree classifier that we just created to predict if the samples from the testing set are malignant or benign, based on their measurements."
      ]
    },
    {
      "cell_type": "code",
      "metadata": {
        "id": "Ag2xO4AX0htI",
        "colab_type": "code",
        "colab": {}
      },
      "source": [
        "y_pred = clf.predict(X_test)"
      ],
      "execution_count": 0,
      "outputs": []
    },
    {
      "cell_type": "markdown",
      "metadata": {
        "id": "UwFAsxXGls_-",
        "colab_type": "text"
      },
      "source": [
        "Now, let's look at the confusion matrix to see how the predictions for the testing data compare to the actual classifications of tumors."
      ]
    },
    {
      "cell_type": "code",
      "metadata": {
        "id": "flKDmKaVl7Qa",
        "colab_type": "code",
        "colab": {
          "base_uri": "https://localhost:8080/",
          "height": 51
        },
        "outputId": "e9f52514-9800-42fb-c5db-cb1df62be159"
      },
      "source": [
        "confusion_matrix(y_test, y_pred)"
      ],
      "execution_count": 25,
      "outputs": [
        {
          "output_type": "execute_result",
          "data": {
            "text/plain": [
              "array([[51,  3],\n",
              "       [ 5, 84]])"
            ]
          },
          "metadata": {
            "tags": []
          },
          "execution_count": 25
        }
      ]
    },
    {
      "cell_type": "markdown",
      "metadata": {
        "id": "QO9mSHC70htJ",
        "colab_type": "text"
      },
      "source": [
        "We can also compute the accuracy of our model on the testing data."
      ]
    },
    {
      "cell_type": "code",
      "metadata": {
        "id": "VyLWR4oK0htJ",
        "colab_type": "code",
        "outputId": "fa2d1965-17e7-4bdc-ce39-5a12dba98ca7",
        "colab": {
          "base_uri": "https://localhost:8080/",
          "height": 34
        }
      },
      "source": [
        "accuracy_score(y_pred, y_test)"
      ],
      "execution_count": 26,
      "outputs": [
        {
          "output_type": "execute_result",
          "data": {
            "text/plain": [
              "0.9440559440559441"
            ]
          },
          "metadata": {
            "tags": []
          },
          "execution_count": 26
        }
      ]
    },
    {
      "cell_type": "markdown",
      "metadata": {
        "id": "hjRglLqP0htL",
        "colab_type": "text"
      },
      "source": [
        "That accuracy seems pretty good, what do you think?\n",
        "\n",
        "Finally, let's see what the decision tree looks like. For this dataset, we have much more complicated data than we had for our small example, and we see that we end up with a more complicated tree."
      ]
    },
    {
      "cell_type": "code",
      "metadata": {
        "id": "3FCj0EkAK9P_",
        "colab_type": "code",
        "colab": {
          "base_uri": "https://localhost:8080/",
          "height": 1093
        },
        "outputId": "95165fdd-ebae-429d-a12a-2f70e51abcc8"
      },
      "source": [
        "dot_data = tree.export_graphviz(clf, out_file=None) \n",
        "graph = graphviz.Source(dot_data) \n",
        "graph"
      ],
      "execution_count": 27,
      "outputs": [
        {
          "output_type": "execute_result",
          "data": {
            "text/plain": [
              "<graphviz.files.Source at 0x7f081af250f0>"
            ],
            "image/svg+xml": "<?xml version=\"1.0\" encoding=\"UTF-8\" standalone=\"no\"?>\n<!DOCTYPE svg PUBLIC \"-//W3C//DTD SVG 1.1//EN\"\n \"http://www.w3.org/Graphics/SVG/1.1/DTD/svg11.dtd\">\n<!-- Generated by graphviz version 2.40.1 (20161225.0304)\n -->\n<!-- Title: Tree Pages: 1 -->\n<svg width=\"1250pt\" height=\"789pt\"\n viewBox=\"0.00 0.00 1249.50 789.00\" xmlns=\"http://www.w3.org/2000/svg\" xmlns:xlink=\"http://www.w3.org/1999/xlink\">\n<g id=\"graph0\" class=\"graph\" transform=\"scale(1 1) rotate(0) translate(4 785)\">\n<title>Tree</title>\n<polygon fill=\"#ffffff\" stroke=\"transparent\" points=\"-4,4 -4,-785 1245.5,-785 1245.5,4 -4,4\"/>\n<!-- 0 -->\n<g id=\"node1\" class=\"node\">\n<title>0</title>\n<polygon fill=\"none\" stroke=\"#000000\" points=\"809,-781 684,-781 684,-713 809,-713 809,-781\"/>\n<text text-anchor=\"middle\" x=\"746.5\" y=\"-765.8\" font-family=\"Times,serif\" font-size=\"14.00\" fill=\"#000000\">X[7] &lt;= 0.051</text>\n<text text-anchor=\"middle\" x=\"746.5\" y=\"-750.8\" font-family=\"Times,serif\" font-size=\"14.00\" fill=\"#000000\">gini = 0.467</text>\n<text text-anchor=\"middle\" x=\"746.5\" y=\"-735.8\" font-family=\"Times,serif\" font-size=\"14.00\" fill=\"#000000\">samples = 426</text>\n<text text-anchor=\"middle\" x=\"746.5\" y=\"-720.8\" font-family=\"Times,serif\" font-size=\"14.00\" fill=\"#000000\">value = [158, 268]</text>\n</g>\n<!-- 1 -->\n<g id=\"node2\" class=\"node\">\n<title>1</title>\n<polygon fill=\"none\" stroke=\"#000000\" points=\"693,-677 576,-677 576,-609 693,-609 693,-677\"/>\n<text text-anchor=\"middle\" x=\"634.5\" y=\"-661.8\" font-family=\"Times,serif\" font-size=\"14.00\" fill=\"#000000\">X[20] &lt;= 16.83</text>\n<text text-anchor=\"middle\" x=\"634.5\" y=\"-646.8\" font-family=\"Times,serif\" font-size=\"14.00\" fill=\"#000000\">gini = 0.113</text>\n<text text-anchor=\"middle\" x=\"634.5\" y=\"-631.8\" font-family=\"Times,serif\" font-size=\"14.00\" fill=\"#000000\">samples = 267</text>\n<text text-anchor=\"middle\" x=\"634.5\" y=\"-616.8\" font-family=\"Times,serif\" font-size=\"14.00\" fill=\"#000000\">value = [16, 251]</text>\n</g>\n<!-- 0&#45;&gt;1 -->\n<g id=\"edge1\" class=\"edge\">\n<title>0&#45;&gt;1</title>\n<path fill=\"none\" stroke=\"#000000\" d=\"M709.827,-712.9465C699.8677,-703.6986 688.9789,-693.5876 678.6532,-683.9994\"/>\n<polygon fill=\"#000000\" stroke=\"#000000\" points=\"680.9649,-681.3698 671.2554,-677.13 676.2018,-686.4993 680.9649,-681.3698\"/>\n<text text-anchor=\"middle\" x=\"672.1807\" y=\"-698.4129\" font-family=\"Times,serif\" font-size=\"14.00\" fill=\"#000000\">True</text>\n</g>\n<!-- 22 -->\n<g id=\"node23\" class=\"node\">\n<title>22</title>\n<polygon fill=\"none\" stroke=\"#000000\" points=\"928,-677 811,-677 811,-609 928,-609 928,-677\"/>\n<text text-anchor=\"middle\" x=\"869.5\" y=\"-661.8\" font-family=\"Times,serif\" font-size=\"14.00\" fill=\"#000000\">X[21] &lt;= 20.405</text>\n<text text-anchor=\"middle\" x=\"869.5\" y=\"-646.8\" font-family=\"Times,serif\" font-size=\"14.00\" fill=\"#000000\">gini = 0.191</text>\n<text text-anchor=\"middle\" x=\"869.5\" y=\"-631.8\" font-family=\"Times,serif\" font-size=\"14.00\" fill=\"#000000\">samples = 159</text>\n<text text-anchor=\"middle\" x=\"869.5\" y=\"-616.8\" font-family=\"Times,serif\" font-size=\"14.00\" fill=\"#000000\">value = [142, 17]</text>\n</g>\n<!-- 0&#45;&gt;22 -->\n<g id=\"edge22\" class=\"edge\">\n<title>0&#45;&gt;22</title>\n<path fill=\"none\" stroke=\"#000000\" d=\"M786.7748,-712.9465C797.8184,-703.6088 809.9028,-693.3911 821.3404,-683.7203\"/>\n<polygon fill=\"#000000\" stroke=\"#000000\" points=\"823.7583,-686.2594 829.1347,-677.13 819.2386,-680.914 823.7583,-686.2594\"/>\n<text text-anchor=\"middle\" x=\"827.0495\" y=\"-698.3429\" font-family=\"Times,serif\" font-size=\"14.00\" fill=\"#000000\">False</text>\n</g>\n<!-- 2 -->\n<g id=\"node3\" class=\"node\">\n<title>2</title>\n<polygon fill=\"none\" stroke=\"#000000\" points=\"517.5,-573 407.5,-573 407.5,-505 517.5,-505 517.5,-573\"/>\n<text text-anchor=\"middle\" x=\"462.5\" y=\"-557.8\" font-family=\"Times,serif\" font-size=\"14.00\" fill=\"#000000\">X[10] &lt;= 0.626</text>\n<text text-anchor=\"middle\" x=\"462.5\" y=\"-542.8\" font-family=\"Times,serif\" font-size=\"14.00\" fill=\"#000000\">gini = 0.039</text>\n<text text-anchor=\"middle\" x=\"462.5\" y=\"-527.8\" font-family=\"Times,serif\" font-size=\"14.00\" fill=\"#000000\">samples = 249</text>\n<text text-anchor=\"middle\" x=\"462.5\" y=\"-512.8\" font-family=\"Times,serif\" font-size=\"14.00\" fill=\"#000000\">value = [5, 244]</text>\n</g>\n<!-- 1&#45;&gt;2 -->\n<g id=\"edge2\" class=\"edge\">\n<title>1&#45;&gt;2</title>\n<path fill=\"none\" stroke=\"#000000\" d=\"M578.1808,-608.9465C561.6615,-598.9581 543.4769,-587.9628 526.5154,-577.707\"/>\n<polygon fill=\"#000000\" stroke=\"#000000\" points=\"528.1406,-574.5996 517.7723,-572.4205 524.5187,-580.5898 528.1406,-574.5996\"/>\n</g>\n<!-- 17 -->\n<g id=\"node18\" class=\"node\">\n<title>17</title>\n<polygon fill=\"none\" stroke=\"#000000\" points=\"689,-573 580,-573 580,-505 689,-505 689,-573\"/>\n<text text-anchor=\"middle\" x=\"634.5\" y=\"-557.8\" font-family=\"Times,serif\" font-size=\"14.00\" fill=\"#000000\">X[21] &lt;= 19.91</text>\n<text text-anchor=\"middle\" x=\"634.5\" y=\"-542.8\" font-family=\"Times,serif\" font-size=\"14.00\" fill=\"#000000\">gini = 0.475</text>\n<text text-anchor=\"middle\" x=\"634.5\" y=\"-527.8\" font-family=\"Times,serif\" font-size=\"14.00\" fill=\"#000000\">samples = 18</text>\n<text text-anchor=\"middle\" x=\"634.5\" y=\"-512.8\" font-family=\"Times,serif\" font-size=\"14.00\" fill=\"#000000\">value = [11, 7]</text>\n</g>\n<!-- 1&#45;&gt;17 -->\n<g id=\"edge17\" class=\"edge\">\n<title>1&#45;&gt;17</title>\n<path fill=\"none\" stroke=\"#000000\" d=\"M634.5,-608.9465C634.5,-600.776 634.5,-591.9318 634.5,-583.3697\"/>\n<polygon fill=\"#000000\" stroke=\"#000000\" points=\"638.0001,-583.13 634.5,-573.13 631.0001,-583.13 638.0001,-583.13\"/>\n</g>\n<!-- 3 -->\n<g id=\"node4\" class=\"node\">\n<title>3</title>\n<polygon fill=\"none\" stroke=\"#000000\" points=\"393.5,-469 283.5,-469 283.5,-401 393.5,-401 393.5,-469\"/>\n<text text-anchor=\"middle\" x=\"338.5\" y=\"-453.8\" font-family=\"Times,serif\" font-size=\"14.00\" fill=\"#000000\">X[24] &lt;= 0.178</text>\n<text text-anchor=\"middle\" x=\"338.5\" y=\"-438.8\" font-family=\"Times,serif\" font-size=\"14.00\" fill=\"#000000\">gini = 0.024</text>\n<text text-anchor=\"middle\" x=\"338.5\" y=\"-423.8\" font-family=\"Times,serif\" font-size=\"14.00\" fill=\"#000000\">samples = 246</text>\n<text text-anchor=\"middle\" x=\"338.5\" y=\"-408.8\" font-family=\"Times,serif\" font-size=\"14.00\" fill=\"#000000\">value = [3, 243]</text>\n</g>\n<!-- 2&#45;&gt;3 -->\n<g id=\"edge3\" class=\"edge\">\n<title>2&#45;&gt;3</title>\n<path fill=\"none\" stroke=\"#000000\" d=\"M421.8978,-504.9465C410.7644,-495.6088 398.5817,-485.3911 387.0511,-475.7203\"/>\n<polygon fill=\"#000000\" stroke=\"#000000\" points=\"389.1046,-472.8745 379.1935,-469.13 384.6062,-478.2378 389.1046,-472.8745\"/>\n</g>\n<!-- 14 -->\n<g id=\"node15\" class=\"node\">\n<title>14</title>\n<polygon fill=\"none\" stroke=\"#000000\" points=\"513,-469 412,-469 412,-401 513,-401 513,-469\"/>\n<text text-anchor=\"middle\" x=\"462.5\" y=\"-453.8\" font-family=\"Times,serif\" font-size=\"14.00\" fill=\"#000000\">X[5] &lt;= 0.063</text>\n<text text-anchor=\"middle\" x=\"462.5\" y=\"-438.8\" font-family=\"Times,serif\" font-size=\"14.00\" fill=\"#000000\">gini = 0.444</text>\n<text text-anchor=\"middle\" x=\"462.5\" y=\"-423.8\" font-family=\"Times,serif\" font-size=\"14.00\" fill=\"#000000\">samples = 3</text>\n<text text-anchor=\"middle\" x=\"462.5\" y=\"-408.8\" font-family=\"Times,serif\" font-size=\"14.00\" fill=\"#000000\">value = [2, 1]</text>\n</g>\n<!-- 2&#45;&gt;14 -->\n<g id=\"edge14\" class=\"edge\">\n<title>2&#45;&gt;14</title>\n<path fill=\"none\" stroke=\"#000000\" d=\"M462.5,-504.9465C462.5,-496.776 462.5,-487.9318 462.5,-479.3697\"/>\n<polygon fill=\"#000000\" stroke=\"#000000\" points=\"466.0001,-479.13 462.5,-469.13 459.0001,-479.13 466.0001,-479.13\"/>\n</g>\n<!-- 4 -->\n<g id=\"node5\" class=\"node\">\n<title>4</title>\n<polygon fill=\"none\" stroke=\"#000000\" points=\"275.5,-365 165.5,-365 165.5,-297 275.5,-297 275.5,-365\"/>\n<text text-anchor=\"middle\" x=\"220.5\" y=\"-349.8\" font-family=\"Times,serif\" font-size=\"14.00\" fill=\"#000000\">X[14] &lt;= 0.003</text>\n<text text-anchor=\"middle\" x=\"220.5\" y=\"-334.8\" font-family=\"Times,serif\" font-size=\"14.00\" fill=\"#000000\">gini = 0.016</text>\n<text text-anchor=\"middle\" x=\"220.5\" y=\"-319.8\" font-family=\"Times,serif\" font-size=\"14.00\" fill=\"#000000\">samples = 245</text>\n<text text-anchor=\"middle\" x=\"220.5\" y=\"-304.8\" font-family=\"Times,serif\" font-size=\"14.00\" fill=\"#000000\">value = [2, 243]</text>\n</g>\n<!-- 3&#45;&gt;4 -->\n<g id=\"edge4\" class=\"edge\">\n<title>3&#45;&gt;4</title>\n<path fill=\"none\" stroke=\"#000000\" d=\"M299.8624,-400.9465C289.3696,-391.6986 277.8974,-381.5876 267.0186,-371.9994\"/>\n<polygon fill=\"#000000\" stroke=\"#000000\" points=\"269.0407,-369.1163 259.2244,-365.13 264.4123,-374.3678 269.0407,-369.1163\"/>\n</g>\n<!-- 13 -->\n<g id=\"node14\" class=\"node\">\n<title>13</title>\n<polygon fill=\"none\" stroke=\"#000000\" points=\"389,-357.5 294,-357.5 294,-304.5 389,-304.5 389,-357.5\"/>\n<text text-anchor=\"middle\" x=\"341.5\" y=\"-342.3\" font-family=\"Times,serif\" font-size=\"14.00\" fill=\"#000000\">gini = 0.0</text>\n<text text-anchor=\"middle\" x=\"341.5\" y=\"-327.3\" font-family=\"Times,serif\" font-size=\"14.00\" fill=\"#000000\">samples = 1</text>\n<text text-anchor=\"middle\" x=\"341.5\" y=\"-312.3\" font-family=\"Times,serif\" font-size=\"14.00\" fill=\"#000000\">value = [1, 0]</text>\n</g>\n<!-- 3&#45;&gt;13 -->\n<g id=\"edge13\" class=\"edge\">\n<title>3&#45;&gt;13</title>\n<path fill=\"none\" stroke=\"#000000\" d=\"M339.4823,-400.9465C339.7905,-390.2621 340.132,-378.4254 340.445,-367.5742\"/>\n<polygon fill=\"#000000\" stroke=\"#000000\" points=\"343.9445,-367.639 340.7344,-357.5422 336.9474,-367.4371 343.9445,-367.639\"/>\n</g>\n<!-- 5 -->\n<g id=\"node6\" class=\"node\">\n<title>5</title>\n<polygon fill=\"none\" stroke=\"#000000\" points=\"208,-261 113,-261 113,-193 208,-193 208,-261\"/>\n<text text-anchor=\"middle\" x=\"160.5\" y=\"-245.8\" font-family=\"Times,serif\" font-size=\"14.00\" fill=\"#000000\">X[1] &lt;= 19.9</text>\n<text text-anchor=\"middle\" x=\"160.5\" y=\"-230.8\" font-family=\"Times,serif\" font-size=\"14.00\" fill=\"#000000\">gini = 0.278</text>\n<text text-anchor=\"middle\" x=\"160.5\" y=\"-215.8\" font-family=\"Times,serif\" font-size=\"14.00\" fill=\"#000000\">samples = 6</text>\n<text text-anchor=\"middle\" x=\"160.5\" y=\"-200.8\" font-family=\"Times,serif\" font-size=\"14.00\" fill=\"#000000\">value = [1, 5]</text>\n</g>\n<!-- 4&#45;&gt;5 -->\n<g id=\"edge5\" class=\"edge\">\n<title>4&#45;&gt;5</title>\n<path fill=\"none\" stroke=\"#000000\" d=\"M200.8538,-296.9465C195.881,-288.3271 190.4757,-278.9579 185.2852,-269.9611\"/>\n<polygon fill=\"#000000\" stroke=\"#000000\" points=\"188.2193,-268.0428 180.1904,-261.13 182.156,-271.5409 188.2193,-268.0428\"/>\n</g>\n<!-- 8 -->\n<g id=\"node9\" class=\"node\">\n<title>8</title>\n<polygon fill=\"none\" stroke=\"#000000\" points=\"336.5,-261 226.5,-261 226.5,-193 336.5,-193 336.5,-261\"/>\n<text text-anchor=\"middle\" x=\"281.5\" y=\"-245.8\" font-family=\"Times,serif\" font-size=\"14.00\" fill=\"#000000\">X[21] &lt;= 33.35</text>\n<text text-anchor=\"middle\" x=\"281.5\" y=\"-230.8\" font-family=\"Times,serif\" font-size=\"14.00\" fill=\"#000000\">gini = 0.008</text>\n<text text-anchor=\"middle\" x=\"281.5\" y=\"-215.8\" font-family=\"Times,serif\" font-size=\"14.00\" fill=\"#000000\">samples = 239</text>\n<text text-anchor=\"middle\" x=\"281.5\" y=\"-200.8\" font-family=\"Times,serif\" font-size=\"14.00\" fill=\"#000000\">value = [1, 238]</text>\n</g>\n<!-- 4&#45;&gt;8 -->\n<g id=\"edge8\" class=\"edge\">\n<title>4&#45;&gt;8</title>\n<path fill=\"none\" stroke=\"#000000\" d=\"M240.4737,-296.9465C245.5293,-288.3271 251.0247,-278.9579 256.3017,-269.9611\"/>\n<polygon fill=\"#000000\" stroke=\"#000000\" points=\"259.4411,-271.5265 261.4814,-261.13 253.4031,-267.985 259.4411,-271.5265\"/>\n</g>\n<!-- 6 -->\n<g id=\"node7\" class=\"node\">\n<title>6</title>\n<polygon fill=\"none\" stroke=\"#000000\" points=\"95,-149.5 0,-149.5 0,-96.5 95,-96.5 95,-149.5\"/>\n<text text-anchor=\"middle\" x=\"47.5\" y=\"-134.3\" font-family=\"Times,serif\" font-size=\"14.00\" fill=\"#000000\">gini = 0.0</text>\n<text text-anchor=\"middle\" x=\"47.5\" y=\"-119.3\" font-family=\"Times,serif\" font-size=\"14.00\" fill=\"#000000\">samples = 5</text>\n<text text-anchor=\"middle\" x=\"47.5\" y=\"-104.3\" font-family=\"Times,serif\" font-size=\"14.00\" fill=\"#000000\">value = [0, 5]</text>\n</g>\n<!-- 5&#45;&gt;6 -->\n<g id=\"edge6\" class=\"edge\">\n<title>5&#45;&gt;6</title>\n<path fill=\"none\" stroke=\"#000000\" d=\"M123.4996,-192.9465C110.8134,-181.2707 96.6322,-168.219 83.987,-156.5809\"/>\n<polygon fill=\"#000000\" stroke=\"#000000\" points=\"86.0673,-153.7389 76.3391,-149.5422 81.3269,-158.8895 86.0673,-153.7389\"/>\n</g>\n<!-- 7 -->\n<g id=\"node8\" class=\"node\">\n<title>7</title>\n<polygon fill=\"none\" stroke=\"#000000\" points=\"208,-149.5 113,-149.5 113,-96.5 208,-96.5 208,-149.5\"/>\n<text text-anchor=\"middle\" x=\"160.5\" y=\"-134.3\" font-family=\"Times,serif\" font-size=\"14.00\" fill=\"#000000\">gini = 0.0</text>\n<text text-anchor=\"middle\" x=\"160.5\" y=\"-119.3\" font-family=\"Times,serif\" font-size=\"14.00\" fill=\"#000000\">samples = 1</text>\n<text text-anchor=\"middle\" x=\"160.5\" y=\"-104.3\" font-family=\"Times,serif\" font-size=\"14.00\" fill=\"#000000\">value = [1, 0]</text>\n</g>\n<!-- 5&#45;&gt;7 -->\n<g id=\"edge7\" class=\"edge\">\n<title>5&#45;&gt;7</title>\n<path fill=\"none\" stroke=\"#000000\" d=\"M160.5,-192.9465C160.5,-182.2621 160.5,-170.4254 160.5,-159.5742\"/>\n<polygon fill=\"#000000\" stroke=\"#000000\" points=\"164.0001,-159.5421 160.5,-149.5422 157.0001,-159.5422 164.0001,-159.5421\"/>\n</g>\n<!-- 9 -->\n<g id=\"node10\" class=\"node\">\n<title>9</title>\n<polygon fill=\"none\" stroke=\"#000000\" points=\"336.5,-149.5 226.5,-149.5 226.5,-96.5 336.5,-96.5 336.5,-149.5\"/>\n<text text-anchor=\"middle\" x=\"281.5\" y=\"-134.3\" font-family=\"Times,serif\" font-size=\"14.00\" fill=\"#000000\">gini = 0.0</text>\n<text text-anchor=\"middle\" x=\"281.5\" y=\"-119.3\" font-family=\"Times,serif\" font-size=\"14.00\" fill=\"#000000\">samples = 225</text>\n<text text-anchor=\"middle\" x=\"281.5\" y=\"-104.3\" font-family=\"Times,serif\" font-size=\"14.00\" fill=\"#000000\">value = [0, 225]</text>\n</g>\n<!-- 8&#45;&gt;9 -->\n<g id=\"edge9\" class=\"edge\">\n<title>8&#45;&gt;9</title>\n<path fill=\"none\" stroke=\"#000000\" d=\"M281.5,-192.9465C281.5,-182.2621 281.5,-170.4254 281.5,-159.5742\"/>\n<polygon fill=\"#000000\" stroke=\"#000000\" points=\"285.0001,-159.5421 281.5,-149.5422 278.0001,-159.5422 285.0001,-159.5421\"/>\n</g>\n<!-- 10 -->\n<g id=\"node11\" class=\"node\">\n<title>10</title>\n<polygon fill=\"none\" stroke=\"#000000\" points=\"464,-157 355,-157 355,-89 464,-89 464,-157\"/>\n<text text-anchor=\"middle\" x=\"409.5\" y=\"-141.8\" font-family=\"Times,serif\" font-size=\"14.00\" fill=\"#000000\">X[21] &lt;= 33.56</text>\n<text text-anchor=\"middle\" x=\"409.5\" y=\"-126.8\" font-family=\"Times,serif\" font-size=\"14.00\" fill=\"#000000\">gini = 0.133</text>\n<text text-anchor=\"middle\" x=\"409.5\" y=\"-111.8\" font-family=\"Times,serif\" font-size=\"14.00\" fill=\"#000000\">samples = 14</text>\n<text text-anchor=\"middle\" x=\"409.5\" y=\"-96.8\" font-family=\"Times,serif\" font-size=\"14.00\" fill=\"#000000\">value = [1, 13]</text>\n</g>\n<!-- 8&#45;&gt;10 -->\n<g id=\"edge10\" class=\"edge\">\n<title>8&#45;&gt;10</title>\n<path fill=\"none\" stroke=\"#000000\" d=\"M323.412,-192.9465C335.015,-183.519 347.7221,-173.1946 359.7259,-163.4415\"/>\n<polygon fill=\"#000000\" stroke=\"#000000\" points=\"361.9398,-166.1524 367.4939,-157.13 357.5256,-160.7196 361.9398,-166.1524\"/>\n</g>\n<!-- 11 -->\n<g id=\"node12\" class=\"node\">\n<title>11</title>\n<polygon fill=\"none\" stroke=\"#000000\" points=\"398,-53 303,-53 303,0 398,0 398,-53\"/>\n<text text-anchor=\"middle\" x=\"350.5\" y=\"-37.8\" font-family=\"Times,serif\" font-size=\"14.00\" fill=\"#000000\">gini = 0.0</text>\n<text text-anchor=\"middle\" x=\"350.5\" y=\"-22.8\" font-family=\"Times,serif\" font-size=\"14.00\" fill=\"#000000\">samples = 1</text>\n<text text-anchor=\"middle\" x=\"350.5\" y=\"-7.8\" font-family=\"Times,serif\" font-size=\"14.00\" fill=\"#000000\">value = [1, 0]</text>\n</g>\n<!-- 10&#45;&gt;11 -->\n<g id=\"edge11\" class=\"edge\">\n<title>10&#45;&gt;11</title>\n<path fill=\"none\" stroke=\"#000000\" d=\"M388.6988,-88.9777C383.3242,-80.187 377.5265,-70.7044 372.1115,-61.8477\"/>\n<polygon fill=\"#000000\" stroke=\"#000000\" points=\"375.0564,-59.9545 366.854,-53.2485 369.0842,-63.6059 375.0564,-59.9545\"/>\n</g>\n<!-- 12 -->\n<g id=\"node13\" class=\"node\">\n<title>12</title>\n<polygon fill=\"none\" stroke=\"#000000\" points=\"518.5,-53 416.5,-53 416.5,0 518.5,0 518.5,-53\"/>\n<text text-anchor=\"middle\" x=\"467.5\" y=\"-37.8\" font-family=\"Times,serif\" font-size=\"14.00\" fill=\"#000000\">gini = 0.0</text>\n<text text-anchor=\"middle\" x=\"467.5\" y=\"-22.8\" font-family=\"Times,serif\" font-size=\"14.00\" fill=\"#000000\">samples = 13</text>\n<text text-anchor=\"middle\" x=\"467.5\" y=\"-7.8\" font-family=\"Times,serif\" font-size=\"14.00\" fill=\"#000000\">value = [0, 13]</text>\n</g>\n<!-- 10&#45;&gt;12 -->\n<g id=\"edge12\" class=\"edge\">\n<title>10&#45;&gt;12</title>\n<path fill=\"none\" stroke=\"#000000\" d=\"M429.9486,-88.9777C435.2322,-80.187 440.9316,-70.7044 446.2548,-61.8477\"/>\n<polygon fill=\"#000000\" stroke=\"#000000\" points=\"449.2715,-63.6225 451.4232,-53.2485 443.2718,-60.0165 449.2715,-63.6225\"/>\n</g>\n<!-- 15 -->\n<g id=\"node16\" class=\"node\">\n<title>15</title>\n<polygon fill=\"none\" stroke=\"#000000\" points=\"507,-357.5 412,-357.5 412,-304.5 507,-304.5 507,-357.5\"/>\n<text text-anchor=\"middle\" x=\"459.5\" y=\"-342.3\" font-family=\"Times,serif\" font-size=\"14.00\" fill=\"#000000\">gini = 0.0</text>\n<text text-anchor=\"middle\" x=\"459.5\" y=\"-327.3\" font-family=\"Times,serif\" font-size=\"14.00\" fill=\"#000000\">samples = 2</text>\n<text text-anchor=\"middle\" x=\"459.5\" y=\"-312.3\" font-family=\"Times,serif\" font-size=\"14.00\" fill=\"#000000\">value = [2, 0]</text>\n</g>\n<!-- 14&#45;&gt;15 -->\n<g id=\"edge15\" class=\"edge\">\n<title>14&#45;&gt;15</title>\n<path fill=\"none\" stroke=\"#000000\" d=\"M461.5177,-400.9465C461.2095,-390.2621 460.868,-378.4254 460.555,-367.5742\"/>\n<polygon fill=\"#000000\" stroke=\"#000000\" points=\"464.0526,-367.4371 460.2656,-357.5422 457.0555,-367.639 464.0526,-367.4371\"/>\n</g>\n<!-- 16 -->\n<g id=\"node17\" class=\"node\">\n<title>16</title>\n<polygon fill=\"none\" stroke=\"#000000\" points=\"620,-357.5 525,-357.5 525,-304.5 620,-304.5 620,-357.5\"/>\n<text text-anchor=\"middle\" x=\"572.5\" y=\"-342.3\" font-family=\"Times,serif\" font-size=\"14.00\" fill=\"#000000\">gini = 0.0</text>\n<text text-anchor=\"middle\" x=\"572.5\" y=\"-327.3\" font-family=\"Times,serif\" font-size=\"14.00\" fill=\"#000000\">samples = 1</text>\n<text text-anchor=\"middle\" x=\"572.5\" y=\"-312.3\" font-family=\"Times,serif\" font-size=\"14.00\" fill=\"#000000\">value = [0, 1]</text>\n</g>\n<!-- 14&#45;&gt;16 -->\n<g id=\"edge16\" class=\"edge\">\n<title>14&#45;&gt;16</title>\n<path fill=\"none\" stroke=\"#000000\" d=\"M498.5181,-400.9465C510.8675,-389.2707 524.6722,-376.219 536.9817,-364.5809\"/>\n<polygon fill=\"#000000\" stroke=\"#000000\" points=\"539.5646,-366.9556 544.4266,-357.5422 534.7555,-361.869 539.5646,-366.9556\"/>\n</g>\n<!-- 18 -->\n<g id=\"node19\" class=\"node\">\n<title>18</title>\n<polygon fill=\"none\" stroke=\"#000000\" points=\"626,-461.5 531,-461.5 531,-408.5 626,-408.5 626,-461.5\"/>\n<text text-anchor=\"middle\" x=\"578.5\" y=\"-446.3\" font-family=\"Times,serif\" font-size=\"14.00\" fill=\"#000000\">gini = 0.0</text>\n<text text-anchor=\"middle\" x=\"578.5\" y=\"-431.3\" font-family=\"Times,serif\" font-size=\"14.00\" fill=\"#000000\">samples = 5</text>\n<text text-anchor=\"middle\" x=\"578.5\" y=\"-416.3\" font-family=\"Times,serif\" font-size=\"14.00\" fill=\"#000000\">value = [0, 5]</text>\n</g>\n<!-- 17&#45;&gt;18 -->\n<g id=\"edge18\" class=\"edge\">\n<title>17&#45;&gt;18</title>\n<path fill=\"none\" stroke=\"#000000\" d=\"M616.1635,-504.9465C610.2324,-493.9316 603.6419,-481.6922 597.6532,-470.5703\"/>\n<polygon fill=\"#000000\" stroke=\"#000000\" points=\"600.6146,-468.6875 592.7919,-461.5422 594.4513,-472.0063 600.6146,-468.6875\"/>\n</g>\n<!-- 19 -->\n<g id=\"node20\" class=\"node\">\n<title>19</title>\n<polygon fill=\"none\" stroke=\"#000000\" points=\"745,-469 644,-469 644,-401 745,-401 745,-469\"/>\n<text text-anchor=\"middle\" x=\"694.5\" y=\"-453.8\" font-family=\"Times,serif\" font-size=\"14.00\" fill=\"#000000\">X[17] &lt;= 0.01</text>\n<text text-anchor=\"middle\" x=\"694.5\" y=\"-438.8\" font-family=\"Times,serif\" font-size=\"14.00\" fill=\"#000000\">gini = 0.26</text>\n<text text-anchor=\"middle\" x=\"694.5\" y=\"-423.8\" font-family=\"Times,serif\" font-size=\"14.00\" fill=\"#000000\">samples = 13</text>\n<text text-anchor=\"middle\" x=\"694.5\" y=\"-408.8\" font-family=\"Times,serif\" font-size=\"14.00\" fill=\"#000000\">value = [11, 2]</text>\n</g>\n<!-- 17&#45;&gt;19 -->\n<g id=\"edge19\" class=\"edge\">\n<title>17&#45;&gt;19</title>\n<path fill=\"none\" stroke=\"#000000\" d=\"M654.1462,-504.9465C659.119,-496.3271 664.5243,-486.9579 669.7148,-477.9611\"/>\n<polygon fill=\"#000000\" stroke=\"#000000\" points=\"672.844,-479.5409 674.8096,-469.13 666.7807,-476.0428 672.844,-479.5409\"/>\n</g>\n<!-- 20 -->\n<g id=\"node21\" class=\"node\">\n<title>20</title>\n<polygon fill=\"none\" stroke=\"#000000\" points=\"742,-357.5 641,-357.5 641,-304.5 742,-304.5 742,-357.5\"/>\n<text text-anchor=\"middle\" x=\"691.5\" y=\"-342.3\" font-family=\"Times,serif\" font-size=\"14.00\" fill=\"#000000\">gini = 0.0</text>\n<text text-anchor=\"middle\" x=\"691.5\" y=\"-327.3\" font-family=\"Times,serif\" font-size=\"14.00\" fill=\"#000000\">samples = 11</text>\n<text text-anchor=\"middle\" x=\"691.5\" y=\"-312.3\" font-family=\"Times,serif\" font-size=\"14.00\" fill=\"#000000\">value = [11, 0]</text>\n</g>\n<!-- 19&#45;&gt;20 -->\n<g id=\"edge20\" class=\"edge\">\n<title>19&#45;&gt;20</title>\n<path fill=\"none\" stroke=\"#000000\" d=\"M693.5177,-400.9465C693.2095,-390.2621 692.868,-378.4254 692.555,-367.5742\"/>\n<polygon fill=\"#000000\" stroke=\"#000000\" points=\"696.0526,-367.4371 692.2656,-357.5422 689.0555,-367.639 696.0526,-367.4371\"/>\n</g>\n<!-- 21 -->\n<g id=\"node22\" class=\"node\">\n<title>21</title>\n<polygon fill=\"none\" stroke=\"#000000\" points=\"855,-357.5 760,-357.5 760,-304.5 855,-304.5 855,-357.5\"/>\n<text text-anchor=\"middle\" x=\"807.5\" y=\"-342.3\" font-family=\"Times,serif\" font-size=\"14.00\" fill=\"#000000\">gini = 0.0</text>\n<text text-anchor=\"middle\" x=\"807.5\" y=\"-327.3\" font-family=\"Times,serif\" font-size=\"14.00\" fill=\"#000000\">samples = 2</text>\n<text text-anchor=\"middle\" x=\"807.5\" y=\"-312.3\" font-family=\"Times,serif\" font-size=\"14.00\" fill=\"#000000\">value = [0, 2]</text>\n</g>\n<!-- 19&#45;&gt;21 -->\n<g id=\"edge21\" class=\"edge\">\n<title>19&#45;&gt;21</title>\n<path fill=\"none\" stroke=\"#000000\" d=\"M731.5004,-400.9465C744.1866,-389.2707 758.3678,-376.219 771.013,-364.5809\"/>\n<polygon fill=\"#000000\" stroke=\"#000000\" points=\"773.6731,-366.8895 778.6609,-357.5422 768.9327,-361.7389 773.6731,-366.8895\"/>\n</g>\n<!-- 23 -->\n<g id=\"node24\" class=\"node\">\n<title>23</title>\n<polygon fill=\"none\" stroke=\"#000000\" points=\"924,-573 815,-573 815,-505 924,-505 924,-573\"/>\n<text text-anchor=\"middle\" x=\"869.5\" y=\"-557.8\" font-family=\"Times,serif\" font-size=\"14.00\" fill=\"#000000\">X[27] &lt;= 0.158</text>\n<text text-anchor=\"middle\" x=\"869.5\" y=\"-542.8\" font-family=\"Times,serif\" font-size=\"14.00\" fill=\"#000000\">gini = 0.408</text>\n<text text-anchor=\"middle\" x=\"869.5\" y=\"-527.8\" font-family=\"Times,serif\" font-size=\"14.00\" fill=\"#000000\">samples = 14</text>\n<text text-anchor=\"middle\" x=\"869.5\" y=\"-512.8\" font-family=\"Times,serif\" font-size=\"14.00\" fill=\"#000000\">value = [4, 10]</text>\n</g>\n<!-- 22&#45;&gt;23 -->\n<g id=\"edge23\" class=\"edge\">\n<title>22&#45;&gt;23</title>\n<path fill=\"none\" stroke=\"#000000\" d=\"M869.5,-608.9465C869.5,-600.776 869.5,-591.9318 869.5,-583.3697\"/>\n<polygon fill=\"#000000\" stroke=\"#000000\" points=\"873.0001,-583.13 869.5,-573.13 866.0001,-583.13 873.0001,-583.13\"/>\n</g>\n<!-- 26 -->\n<g id=\"node27\" class=\"node\">\n<title>26</title>\n<polygon fill=\"none\" stroke=\"#000000\" points=\"1113.5,-573 997.5,-573 997.5,-505 1113.5,-505 1113.5,-573\"/>\n<text text-anchor=\"middle\" x=\"1055.5\" y=\"-557.8\" font-family=\"Times,serif\" font-size=\"14.00\" fill=\"#000000\">X[23] &lt;= 718.65</text>\n<text text-anchor=\"middle\" x=\"1055.5\" y=\"-542.8\" font-family=\"Times,serif\" font-size=\"14.00\" fill=\"#000000\">gini = 0.092</text>\n<text text-anchor=\"middle\" x=\"1055.5\" y=\"-527.8\" font-family=\"Times,serif\" font-size=\"14.00\" fill=\"#000000\">samples = 145</text>\n<text text-anchor=\"middle\" x=\"1055.5\" y=\"-512.8\" font-family=\"Times,serif\" font-size=\"14.00\" fill=\"#000000\">value = [138, 7]</text>\n</g>\n<!-- 22&#45;&gt;26 -->\n<g id=\"edge26\" class=\"edge\">\n<title>22&#45;&gt;26</title>\n<path fill=\"none\" stroke=\"#000000\" d=\"M928.0963,-610.2365C947.2111,-599.5486 968.5832,-587.5986 988.2802,-576.5853\"/>\n<polygon fill=\"#000000\" stroke=\"#000000\" points=\"990.178,-579.5342 997.1981,-571.5989 986.7617,-573.4244 990.178,-579.5342\"/>\n</g>\n<!-- 24 -->\n<g id=\"node25\" class=\"node\">\n<title>24</title>\n<polygon fill=\"none\" stroke=\"#000000\" points=\"865.5,-461.5 763.5,-461.5 763.5,-408.5 865.5,-408.5 865.5,-461.5\"/>\n<text text-anchor=\"middle\" x=\"814.5\" y=\"-446.3\" font-family=\"Times,serif\" font-size=\"14.00\" fill=\"#000000\">gini = 0.0</text>\n<text text-anchor=\"middle\" x=\"814.5\" y=\"-431.3\" font-family=\"Times,serif\" font-size=\"14.00\" fill=\"#000000\">samples = 10</text>\n<text text-anchor=\"middle\" x=\"814.5\" y=\"-416.3\" font-family=\"Times,serif\" font-size=\"14.00\" fill=\"#000000\">value = [0, 10]</text>\n</g>\n<!-- 23&#45;&gt;24 -->\n<g id=\"edge24\" class=\"edge\">\n<title>23&#45;&gt;24</title>\n<path fill=\"none\" stroke=\"#000000\" d=\"M851.4909,-504.9465C845.6658,-493.9316 839.193,-481.6922 833.3112,-470.5703\"/>\n<polygon fill=\"#000000\" stroke=\"#000000\" points=\"836.3057,-468.7459 828.5367,-461.5422 830.1178,-472.0184 836.3057,-468.7459\"/>\n</g>\n<!-- 25 -->\n<g id=\"node26\" class=\"node\">\n<title>25</title>\n<polygon fill=\"none\" stroke=\"#000000\" points=\"979,-461.5 884,-461.5 884,-408.5 979,-408.5 979,-461.5\"/>\n<text text-anchor=\"middle\" x=\"931.5\" y=\"-446.3\" font-family=\"Times,serif\" font-size=\"14.00\" fill=\"#000000\">gini = 0.0</text>\n<text text-anchor=\"middle\" x=\"931.5\" y=\"-431.3\" font-family=\"Times,serif\" font-size=\"14.00\" fill=\"#000000\">samples = 4</text>\n<text text-anchor=\"middle\" x=\"931.5\" y=\"-416.3\" font-family=\"Times,serif\" font-size=\"14.00\" fill=\"#000000\">value = [4, 0]</text>\n</g>\n<!-- 23&#45;&gt;25 -->\n<g id=\"edge25\" class=\"edge\">\n<title>23&#45;&gt;25</title>\n<path fill=\"none\" stroke=\"#000000\" d=\"M889.8011,-504.9465C896.4334,-493.8215 903.8103,-481.4473 910.4933,-470.237\"/>\n<polygon fill=\"#000000\" stroke=\"#000000\" points=\"913.5624,-471.9239 915.6768,-461.5422 907.5498,-468.3394 913.5624,-471.9239\"/>\n</g>\n<!-- 27 -->\n<g id=\"node28\" class=\"node\">\n<title>27</title>\n<polygon fill=\"none\" stroke=\"#000000\" points=\"1113.5,-469 997.5,-469 997.5,-401 1113.5,-401 1113.5,-469\"/>\n<text text-anchor=\"middle\" x=\"1055.5\" y=\"-453.8\" font-family=\"Times,serif\" font-size=\"14.00\" fill=\"#000000\">X[21] &lt;= 25.925</text>\n<text text-anchor=\"middle\" x=\"1055.5\" y=\"-438.8\" font-family=\"Times,serif\" font-size=\"14.00\" fill=\"#000000\">gini = 0.497</text>\n<text text-anchor=\"middle\" x=\"1055.5\" y=\"-423.8\" font-family=\"Times,serif\" font-size=\"14.00\" fill=\"#000000\">samples = 13</text>\n<text text-anchor=\"middle\" x=\"1055.5\" y=\"-408.8\" font-family=\"Times,serif\" font-size=\"14.00\" fill=\"#000000\">value = [6, 7]</text>\n</g>\n<!-- 26&#45;&gt;27 -->\n<g id=\"edge27\" class=\"edge\">\n<title>26&#45;&gt;27</title>\n<path fill=\"none\" stroke=\"#000000\" d=\"M1055.5,-504.9465C1055.5,-496.776 1055.5,-487.9318 1055.5,-479.3697\"/>\n<polygon fill=\"#000000\" stroke=\"#000000\" points=\"1059.0001,-479.13 1055.5,-469.13 1052.0001,-479.13 1059.0001,-479.13\"/>\n</g>\n<!-- 30 -->\n<g id=\"node31\" class=\"node\">\n<title>30</title>\n<polygon fill=\"none\" stroke=\"#000000\" points=\"1241.5,-461.5 1131.5,-461.5 1131.5,-408.5 1241.5,-408.5 1241.5,-461.5\"/>\n<text text-anchor=\"middle\" x=\"1186.5\" y=\"-446.3\" font-family=\"Times,serif\" font-size=\"14.00\" fill=\"#000000\">gini = 0.0</text>\n<text text-anchor=\"middle\" x=\"1186.5\" y=\"-431.3\" font-family=\"Times,serif\" font-size=\"14.00\" fill=\"#000000\">samples = 132</text>\n<text text-anchor=\"middle\" x=\"1186.5\" y=\"-416.3\" font-family=\"Times,serif\" font-size=\"14.00\" fill=\"#000000\">value = [132, 0]</text>\n</g>\n<!-- 26&#45;&gt;30 -->\n<g id=\"edge30\" class=\"edge\">\n<title>26&#45;&gt;30</title>\n<path fill=\"none\" stroke=\"#000000\" d=\"M1098.3943,-504.9465C1113.3788,-493.0504 1130.1624,-479.726 1145.0288,-467.9237\"/>\n<polygon fill=\"#000000\" stroke=\"#000000\" points=\"1147.4113,-470.5011 1153.0671,-461.5422 1143.0589,-465.0187 1147.4113,-470.5011\"/>\n</g>\n<!-- 28 -->\n<g id=\"node29\" class=\"node\">\n<title>28</title>\n<polygon fill=\"none\" stroke=\"#000000\" points=\"1046,-357.5 951,-357.5 951,-304.5 1046,-304.5 1046,-357.5\"/>\n<text text-anchor=\"middle\" x=\"998.5\" y=\"-342.3\" font-family=\"Times,serif\" font-size=\"14.00\" fill=\"#000000\">gini = 0.0</text>\n<text text-anchor=\"middle\" x=\"998.5\" y=\"-327.3\" font-family=\"Times,serif\" font-size=\"14.00\" fill=\"#000000\">samples = 7</text>\n<text text-anchor=\"middle\" x=\"998.5\" y=\"-312.3\" font-family=\"Times,serif\" font-size=\"14.00\" fill=\"#000000\">value = [0, 7]</text>\n</g>\n<!-- 27&#45;&gt;28 -->\n<g id=\"edge28\" class=\"edge\">\n<title>27&#45;&gt;28</title>\n<path fill=\"none\" stroke=\"#000000\" d=\"M1036.8361,-400.9465C1030.7991,-389.9316 1024.0909,-377.6922 1017.9953,-366.5703\"/>\n<polygon fill=\"#000000\" stroke=\"#000000\" points=\"1020.9227,-364.6292 1013.0471,-357.5422 1014.7842,-367.9936 1020.9227,-364.6292\"/>\n</g>\n<!-- 29 -->\n<g id=\"node30\" class=\"node\">\n<title>29</title>\n<polygon fill=\"none\" stroke=\"#000000\" points=\"1159,-357.5 1064,-357.5 1064,-304.5 1159,-304.5 1159,-357.5\"/>\n<text text-anchor=\"middle\" x=\"1111.5\" y=\"-342.3\" font-family=\"Times,serif\" font-size=\"14.00\" fill=\"#000000\">gini = 0.0</text>\n<text text-anchor=\"middle\" x=\"1111.5\" y=\"-327.3\" font-family=\"Times,serif\" font-size=\"14.00\" fill=\"#000000\">samples = 6</text>\n<text text-anchor=\"middle\" x=\"1111.5\" y=\"-312.3\" font-family=\"Times,serif\" font-size=\"14.00\" fill=\"#000000\">value = [6, 0]</text>\n</g>\n<!-- 27&#45;&gt;29 -->\n<g id=\"edge29\" class=\"edge\">\n<title>27&#45;&gt;29</title>\n<path fill=\"none\" stroke=\"#000000\" d=\"M1073.8365,-400.9465C1079.7676,-389.9316 1086.3581,-377.6922 1092.3468,-366.5703\"/>\n<polygon fill=\"#000000\" stroke=\"#000000\" points=\"1095.5487,-368.0063 1097.2081,-357.5422 1089.3854,-364.6875 1095.5487,-368.0063\"/>\n</g>\n</g>\n</svg>\n"
          },
          "metadata": {
            "tags": []
          },
          "execution_count": 27
        }
      ]
    },
    {
      "cell_type": "markdown",
      "metadata": {
        "id": "DXbF-XF4nD6P",
        "colab_type": "text"
      },
      "source": [
        "Remember that we are trying to predict if cells are cancerous or not, and this can have serious consequences for people's lives.\n",
        "\n",
        "With this in mind, what do you think of the accuracy of our model?\n",
        "\n",
        "Should both types of misclassification errors be treated equally? That is, is it worse to classify a benign tumor as malignant, or is it worse to classify a malignant tumor as benign?"
      ]
    },
    {
      "cell_type": "markdown",
      "metadata": {
        "id": "ZnubbCIh0htM",
        "colab_type": "text"
      },
      "source": [
        "## Random forests\n",
        "\n",
        "One method for improving the performance of our decision trees is something called a *random forest*. If you put a lot of trees together.... you get a forest! Essentially, we will train a lot of decision trees, and then combine their information to get a model that performs better than any of the individual trees.\n",
        "\n",
        "So far, we have:\n",
        "* made a single decision tree by hand from all the data we had\n",
        "* split our data into training and testing sets, so that we could make a decision tree on the training data and test the accuracy of the model on our testing data, \n",
        "* and looked over our shoulders at our neighbors' decision trees and noticed that sometimes they're different, even though we started with the same data.\n",
        "\n",
        "Now, let's do some _ensemble_ learning. Ensemble means \"together\" in French, and ensemble learning involves putting together lots of models and looking at their average predictions, or the most popular prediction, depending on what you want to do. Random forests involve picking a random subset of the data and fitting a tree, then picking another random subset of the data and making a tree, and making tree after tree until you have a forest."
      ]
    },
    {
      "cell_type": "code",
      "metadata": {
        "id": "1M5oZwgN0htM",
        "colab_type": "code",
        "outputId": "9afe1704-1b6f-4683-c8aa-ee22288b54e6",
        "colab": {
          "base_uri": "https://localhost:8080/",
          "height": 91
        }
      },
      "source": [
        "from sklearn.ensemble import RandomForestClassifier\n",
        "rf = RandomForestClassifier()\n",
        "rf = rf.fit(X_train, y_train)"
      ],
      "execution_count": 28,
      "outputs": [
        {
          "output_type": "stream",
          "text": [
            "/usr/local/lib/python3.6/dist-packages/sklearn/ensemble/forest.py:245: FutureWarning: The default value of n_estimators will change from 10 in version 0.20 to 100 in 0.22.\n",
            "  \"10 in version 0.20 to 100 in 0.22.\", FutureWarning)\n"
          ],
          "name": "stderr"
        }
      ]
    },
    {
      "cell_type": "code",
      "metadata": {
        "id": "awisNYWA0htO",
        "colab_type": "code",
        "colab": {}
      },
      "source": [
        "rf_pred = rf.predict(X_test)"
      ],
      "execution_count": 0,
      "outputs": []
    },
    {
      "cell_type": "code",
      "metadata": {
        "id": "Va_3yOak0htP",
        "colab_type": "code",
        "outputId": "3404af97-8e02-415d-9f11-33d230020eca",
        "colab": {
          "base_uri": "https://localhost:8080/",
          "height": 34
        }
      },
      "source": [
        "accuracy_score(rf_pred, y_test)"
      ],
      "execution_count": 30,
      "outputs": [
        {
          "output_type": "execute_result",
          "data": {
            "text/plain": [
              "0.965034965034965"
            ]
          },
          "metadata": {
            "tags": []
          },
          "execution_count": 30
        }
      ]
    },
    {
      "cell_type": "markdown",
      "metadata": {
        "id": "4NsKrAAJ0htQ",
        "colab_type": "text"
      },
      "source": [
        "Python does the random forest part automatically, and our accuracy went up to around 97%. When it comes to cancer, how important do you think that difference is?"
      ]
    }
  ]
}