{
 "cells": [
  {
   "cell_type": "markdown",
   "metadata": {
    "colab_type": "text",
    "id": "g0-20_RyM7Mt"
   },
   "source": [
    "<font color=gray>This Jupyter notebook was created by Melissa Lynn for \\the\\world Girls' Machine Learning Day Camp. The license can be found at the bottom of the notebook.</font>\n",
    "\n",
    "# Libraries\n",
    "\n",
    "Of course, we aren't the first people to define a function that computes the average value of a list of numbers. In fact, there are a lot of functions that are useful to us that other people have defined, so it would be nice if we can use their work instead of redefining all of these functions ourselves! Fortunately, this is possible. We've actually already used a function defined by other people when we wrote \"len(numbers)\" to find the number of values in the list. Here, we called a function called \"len,\" which was already defined by the mysterious Python powers-that-be and is built into the language. There are more built in functions, but not all of the functions that we'd like to use are automatically included in Python. In order to use these functions, we need to tell the computer where to find these functions.\n",
    "\n",
    "In the code below, we tell the computer that we would like to use a python package called \"numpy.\" Numpy is a collection of functions and other code which are useful for scientific computing. As before, we store the exam scores in a list. We then compute the average score using the \"average\" function in \"numpy.\" Writing \"numpy.average\" tells the computer to look inside of numpy to find the average function, rather than looking for a user defined function (like those we used before). Using this predefined function makes computing the average very easy!"
   ]
  },
  {
   "cell_type": "code",
   "execution_count": null,
   "metadata": {
    "colab": {},
    "colab_type": "code",
    "id": "RF044EklM7Mz"
   },
   "outputs": [],
   "source": [
    "import numpy\n",
    "\n",
    "scores = [85, 93, 88]\n",
    "average_score = numpy.average(scores)\n",
    "print(average_score)"
   ]
  },
  {
   "cell_type": "markdown",
   "metadata": {
    "colab_type": "text",
    "id": "pJ8mFXY4M7NB"
   },
   "source": [
    "The numpy library contains a lot of useful functions, including functions to compute the median and standard deviation of a set of numbers. In the code below, we give an example of using these functions."
   ]
  },
  {
   "cell_type": "code",
   "execution_count": null,
   "metadata": {
    "colab": {},
    "colab_type": "code",
    "id": "GkFVeq7eM7NF"
   },
   "outputs": [],
   "source": [
    "scores = [85, 93, 88]\n",
    "average_score = numpy.average(scores)\n",
    "median_score = numpy.median(scores)\n",
    "stdev_score = numpy.std(scores)\n",
    "print(\"AVERAGE:\")\n",
    "print(average_score)\n",
    "print(\"MEDIAN:\")\n",
    "print(median_score)\n",
    "print(\"STANDARD DEVIATION:\")\n",
    "print(stdev_score)"
   ]
  },
  {
   "cell_type": "markdown",
   "metadata": {
    "colab_type": "text",
    "id": "CWpFWpY7M7NN"
   },
   "source": [
    "\n",
    "Note that we don't need to import numpy again, since we imported numpy in the previous block of code. In a more traditional programming project, we would import all needed libraries at the beginning of a file containing code. Even in Jupyter notebooks, we recommend you put all your libraries at the beginning of your notebook.\n",
    "\n",
    "You can find partial documentation for statistic functions in the numpy library [here](https://docs.scipy.org/doc/numpy-1.13.0/reference/routines.statistics.html), but there are a lot more functions in the numpy library! You can find complete documentation by googling \"numpy documentation.\"\n",
    "\n",
    "## Naming Libraries\n",
    "\n",
    "It can get annoying to keep typing out \"numpy\" every time you want to use a function from that library, so we often use a trick to refer to numpy by a shorter name. If you write \"import numpy,\" you will refer to numpy by the name \"numpy.\" If, instead, you write \"import numpy as...,\" you will refer to numpy by the name that you give it. Let's look at this in the example below."
   ]
  },
  {
   "cell_type": "code",
   "execution_count": null,
   "metadata": {
    "colab": {
     "base_uri": "https://localhost:8080/",
     "height": 34
    },
    "colab_type": "code",
    "executionInfo": {
     "elapsed": 860,
     "status": "ok",
     "timestamp": 1560184319352,
     "user": {
      "displayName": "Melissa Lynn",
      "photoUrl": "",
      "userId": "05926261559474768829"
     },
     "user_tz": 300
    },
    "id": "IT7P4fCqNViU",
    "outputId": "ea1a7bce-5d5e-4de6-c15c-9e8867132019"
   },
   "outputs": [],
   "source": [
    "import numpy as np\n",
    "\n",
    "scores = [85, 93, 88]\n",
    "average_score = np.average(scores)\n",
    "print(average_score)"
   ]
  },
  {
   "cell_type": "markdown",
   "metadata": {
    "colab_type": "text",
    "id": "F2SL-T0JOLXM"
   },
   "source": [
    "Here, we decided to call the numpy library by the name \"np,\" so when we use functions from this library, we call them by starting with \"np.\"\n",
    "\n",
    "We could also use other names for the library, as we do in the example below."
   ]
  },
  {
   "cell_type": "code",
   "execution_count": null,
   "metadata": {
    "colab": {
     "base_uri": "https://localhost:8080/",
     "height": 34
    },
    "colab_type": "code",
    "executionInfo": {
     "elapsed": 369,
     "status": "ok",
     "timestamp": 1560184322149,
     "user": {
      "displayName": "Melissa Lynn",
      "photoUrl": "",
      "userId": "05926261559474768829"
     },
     "user_tz": 300
    },
    "id": "bZOJ9vfrOwsN",
    "outputId": "28196205-11f4-48c5-b876-6174e1460050"
   },
   "outputs": [],
   "source": [
    "import numpy as harrypotter\n",
    "\n",
    "scores = [85, 93, 88]\n",
    "average_score = harrypotter.average(scores)\n",
    "print(average_score)"
   ]
  },
  {
   "cell_type": "markdown",
   "metadata": {
    "colab_type": "text",
    "id": "5-pZ-UewPFR8"
   },
   "source": [
    "Although we can call the numpy library by whatever name we want, we probably shouldn't. Using weird naming conventions can make it more difficult to colloborate with other people and have them understand our code.\n",
    "\n",
    "It's most common to refer to numpy as np, so we'll stick to this convention.\n",
    "\n",
    "## Importing Parts of Libraries\n",
    "\n",
    "Sometimes we want to use some part of a very large library, but we know that we won't need the entire library. In this situation, it often makes sense to only import the part of the library that we actually need.\n",
    "\n",
    "In the example below, we work with the library scikit-learn, which is named sklearn by default. Inside of this library, there is a collection of datasets, stored under the name datasets. By specifying that we want to import this part of the library, we avoid importing the entire scikit-learn library."
   ]
  },
  {
   "cell_type": "code",
   "execution_count": null,
   "metadata": {
    "colab": {},
    "colab_type": "code",
    "id": "wGIGtjCdO-O3"
   },
   "outputs": [],
   "source": [
    "from sklearn import datasets"
   ]
  },
  {
   "cell_type": "markdown",
   "metadata": {
    "colab_type": "text",
    "id": "gnyxh69pRy96"
   },
   "source": [
    "Then, by using what we have just imported, we can set up a variable to refer to one of the datasets.\n",
    "\n",
    "In the code below, we create a variable named our_data_set, and use the load_iris function from the datasets part of sklearn to get the data from the iris dataset. We then print the data that we have just gotten; there's a lot of data here! Later, we'll see how we can use this data to classify irises."
   ]
  },
  {
   "cell_type": "code",
   "execution_count": null,
   "metadata": {
    "colab": {
     "base_uri": "https://localhost:8080/",
     "height": 2689
    },
    "colab_type": "code",
    "executionInfo": {
     "elapsed": 269,
     "status": "ok",
     "timestamp": 1560185224966,
     "user": {
      "displayName": "Melissa Lynn",
      "photoUrl": "",
      "userId": "05926261559474768829"
     },
     "user_tz": 300
    },
    "id": "fgo1NxG2SLF7",
    "outputId": "7946c181-6ec6-4644-9c25-f1cbf3be1440"
   },
   "outputs": [],
   "source": [
    "our_data_set = datasets.load_iris()\n",
    "\n",
    "print(our_data_set)"
   ]
  },
  {
   "cell_type": "markdown",
   "metadata": {
    "colab_type": "text",
    "id": "Qn-H2H7QNVuN"
   },
   "source": [
    "If you'd like to learn more about programming in python, there are several free online tutorials available. You can find more using google, but here are a few: [Learn Python](https://www.learnpython.org), [Udacity](https://www.udacity.com/course/programming-foundations-with-python--ud036), [Code Academy](https://www.codecademy.com/learn/learn-python)."
   ]
  },
  {
   "cell_type": "markdown",
   "metadata": {
    "colab_type": "text",
    "id": "kUzI_ubUM7NO"
   },
   "source": [
    "## Exercises\n",
    "\n",
    "Use the numpy average function to compute the average of the numbers 45, 12, 67, 23, and 59."
   ]
  },
  {
   "cell_type": "code",
   "execution_count": null,
   "metadata": {
    "colab": {},
    "colab_type": "code",
    "id": "c41JhM5nM7NP"
   },
   "outputs": [],
   "source": []
  },
  {
   "cell_type": "markdown",
   "metadata": {
    "colab_type": "text",
    "id": "GEzJ1Y5iM7NT"
   },
   "source": [
    "Use the numpy standard deviation function to compute the standard deviation of the numbers 45, 12, 67, 23, and 59."
   ]
  },
  {
   "cell_type": "code",
   "execution_count": null,
   "metadata": {
    "colab": {},
    "colab_type": "code",
    "id": "TW6PP3nyM7NU"
   },
   "outputs": [],
   "source": []
  },
  {
   "cell_type": "markdown",
   "metadata": {
    "colab_type": "text",
    "id": "g5ccyCkjM7NY"
   },
   "source": [
    "Use a numpy function to compute the variance of the numbers 834, 2378, 82, 3487, 347, 374, and 218. Hint: look at the numpy documentation to find a function to use."
   ]
  },
  {
   "cell_type": "code",
   "execution_count": null,
   "metadata": {
    "colab": {},
    "colab_type": "code",
    "id": "crG6UfC8M7NY"
   },
   "outputs": [],
   "source": []
  },
  {
   "cell_type": "markdown",
   "metadata": {
    "colab_type": "text",
    "id": "BsT2K-w5M7Nb"
   },
   "source": [
    "Write a program to compute the roots of a quadratic equation of the form $ax^2+bx+c=0$, using the quadratic formula $$ x = \\dfrac{-b\\pm \\sqrt{b^2-4ac}}{2a}.$$ Hint: you should find a square root function to use; try googling \"python square root\" to find one!"
   ]
  },
  {
   "cell_type": "code",
   "execution_count": null,
   "metadata": {
    "colab": {},
    "colab_type": "code",
    "id": "7fDK4hMZM7Nc"
   },
   "outputs": [],
   "source": []
  },
  {
   "cell_type": "markdown",
   "metadata": {
    "colab_type": "text",
    "id": "LqwfYagHM7Ne"
   },
   "source": [
    "<font color=gray>Copyright (c) 2018 Melissa Lynn</font>\n",
    "<br><br>\n",
    "<font color=gray>Permission is hereby granted, free of charge, to any person obtaining a copy\n",
    "of this software and associated documentation files (the \"Software\"), to deal\n",
    "in the Software without restriction, including without limitation the rights\n",
    "to use, copy, modify, merge, publish, distribute, sublicense, and/or sell\n",
    "copies of the Software, and to permit persons to whom the Software is\n",
    "furnished to do so, subject to the following conditions:</font>\n",
    "<br><br>\n",
    "<font color=gray>The above copyright notice and this permission notice shall be included in all\n",
    "copies or substantial portions of the Software.</font>\n",
    "<br><br>\n",
    "<font color=gray>THE SOFTWARE IS PROVIDED \"AS IS\", WITHOUT WARRANTY OF ANY KIND, EXPRESS OR\n",
    "IMPLIED, INCLUDING BUT NOT LIMITED TO THE WARRANTIES OF MERCHANTABILITY,\n",
    "FITNESS FOR A PARTICULAR PURPOSE AND NONINFRINGEMENT. IN NO EVENT SHALL THE\n",
    "AUTHORS OR COPYRIGHT HOLDERS BE LIABLE FOR ANY CLAIM, DAMAGES OR OTHER\n",
    "LIABILITY, WHETHER IN AN ACTION OF CONTRACT, TORT OR OTHERWISE, ARISING FROM,\n",
    "OUT OF OR IN CONNECTION WITH THE SOFTWARE OR THE USE OR OTHER DEALINGS IN THE\n",
    "SOFTWARE.</font>"
   ]
  }
 ],
 "metadata": {
  "colab": {
   "name": "6 - Libraries.ipynb",
   "provenance": [],
   "version": "0.3.2"
  },
  "kernelspec": {
   "display_name": "Python 3",
   "language": "python",
   "name": "python3"
  },
  "language_info": {
   "codemirror_mode": {
    "name": "ipython",
    "version": 3
   },
   "file_extension": ".py",
   "mimetype": "text/x-python",
   "name": "python",
   "nbconvert_exporter": "python",
   "pygments_lexer": "ipython3",
   "version": "3.6.4"
  }
 },
 "nbformat": 4,
 "nbformat_minor": 1
}
