{
  "nbformat": 4,
  "nbformat_minor": 0,
  "metadata": {
    "colab": {
      "name": "Support Vector Machines .ipynb",
      "version": "0.3.2",
      "provenance": []
    },
    "language_info": {
      "codemirror_mode": {
        "name": "ipython",
        "version": 3
      },
      "file_extension": ".py",
      "mimetype": "text/x-python",
      "name": "python",
      "nbconvert_exporter": "python",
      "pygments_lexer": "ipython3",
      "version": "3.4.5"
    },
    "kernelspec": {
      "display_name": "Python 3",
      "language": "python",
      "name": "python3"
    }
  },
  "cells": [
    {
      "cell_type": "markdown",
      "metadata": {
        "id": "_KcAl_FE0Le-",
        "colab_type": "text"
      },
      "source": [
        "# Support Vector Machines\n",
        "\n",
        "## Small Examples\n",
        "\n",
        "We'll start practicing using support vector machines with some small examples consisting of fake data.\n",
        "\n",
        "As usual, we start by importing some libraries. We import numpy (good for math functions), sklearn's svm functions (support vector machines), and the plotting library from matplotlib. We also import confusion_matrix and accuracy_score from the metrics library in scikit-learn, which we'll use to evaluate the accuracy of our model."
      ]
    },
    {
      "cell_type": "code",
      "metadata": {
        "id": "OnjNYush0LfC",
        "colab_type": "code",
        "colab": {}
      },
      "source": [
        "import numpy as np\n",
        "from sklearn import svm\n",
        "from sklearn.metrics import confusion_matrix, accuracy_score\n",
        "%matplotlib inline\n",
        "import matplotlib.pyplot as plt"
      ],
      "execution_count": 0,
      "outputs": []
    },
    {
      "cell_type": "markdown",
      "metadata": {
        "id": "68yqf-U9dbwP",
        "colab_type": "text"
      },
      "source": [
        "Next, let's make our datasets. The first dataset has two classes. The second and third datasets both have two classes, with slightly different distributions. We'll eventually see how these distribution affect the support vector machine."
      ]
    },
    {
      "cell_type": "code",
      "metadata": {
        "id": "_YQTtTBX0LfN",
        "colab_type": "code",
        "colab": {}
      },
      "source": [
        "features1 = np.array([[-7,1],[-8,-1,],[-3,-2],[1,1],[2,1],[3,2],[3,1],[3,0]]) #features\n",
        "labels1 = np.array([1,1,1,2,2,2,2,2]) #labels\n",
        "\n",
        "features2 = np.array([[-7,1],[-8,-1,],[-3,-2],[1,1],[2,1],[3,2],[3,1],[3,0],[4,-2],[4.2,-3.2,],[3.8,-3.3],[3.9,-4.1],[4.3,-3]])\n",
        "labels2 = np.array([1,1,1,2,2,2,2,2,3,3,3,3,3])\n",
        "\n",
        "features3 = np.array([[-13,-8],[-8,-1,],[-3,-2],[1,2],[2,1],[3,6],[3,7],[3,0],[4,-2],[4.2,-3.2,],[3.8,-3.3],[3.9,-4.1],[4.3,-3]])\n",
        "labels3 = np.array([1,1,1,2,2,2,2,2,3,3,3,3,3])"
      ],
      "execution_count": 0,
      "outputs": []
    },
    {
      "cell_type": "markdown",
      "metadata": {
        "id": "77IF4VSAeE8V",
        "colab_type": "text"
      },
      "source": [
        "Let's plot our data to see what it looks like. We'll start with the first dataset, which has only two classes."
      ]
    },
    {
      "cell_type": "code",
      "metadata": {
        "id": "Mg0dHtTU0Lfg",
        "colab_type": "code",
        "outputId": "d25058dd-5f61-4ca4-d1c9-3ed742db9289",
        "colab": {
          "base_uri": "https://localhost:8080/",
          "height": 286
        }
      },
      "source": [
        "plt.scatter(features1[:,0],features1[:,1],c=labels1)"
      ],
      "execution_count": 3,
      "outputs": [
        {
          "output_type": "execute_result",
          "data": {
            "text/plain": [
              "<matplotlib.collections.PathCollection at 0x7f2933475978>"
            ]
          },
          "metadata": {
            "tags": []
          },
          "execution_count": 3
        },
        {
          "output_type": "display_data",
          "data": {
            "image/png": "[encoded data removed]",
            "text/plain": [
              "<Figure size 432x288 with 1 Axes>"
            ]
          },
          "metadata": {
            "tags": []
          }
        }
      ]
    },
    {
      "cell_type": "markdown",
      "metadata": {
        "id": "aL88se5aeUdi",
        "colab_type": "text"
      },
      "source": [
        "Next, let's see what the second dataset looks like."
      ]
    },
    {
      "cell_type": "code",
      "metadata": {
        "id": "iPiUHGXx0Lfq",
        "colab_type": "code",
        "outputId": "c478c0cf-ef48-4484-a80c-8c9a222c455f",
        "colab": {
          "base_uri": "https://localhost:8080/",
          "height": 286
        }
      },
      "source": [
        "plt.scatter(features2[:,0],features2[:,1],c=labels2)"
      ],
      "execution_count": 4,
      "outputs": [
        {
          "output_type": "execute_result",
          "data": {
            "text/plain": [
              "<matplotlib.collections.PathCollection at 0x7f2930b96c18>"
            ]
          },
          "metadata": {
            "tags": []
          },
          "execution_count": 4
        },
        {
          "output_type": "display_data",
          "data": {
            "image/png": "[encoded data removed]",
            "text/plain": [
              "<Figure size 432x288 with 1 Axes>"
            ]
          },
          "metadata": {
            "tags": []
          }
        }
      ]
    },
    {
      "cell_type": "markdown",
      "metadata": {
        "id": "Y_ZjwFHMecGM",
        "colab_type": "text"
      },
      "source": [
        "Finally, we'll plot the third dataset."
      ]
    },
    {
      "cell_type": "code",
      "metadata": {
        "id": "ilx7EaaXeglq",
        "colab_type": "code",
        "colab": {
          "base_uri": "https://localhost:8080/",
          "height": 286
        },
        "outputId": "4612a4ed-e145-4b82-e125-c93444b3f5a8"
      },
      "source": [
        "plt.scatter(features3[:,0],features3[:,1],c=labels3)"
      ],
      "execution_count": 5,
      "outputs": [
        {
          "output_type": "execute_result",
          "data": {
            "text/plain": [
              "<matplotlib.collections.PathCollection at 0x7f2930b7d240>"
            ]
          },
          "metadata": {
            "tags": []
          },
          "execution_count": 5
        },
        {
          "output_type": "display_data",
          "data": {
            "image/png": "[encoded data removed]",
            "text/plain": [
              "<Figure size 432x288 with 1 Axes>"
            ]
          },
          "metadata": {
            "tags": []
          }
        }
      ]
    },
    {
      "cell_type": "markdown",
      "metadata": {
        "id": "UZui2VbvgQgk",
        "colab_type": "text"
      },
      "source": [
        "Notice the differences in the distribution of data between the second data set and the third dataset. How do you think this will affect the support vector machine?\n",
        "\n",
        "For training a support vector machine, we'll start with the first dataset. We create a support vector machine classifier, and train it on the first dataset. Note the parameter that we use to create the support vector machine: `kernel=\"linear\"`."
      ]
    },
    {
      "cell_type": "code",
      "metadata": {
        "id": "xowKFNdNgHe8",
        "colab_type": "code",
        "colab": {}
      },
      "source": [
        "clfsvm = svm.SVC(kernel=\"linear\")\n",
        "clfsvm = clfsvm.fit(features1, labels1)"
      ],
      "execution_count": 0,
      "outputs": []
    },
    {
      "cell_type": "markdown",
      "metadata": {
        "id": "6es_kdKDenkq",
        "colab_type": "text"
      },
      "source": [
        "We've training our support vector machine, and now we'd like to see what it does. As we did when visualizing the results of a decision tree, we'll want to color in the different regions of our graph. To do this, we use the same functions that we used previously to make a grid of points, which will then be classified in order to figure out how to color the graph.\n",
        "\n",
        "(This is code from http://scikit-learn.org/stable/auto_examples/svm/plot_iris.html.)"
      ]
    },
    {
      "cell_type": "code",
      "metadata": {
        "id": "agHxUjjq0Lfv",
        "colab_type": "code",
        "colab": {}
      },
      "source": [
        "# this function creates the grid of points\n",
        "def make_meshgrid(x, y, h=.02):\n",
        "    \"\"\"Create a mesh of points to plot in\n",
        "\n",
        "    Parameters\n",
        "    ----------\n",
        "    x: data to base x-axis meshgrid on\n",
        "    y: data to base y-axis meshgrid on\n",
        "    h: stepsize for meshgrid, optional\n",
        "\n",
        "    Returns\n",
        "    -------\n",
        "    xx, yy : ndarray\n",
        "    \"\"\"\n",
        "    x_min, x_max = x.min() - 1, x.max() + 1\n",
        "    y_min, y_max = y.min() - 1, y.max() + 1\n",
        "    xx, yy = np.meshgrid(np.arange(x_min, x_max, h),\n",
        "                         np.arange(y_min, y_max, h))\n",
        "    return xx, yy\n",
        "\n",
        "# This takes in the graph axes, the model, the grid above, and plots the colors\n",
        "def plot_contours(ax, clf, xx, yy, **params):\n",
        "    \"\"\"Plot the decision boundaries for a classifier.\n",
        "\n",
        "    Parameters\n",
        "    ----------\n",
        "    ax: matplotlib axes object\n",
        "    clf: a classifier\n",
        "    xx: meshgrid ndarray\n",
        "    yy: meshgrid ndarray\n",
        "    params: dictionary of params to pass to contourf, optional\n",
        "    \"\"\"\n",
        "    Z = clf.predict(np.c_[xx.ravel(), yy.ravel()])\n",
        "    Z = Z.reshape(xx.shape)\n",
        "    out = ax.contourf(xx, yy, Z, **params)\n",
        "    return out"
      ],
      "execution_count": 0,
      "outputs": []
    },
    {
      "cell_type": "markdown",
      "metadata": {
        "id": "5Ay20zSSfxeq",
        "colab_type": "text"
      },
      "source": [
        "Now we use these functions to plot our data and regions."
      ]
    },
    {
      "cell_type": "code",
      "metadata": {
        "id": "yfXBqzDk0Lf0",
        "colab_type": "code",
        "colab": {
          "base_uri": "https://localhost:8080/",
          "height": 269
        },
        "outputId": "d766b9d7-458f-4492-a540-629d77f570df"
      },
      "source": [
        "X=features1\n",
        "\n",
        "# this splits the data into x and y components, and makes the grid based on the data\n",
        "X0, X1 = X[:, 0], X[:, 1]\n",
        "xx, yy = make_meshgrid(X0, X1)\n",
        "\n",
        "# we create our plot\n",
        "fig, ax = plt.subplots()\n",
        "# this colors in the regions\n",
        "plot_contours(ax, clfsvm, xx, yy)\n",
        "# this plots our data points.\n",
        "ax.scatter(X0, X1)\n",
        "# this shows our plot\n",
        "plt.show()"
      ],
      "execution_count": 8,
      "outputs": [
        {
          "output_type": "display_data",
          "data": {
            "image/png": "[encoded data removed]",
            "text/plain": [
              "<Figure size 432x288 with 1 Axes>"
            ]
          },
          "metadata": {
            "tags": []
          }
        }
      ]
    },
    {
      "cell_type": "markdown",
      "metadata": {
        "id": "wmwMNGATh9Vl",
        "colab_type": "text"
      },
      "source": [
        "Next, let's train a support vector machine using the second dataset, and color in the regions. Again, we'll stick with linear boundaries."
      ]
    },
    {
      "cell_type": "code",
      "metadata": {
        "id": "qIVdKB0riIe9",
        "colab_type": "code",
        "colab": {
          "base_uri": "https://localhost:8080/",
          "height": 269
        },
        "outputId": "1a86349f-122e-4125-a7d6-39391642e03a"
      },
      "source": [
        "# this creates and trains the support vector machine classifier\n",
        "clfsvm = svm.SVC(kernel=\"linear\")\n",
        "clfsvm = clfsvm.fit(features2, labels2)\n",
        "\n",
        "X=features2\n",
        "\n",
        "# this splits the data into x and y components, and makes the grid based on the data\n",
        "X0, X1 = X[:, 0], X[:, 1]\n",
        "xx, yy = make_meshgrid(X0, X1)\n",
        "\n",
        "# we create our plot\n",
        "fig, ax = plt.subplots()\n",
        "# this colors in the regions\n",
        "plot_contours(ax, clfsvm, xx, yy)\n",
        "# this plots our data points.\n",
        "ax.scatter(X0, X1)\n",
        "# this shows our plot\n",
        "plt.show()"
      ],
      "execution_count": 9,
      "outputs": [
        {
          "output_type": "display_data",
          "data": {
            "image/png": "[encoded data removed]",
            "text/plain": [
              "<Figure size 432x288 with 1 Axes>"
            ]
          },
          "metadata": {
            "tags": []
          }
        }
      ]
    },
    {
      "cell_type": "markdown",
      "metadata": {
        "id": "JiD3NWkuiZ0B",
        "colab_type": "text"
      },
      "source": [
        "Finally, we use the third dataset."
      ]
    },
    {
      "cell_type": "code",
      "metadata": {
        "id": "dMK6d2C_iika",
        "colab_type": "code",
        "colab": {
          "base_uri": "https://localhost:8080/",
          "height": 270
        },
        "outputId": "dd72e75d-d534-4ff1-f522-b2074aac9ed2"
      },
      "source": [
        "# this creates and trains the support vector machine classifier\n",
        "clfsvm = svm.SVC(kernel=\"linear\")\n",
        "clfsvm = clfsvm.fit(features3, labels3)\n",
        "\n",
        "X=features3\n",
        "\n",
        "# this splits the data into x and y components, and makes the grid based on the data\n",
        "X0, X1 = X[:, 0], X[:, 1]\n",
        "xx, yy = make_meshgrid(X0, X1)\n",
        "\n",
        "# we create our plot\n",
        "fig, ax = plt.subplots()\n",
        "# this colors in the regions\n",
        "plot_contours(ax, clfsvm, xx, yy)\n",
        "# this plots our data points.\n",
        "ax.scatter(X0, X1)\n",
        "# this shows our plot\n",
        "plt.show()"
      ],
      "execution_count": 10,
      "outputs": [
        {
          "output_type": "display_data",
          "data": {
            "image/png": "[encoded data removed]",
            "text/plain": [
              "<Figure size 432x288 with 1 Axes>"
            ]
          },
          "metadata": {
            "tags": []
          }
        }
      ]
    },
    {
      "cell_type": "markdown",
      "metadata": {
        "id": "u0RiwJItiwbo",
        "colab_type": "text"
      },
      "source": [
        "Compare this with the regions for the second dataset. Does it look very different? Do the points away from the boundaries make much of a difference?\n",
        "\n",
        "Now that we've had a chance to play around with some fake data, let's try using support vector machines for some real data! We'll use both the iris dataset (which we used with the $k$-nearest neighbor algorithm) and the breast cancer dataset (which we used with decision trees).\n",
        "\n",
        "# Iris Dataset\n",
        "\n",
        "We'll start by importing the iris data. You can find a lot more examples of working with the iris data at http://scikit-learn.org/stable/tutorial/statistical_inference/supervised_learning.html."
      ]
    },
    {
      "cell_type": "code",
      "metadata": {
        "id": "b7iMDpv90LgJ",
        "colab_type": "code",
        "colab": {}
      },
      "source": [
        "from sklearn import datasets\n",
        "iris = datasets.load_iris()\n",
        "\n",
        "# We'll use the same names as the scikit-learn tutorial so that you can use that code if you like\n",
        "iris_X = iris.data # this is our data\n",
        "iris_y = iris.target # these are the labels"
      ],
      "execution_count": 0,
      "outputs": []
    },
    {
      "cell_type": "markdown",
      "metadata": {
        "id": "A-vizUYs0LgL",
        "colab_type": "text"
      },
      "source": [
        "We could use the split our data into a training and testing set using the `train_test_split` function from scikit-learn, but let's try doing something different this time. We'll mix up the data randomly using the `permutation` function in numpy, and then use the first part of the data for training, and the last ten data points for testing."
      ]
    },
    {
      "cell_type": "code",
      "metadata": {
        "id": "EZbpHMOn0LgM",
        "colab_type": "code",
        "colab": {}
      },
      "source": [
        "# We pick a random seed (a random starting point)\n",
        "np.random.seed(0)\n",
        "# then permute the data randomly!\n",
        "indices = np.random.permutation(len(iris_X))\n",
        "# Take everything but the last 10 points for training\n",
        "iris_X_train = iris_X[indices[:-10]]\n",
        "iris_y_train = iris_y[indices[:-10]]\n",
        "# take those 10 points for testing\n",
        "iris_X_test  = iris_X[indices[-10:]]\n",
        "iris_y_test  = iris_y[indices[-10:]]"
      ],
      "execution_count": 0,
      "outputs": []
    },
    {
      "cell_type": "markdown",
      "metadata": {
        "id": "1jDf0VZ_oAIx",
        "colab_type": "text"
      },
      "source": [
        "Next, we use our training set to train a support vector machine classifier, with linear boundaries."
      ]
    },
    {
      "cell_type": "code",
      "metadata": {
        "id": "RlTPDsL50LgO",
        "colab_type": "code",
        "colab": {}
      },
      "source": [
        "svc = svm.SVC(kernel='linear')\n",
        "svc = svc.fit(iris_X_train, iris_y_train)"
      ],
      "execution_count": 0,
      "outputs": []
    },
    {
      "cell_type": "markdown",
      "metadata": {
        "id": "kxqMIo2woQAe",
        "colab_type": "text"
      },
      "source": [
        "Now that we've trained our classifier, let's use it to try to predict the classes of our test data."
      ]
    },
    {
      "cell_type": "code",
      "metadata": {
        "id": "vHNle88ToYXo",
        "colab_type": "code",
        "colab": {}
      },
      "source": [
        "y_pred = svc.predict(iris_X_test)"
      ],
      "execution_count": 0,
      "outputs": []
    },
    {
      "cell_type": "markdown",
      "metadata": {
        "id": "mzNEKg5bobWr",
        "colab_type": "text"
      },
      "source": [
        "To see how well it performed, let's check out the confusion matrix."
      ]
    },
    {
      "cell_type": "code",
      "metadata": {
        "id": "Mr8X8DXvowxP",
        "colab_type": "code",
        "colab": {
          "base_uri": "https://localhost:8080/",
          "height": 68
        },
        "outputId": "ec35ed1f-f18f-495b-bf22-a61d7e9990f4"
      },
      "source": [
        "confusion_matrix(iris_y_test, y_pred)"
      ],
      "execution_count": 15,
      "outputs": [
        {
          "output_type": "execute_result",
          "data": {
            "text/plain": [
              "array([[4, 0, 0],\n",
              "       [0, 3, 1],\n",
              "       [0, 0, 2]])"
            ]
          },
          "metadata": {
            "tags": []
          },
          "execution_count": 15
        }
      ]
    },
    {
      "cell_type": "markdown",
      "metadata": {
        "id": "vJkfmpgn0LgS",
        "colab_type": "text"
      },
      "source": [
        "We can also compute the accuracy score."
      ]
    },
    {
      "cell_type": "code",
      "metadata": {
        "id": "vcxD8ONC0LgS",
        "colab_type": "code",
        "outputId": "16936968-2ecc-454d-d649-e313a0b77b08",
        "colab": {
          "base_uri": "https://localhost:8080/",
          "height": 34
        }
      },
      "source": [
        "accuracy_score(y_pred, iris_y_test)"
      ],
      "execution_count": 16,
      "outputs": [
        {
          "output_type": "execute_result",
          "data": {
            "text/plain": [
              "0.9"
            ]
          },
          "metadata": {
            "tags": []
          },
          "execution_count": 16
        }
      ]
    },
    {
      "cell_type": "markdown",
      "metadata": {
        "id": "wUvHG1yK0LgX",
        "colab_type": "text"
      },
      "source": [
        "What do you think of the accuracy of our predictions? How does it compare to the results of the $k$-nearest neighbor algorithm?\n",
        "\n",
        "# Breast Cancer Dataset\n",
        "\n",
        "Next, let's use support vector machines for classification on the breast cancer dataset. We start by importing the dataset."
      ]
    },
    {
      "cell_type": "code",
      "metadata": {
        "id": "sN0wAn_6psQ9",
        "colab_type": "code",
        "colab": {}
      },
      "source": [
        "bcdata = datasets.load_breast_cancer()\n",
        "\n",
        "bc_X = bcdata.data\n",
        "bc_y = bcdata.target"
      ],
      "execution_count": 0,
      "outputs": []
    },
    {
      "cell_type": "markdown",
      "metadata": {
        "id": "SvZ4em87qHhv",
        "colab_type": "text"
      },
      "source": [
        "This time, let's use the `test_train_split` function to split our data."
      ]
    },
    {
      "cell_type": "code",
      "metadata": {
        "id": "E8JD5kDeqNP0",
        "colab_type": "code",
        "colab": {}
      },
      "source": [
        "from sklearn.model_selection import train_test_split\n",
        "\n",
        "bc_X_train, bc_X_test, bc_y_train, bc_y_test = train_test_split(bc_X, bc_y, test_size=0.25, random_state=27)"
      ],
      "execution_count": 0,
      "outputs": []
    },
    {
      "cell_type": "markdown",
      "metadata": {
        "id": "7PyVfzXmqZMy",
        "colab_type": "text"
      },
      "source": [
        "Now, we'll train our classifier."
      ]
    },
    {
      "cell_type": "code",
      "metadata": {
        "id": "C5aJF_oBqV44",
        "colab_type": "code",
        "colab": {}
      },
      "source": [
        "svc = svm.SVC(kernel='linear')\n",
        "svc = svc.fit(bc_X_train, bc_y_train)"
      ],
      "execution_count": 0,
      "outputs": []
    },
    {
      "cell_type": "markdown",
      "metadata": {
        "id": "gEXOtQ-Pqm-l",
        "colab_type": "text"
      },
      "source": [
        "Then we use the classifier to attempt to predict the classes of the test set."
      ]
    },
    {
      "cell_type": "code",
      "metadata": {
        "id": "iw9TF01dqhwA",
        "colab_type": "code",
        "colab": {}
      },
      "source": [
        "y_pred = svc.predict(bc_X_test)"
      ],
      "execution_count": 0,
      "outputs": []
    },
    {
      "cell_type": "markdown",
      "metadata": {
        "id": "c5YicaLKq-u9",
        "colab_type": "text"
      },
      "source": [
        "We compute the confusion matrix."
      ]
    },
    {
      "cell_type": "code",
      "metadata": {
        "id": "YOkmJc4Dqv6K",
        "colab_type": "code",
        "colab": {
          "base_uri": "https://localhost:8080/",
          "height": 51
        },
        "outputId": "5c61cda7-e97c-4d31-9320-d277749fcde6"
      },
      "source": [
        "confusion_matrix(bc_y_test, y_pred)"
      ],
      "execution_count": 21,
      "outputs": [
        {
          "output_type": "execute_result",
          "data": {
            "text/plain": [
              "array([[51,  6],\n",
              "       [ 1, 85]])"
            ]
          },
          "metadata": {
            "tags": []
          },
          "execution_count": 21
        }
      ]
    },
    {
      "cell_type": "markdown",
      "metadata": {
        "id": "q6R6Fx-GrD99",
        "colab_type": "text"
      },
      "source": [
        "Finally, we compute the accuracy score."
      ]
    },
    {
      "cell_type": "code",
      "metadata": {
        "id": "SHLMcmLorCuU",
        "colab_type": "code",
        "colab": {
          "base_uri": "https://localhost:8080/",
          "height": 34
        },
        "outputId": "5204a8aa-0c29-4cd1-e024-edc110cd23f4"
      },
      "source": [
        "accuracy_score(y_pred, bc_y_test)"
      ],
      "execution_count": 22,
      "outputs": [
        {
          "output_type": "execute_result",
          "data": {
            "text/plain": [
              "0.951048951048951"
            ]
          },
          "metadata": {
            "tags": []
          },
          "execution_count": 22
        }
      ]
    },
    {
      "cell_type": "markdown",
      "metadata": {
        "id": "dtQ1COfVrH9n",
        "colab_type": "text"
      },
      "source": [
        "What do you think of the accuracy of this model? How does it compare to our decision tree?"
      ]
    }
  ]
}